{
 "cells": [
  {
   "cell_type": "markdown",
   "id": "108b02e9",
   "metadata": {},
   "source": [
    "- MNIST jeu de données contenant 60.000 images d'entraînement et 10.000images de test\n",
    "- L'ensemble de données MNIST contient des chiffres manuscrits de 0 à 9\n",
    "- une image à un seul chiffre peut être représenté sous forme de tableau: 28 X 28 Pixels: la valeur 0 repésente le noir et 1 le blanc\n",
    "- Ces valeurs sont en niveau de gris, représentant un seul canal de couleurs\n",
    "- souvent avec les données d'images, il faut les normaliser pour qu'elle soit comprise entre 0 et 1\n",
    "- On peut considérer le groupe entier des 60.000 images comme un tableau en 4 dimensions de 60.000 images de 1 canal de 28 pixels par 28\n",
    "- on a la dimension pour toutes les images, la dimension pour toutes les couleurs= 1, ensuite la dimension pour les X et y, soit 28: (60.000,28,28,1)-->(Samples,X,Y,channels)\n",
    "- Pour les images en couleur, la dernière valeure de dimension serait 3 (RGB)\n",
    "- Pour les labels, utilisation de l'encodage One-Hot encoding cad au lieu d'avoir des labels tels que:'un' ,'deux', on aura un seul tableau pour chaque image.\n",
    "- les labels d'origine sont données en tant que de nombre par ex:[5,0,4..,5,6] d'où la conversion en one-hot encoding\n",
    "- le label est représenté en fonction de la position de l'index dans le tableau de labels\n",
    "- le label correspondant sera un 1 à l'emplacement de l'index et 0 partout ailleurs\n",
    "- par exemple 4 aurait ce tableau: [0,0,0,1,0,0,0]"
   ]
  },
  {
   "cell_type": "code",
   "execution_count": 1,
   "id": "ded3261d",
   "metadata": {},
   "outputs": [],
   "source": [
    "import pandas as pd\n",
    "import numpy as np\n",
    "import matplotlib.pyplot as plt"
   ]
  },
  {
   "cell_type": "code",
   "execution_count": 2,
   "id": "8f3e56e4",
   "metadata": {
    "collapsed": true
   },
   "outputs": [
    {
     "name": "stderr",
     "output_type": "stream",
     "text": [
      "2022-04-21 15:26:00.415041: W tensorflow/stream_executor/platform/default/dso_loader.cc:64] Could not load dynamic library 'libcudart.so.11.0'; dlerror: libcudart.so.11.0: cannot open shared object file: No such file or directory\n",
      "2022-04-21 15:26:00.415064: I tensorflow/stream_executor/cuda/cudart_stub.cc:29] Ignore above cudart dlerror if you do not have a GPU set up on your machine.\n"
     ]
    }
   ],
   "source": [
    "# import du jeu de données MNIST\n",
    "from tensorflow.keras.datasets import mnist"
   ]
  },
  {
   "cell_type": "code",
   "execution_count": 3,
   "id": "1dff2a30",
   "metadata": {},
   "outputs": [],
   "source": [
    "# Chargement des données en utilisant la méthode mnsit.load()\n",
    "(x_train,y_train),(x_test,y_test)=mnist.load_data()"
   ]
  },
  {
   "cell_type": "code",
   "execution_count": 4,
   "id": "bae17a71",
   "metadata": {},
   "outputs": [
    {
     "data": {
      "text/plain": [
       "(60000, 28, 28)"
      ]
     },
     "execution_count": 4,
     "metadata": {},
     "output_type": "execute_result"
    }
   ],
   "source": [
    "x_train.shape"
   ]
  },
  {
   "cell_type": "code",
   "execution_count": 5,
   "id": "b5e7ab63",
   "metadata": {},
   "outputs": [
    {
     "data": {
      "text/plain": [
       "(28, 28)"
      ]
     },
     "execution_count": 5,
     "metadata": {},
     "output_type": "execute_result"
    }
   ],
   "source": [
    "# voir la première image et sa forme\n",
    "single_image=x_train[0]\n",
    "single_image.shape"
   ]
  },
  {
   "cell_type": "code",
   "execution_count": 6,
   "id": "40e5493c",
   "metadata": {},
   "outputs": [
    {
     "data": {
      "text/plain": [
       "255"
      ]
     },
     "execution_count": 6,
     "metadata": {},
     "output_type": "execute_result"
    }
   ],
   "source": [
    "# pour voir la valeur max\n",
    "single_image.max()"
   ]
  },
  {
   "cell_type": "code",
   "execution_count": 7,
   "id": "4f0633c6",
   "metadata": {},
   "outputs": [
    {
     "data": {
      "text/plain": [
       "<matplotlib.image.AxesImage at 0x7f517961b2e0>"
      ]
     },
     "execution_count": 7,
     "metadata": {},
     "output_type": "execute_result"
    },
    {
     "data": {
      "image/png": "[encoded data removed]",
      "text/plain": [
       "<Figure size 432x288 with 1 Axes>"
      ]
     },
     "metadata": {
      "needs_background": "light"
     },
     "output_type": "display_data"
    }
   ],
   "source": [
    "# Pour les images en deux dimensions: utilisation de la fonction: imshow de matplotlib(affichage des objets tableau de dimension 2)\n",
    "# On voit des valeurs très claires pour des points proche de 0 et des valeurs très foncées proche des point de 255\n",
    "plt.imshow(single_image)"
   ]
  },
  {
   "cell_type": "code",
   "execution_count": 9,
   "id": "cae469cb",
   "metadata": {},
   "outputs": [
    {
     "data": {
      "text/plain": [
       "array([5, 0, 4, ..., 5, 6, 8], dtype=uint8)"
      ]
     },
     "execution_count": 9,
     "metadata": {},
     "output_type": "execute_result"
    }
   ],
   "source": [
    "# Exploration des étiquettes ou labels:y\n",
    "y_train\n",
    "# le label à comme première valeur 5 qui correspond à notre première valeur du set d'entrâinement X_train\n",
    "# les labels sont littéralement les chiffres qu'il représente\n",
    "#la première valeur n'est pas une valeur mais une catégorie: donc il s'agit d'un problème de classification"
   ]
  },
  {
   "cell_type": "code",
   "execution_count": 10,
   "id": "7eb7fb45",
   "metadata": {},
   "outputs": [],
   "source": [
    "# Encodage des labels avec One-Hot Encoding\n",
    "from tensorflow.keras.utils import to_categorical"
   ]
  },
  {
   "cell_type": "code",
   "execution_count": 11,
   "id": "25c6257e",
   "metadata": {},
   "outputs": [
    {
     "data": {
      "text/plain": [
       "(60000,)"
      ]
     },
     "execution_count": 11,
     "metadata": {},
     "output_type": "execute_result"
    }
   ],
   "source": [
    "y_train.shape\n",
    "# Cela retourne 60.000 chiffres étiquettés dans les labels. il faut les encoder en one-hot afin que chacun de ces chiffres représente une catégorie"
   ]
  },
  {
   "cell_type": "code",
   "execution_count": 13,
   "id": "d485da05",
   "metadata": {},
   "outputs": [],
   "source": [
    "#to_categorical cette fonction convertit un vecteur de classe d'entier en une matrice de classe 1 ou 0\n",
    "y_examples=to_categorical(y_train)"
   ]
  },
  {
   "cell_type": "code",
   "execution_count": 15,
   "id": "c52d777e",
   "metadata": {},
   "outputs": [
    {
     "data": {
      "text/plain": [
       "(60000, 10)"
      ]
     },
     "execution_count": 15,
     "metadata": {},
     "output_type": "execute_result"
    }
   ],
   "source": [
    "y_examples.shape"
   ]
  },
  {
   "cell_type": "code",
   "execution_count": 16,
   "id": "6e92a638",
   "metadata": {},
   "outputs": [],
   "source": [
    "# Conversion à la fois les labels d'entraînement et labels de test en label catégorielle avec one-hot encoding\n",
    "y_cat_test=to_categorical(y_test,num_classes=10)\n",
    "y_cat_train=to_categorical(y_train,num_classes=10)"
   ]
  },
  {
   "cell_type": "code",
   "execution_count": 17,
   "id": "63089042",
   "metadata": {},
   "outputs": [],
   "source": [
    "# Normalisation des données d'entraînement avec la méthode MinMaxScaler\n",
    "# données d'entraînement sont les données d'images \n",
    "x_train=x_train/255\n",
    "x_test=x_test/255"
   ]
  },
  {
   "cell_type": "code",
   "execution_count": 18,
   "id": "810c3d3a",
   "metadata": {},
   "outputs": [],
   "source": [
    "scaled_image=x_train[0]"
   ]
  },
  {
   "cell_type": "code",
   "execution_count": 19,
   "id": "8c0fc987",
   "metadata": {},
   "outputs": [
    {
     "data": {
      "text/plain": [
       "<matplotlib.image.AxesImage at 0x7f5179ddb7f0>"
      ]
     },
     "execution_count": 19,
     "metadata": {},
     "output_type": "execute_result"
    },
    {
     "data": {
      "image/png": "[encoded data removed]",
      "text/plain": [
       "<Figure size 432x288 with 1 Axes>"
      ]
     },
     "metadata": {
      "needs_background": "light"
     },
     "output_type": "display_data"
    }
   ],
   "source": [
    "# Affichage de l'image\n",
    "plt.imshow(scaled_image)"
   ]
  },
  {
   "cell_type": "markdown",
   "id": "e7b285bd",
   "metadata": {},
   "source": [
    " reshape les données en ajoutant le canal de couleur pour obtenir le format que le réseau de neurones attend\n",
    " - regardons la form x_train\n",
    "-  on obtient 60.000 par 28 par 28, tout à fait correct pour un CNN mais on besoin de rajouter une dimension supplémentaire  pour permettre au réseau de savoir quel'on traite un seul canal de couleur RGB\n",
    "-  les images sont en noir et blanc donc 1 seul canal de couleur, avant la normalisation c'était de 0 à 255\n",
    "\n",
    "- en première valeur on aura batch_size(taille du lot sur le nbre d'image)\n",
    "-  width (la largeur)\n",
    "-  hauteur(heigth)\n",
    "- color_channel (canal de couleur)"
   ]
  },
  {
   "cell_type": "code",
   "execution_count": 20,
   "id": "83f0b255",
   "metadata": {},
   "outputs": [
    {
     "data": {
      "text/plain": [
       "(60000, 28, 28)"
      ]
     },
     "execution_count": 20,
     "metadata": {},
     "output_type": "execute_result"
    }
   ],
   "source": [
    "# regardons la form x_train\n",
    "x_train.shape"
   ]
  },
  {
   "cell_type": "code",
   "execution_count": 21,
   "id": "ccfea1d1",
   "metadata": {},
   "outputs": [],
   "source": [
    "# batch_size,width,heigth,color_channel\n",
    "x_train=x_train.reshape(60000,28,28,1)\n",
    "x_test=x_test.reshape(10000,28,28,1)\n"
   ]
  },
  {
   "cell_type": "markdown",
   "id": "cc11d36e",
   "metadata": {},
   "source": [
    "# Création du modèle CNN et entraînement\n",
    "- couche flatten: pour transformer nos données multi-dimensionnelles en un vecteur uni-dimensionnel. ceci afin que nos données images d'adaptent à notre couche dense finale qui effectuera la classification\n",
    "\n",
    "- la première couche c'est la Conv2D avec ces paramètres:\n",
    "\n",
    "  * filters:plus les images sont grandes plus il y a de classes de classifications plus on devrait avoir de filtres. choix du nombre de filtre en prenant une puissance de 2\n",
    "\n",
    "  * Kernel_size: taille du noyaux,une bonne taille 4 X 4\n",
    "\n",
    "  * strides:taille du pas qu'on utilise lorsque l'on déplace le noyaux sur une image . le choix dépend\n",
    "\n",
    "  * padding:soit valide:n'applique aucun padding ou rembourage sur le bord de l'image. on suppose que toutes les dimensions sont valides de sortes que les dimensions soient entièrement couverte par le noyau et le stride spécifié: 28/4=7, mais si on dépasse il faut rembourer\n",
    "  \n",
    "  * Input_shape: pour définir la forme des entrées attendues. il s'agit de la forme ou shape d'une seule image\n",
    "\n",
    "  * Activation='relu'\n",
    "\n",
    "- deuxième couche: couche de pooling avec le paramètre le plus important pool_size(moitié de la taille du noyau)"
   ]
  },
  {
   "cell_type": "code",
   "execution_count": 23,
   "id": "471fcb78",
   "metadata": {},
   "outputs": [],
   "source": [
    "from tensorflow.keras.models import Sequential\n",
    "from tensorflow.keras.layers import Dense,Conv2D,MaxPool2D, Flatten"
   ]
  },
  {
   "cell_type": "code",
   "execution_count": 24,
   "id": "5dd64b50",
   "metadata": {
    "collapsed": true
   },
   "outputs": [
    {
     "name": "stderr",
     "output_type": "stream",
     "text": [
      "2022-04-21 15:45:59.908798: W tensorflow/stream_executor/platform/default/dso_loader.cc:64] Could not load dynamic library 'libcuda.so.1'; dlerror: libcuda.so.1: cannot open shared object file: No such file or directory\n",
      "2022-04-21 15:45:59.908828: W tensorflow/stream_executor/cuda/cuda_driver.cc:269] failed call to cuInit: UNKNOWN ERROR (303)\n",
      "2022-04-21 15:45:59.908851: I tensorflow/stream_executor/cuda/cuda_diagnostics.cc:156] kernel driver does not appear to be running on this host (hprisser): /proc/driver/nvidia/version does not exist\n",
      "2022-04-21 15:45:59.909081: I tensorflow/core/platform/cpu_feature_guard.cc:151] This TensorFlow binary is optimized with oneAPI Deep Neural Network Library (oneDNN) to use the following CPU instructions in performance-critical operations:  AVX2 FMA\n",
      "To enable them in other operations, rebuild TensorFlow with the appropriate compiler flags.\n"
     ]
    }
   ],
   "source": [
    "# construction du modèle\n",
    "model=Sequential()\n",
    "\n",
    "model.add(Conv2D(filters=32,kernel_size=(4,4),input_shape=(28,28,1),activation='relu'))\n",
    "model.add(MaxPool2D(pool_size=(2,2)))\n",
    "\n",
    "model.add(Flatten())\n",
    "\n",
    "model.add(Dense(128,activation='relu'))\n",
    "\n",
    "model.add(Dense(10,activation='softmax'))\n",
    "\n",
    "# keras.io/metrics\n",
    "model.compile(loss='categorical_crossentropy', optimizer='adam', metrics=['accuracy'])"
   ]
  },
  {
   "cell_type": "raw",
   "id": "8ac0217b",
   "metadata": {},
   "source": [
    "# paramètre fixes déterminé par le data set\n",
    "# input_shape: doivent matcher avec ce à quoi ressemble les images ici(28,28,1 canal de couleur)\n",
    "# couche flatten: après la couche de con et de pool il faut applatir les données \n",
    "# la couche dense finale: dit avoir autant de neurones que de classes: 10 classes possibles pour les chiffres de 0 à 9\n",
    "# fonction d'ativation: Softmax\n",
    "# la loss: \n",
    "# paramètre avec lesquelles on peut jouer\n",
    "# ajout d'autant de couche de conv et de pool que l'on souhaite\n",
    "# filters/kernel_size/ et le pool_size de la couche de pooling\n",
    "# la padding\n",
    "# après avoir applatit les données on peut jouer avec le nombre de couche Dense ainsi que le nombre de neurones dans ces couches, on peut en mettre  après la couche Flatten"
   ]
  },
  {
   "cell_type": "code",
   "execution_count": 25,
   "id": "20ab4595",
   "metadata": {},
   "outputs": [],
   "source": [
    "# mise en place d'un callbacks  Eralystopping pour anticiper l'arrêt si besoin\n",
    "from tensorflow.keras.callbacks import EarlyStopping\n",
    "early_stop=EarlyStopping(monitor='val_loss', patience=1)"
   ]
  },
  {
   "cell_type": "code",
   "execution_count": 26,
   "id": "69892553",
   "metadata": {},
   "outputs": [
    {
     "name": "stdout",
     "output_type": "stream",
     "text": [
      "Epoch 1/10\n"
     ]
    },
    {
     "name": "stderr",
     "output_type": "stream",
     "text": [
      "2022-04-21 15:47:26.728478: W tensorflow/core/framework/cpu_allocator_impl.cc:82] Allocation of 188160000 exceeds 10% of free system memory.\n"
     ]
    },
    {
     "name": "stdout",
     "output_type": "stream",
     "text": [
      "1875/1875 [==============================] - 28s 15ms/step - loss: 0.1449 - accuracy: 0.9571 - val_loss: 0.0560 - val_accuracy: 0.9819\n",
      "Epoch 2/10\n",
      "1875/1875 [==============================] - 24s 13ms/step - loss: 0.0482 - accuracy: 0.9852 - val_loss: 0.0541 - val_accuracy: 0.9819\n",
      "Epoch 3/10\n",
      "1875/1875 [==============================] - 20s 10ms/step - loss: 0.0320 - accuracy: 0.9900 - val_loss: 0.0415 - val_accuracy: 0.9858\n",
      "Epoch 4/10\n",
      "1875/1875 [==============================] - 21s 11ms/step - loss: 0.0208 - accuracy: 0.9933 - val_loss: 0.0391 - val_accuracy: 0.9878\n",
      "Epoch 5/10\n",
      "1875/1875 [==============================] - 19s 10ms/step - loss: 0.0149 - accuracy: 0.9950 - val_loss: 0.0439 - val_accuracy: 0.9866\n"
     ]
    },
    {
     "data": {
      "text/plain": [
       "<keras.callbacks.History at 0x7f5179c2efd0>"
      ]
     },
     "execution_count": 26,
     "metadata": {},
     "output_type": "execute_result"
    }
   ],
   "source": [
    "# entraînment du modèle\n",
    "model.fit(x_train,y_cat_train,epochs=10,validation_data=(x_test,y_cat_test),callbacks=[early_stop])"
   ]
  },
  {
   "cell_type": "markdown",
   "id": "00a30ad3",
   "metadata": {},
   "source": [
    "# Evaluation du modèle"
   ]
  },
  {
   "cell_type": "code",
   "execution_count": 27,
   "id": "5884e575",
   "metadata": {},
   "outputs": [
    {
     "data": {
      "text/plain": [
       "<AxesSubplot:>"
      ]
     },
     "execution_count": 27,
     "metadata": {},
     "output_type": "execute_result"
    },
    {
     "data": {
      "image/png": "[encoded data removed]",
      "text/plain": [
       "<Figure size 432x288 with 1 Axes>"
      ]
     },
     "metadata": {
      "needs_background": "light"
     },
     "output_type": "display_data"
    }
   ],
   "source": [
    "metric=pd.DataFrame(model.history.history)\n",
    "metric[['loss','val_loss']].plot()"
   ]
  },
  {
   "cell_type": "code",
   "execution_count": 28,
   "id": "658f78cf",
   "metadata": {},
   "outputs": [
    {
     "data": {
      "text/plain": [
       "<AxesSubplot:>"
      ]
     },
     "execution_count": 28,
     "metadata": {},
     "output_type": "execute_result"
    },
    {
     "data": {
      "image/png": "[encoded data removed]",
      "text/plain": [
       "<Figure size 432x288 with 1 Axes>"
      ]
     },
     "metadata": {
      "needs_background": "light"
     },
     "output_type": "display_data"
    }
   ],
   "source": [
    "# Tracer l'accuracy pour l'entraînement et la validation\n",
    "metric[['accuracy','val_accuracy']].plot()"
   ]
  },
  {
   "cell_type": "code",
   "execution_count": 29,
   "id": "0a573543",
   "metadata": {},
   "outputs": [
    {
     "data": {
      "text/plain": [
       "['loss', 'accuracy']"
      ]
     },
     "execution_count": 29,
     "metadata": {},
     "output_type": "execute_result"
    }
   ],
   "source": [
    "# Pour savoir quel metrics sont disponibles dans notre model\n",
    "model.metrics_names"
   ]
  },
  {
   "cell_type": "code",
   "execution_count": 30,
   "id": "5acaeec0",
   "metadata": {},
   "outputs": [
    {
     "data": {
      "text/plain": [
       "[0.04393346235156059, 0.9865999817848206]"
      ]
     },
     "execution_count": 30,
     "metadata": {},
     "output_type": "execute_result"
    }
   ],
   "source": [
    "# Pour avoir les valeurs des metrics: loss et accuracy\n",
    "# ce qui ressort la perte loss et l'exactitude sur le set de test\n",
    "# exactitude: calcul du pourcentage de réponse obtenu correcte\n",
    "# loss: resultat de l'entropie croisée catégorielle spécifié lors de la compilation du modèle \n",
    "model.evaluate(x_test,y_cat_test,verbose=0)"
   ]
  },
  {
   "cell_type": "code",
   "execution_count": 31,
   "id": "0a6bf544",
   "metadata": {},
   "outputs": [],
   "source": [
    "# Rapport de classification et matrice de confusion\n",
    "\n",
    "from sklearn.metrics import classification_report,confusion_matrix"
   ]
  },
  {
   "cell_type": "code",
   "execution_count": 32,
   "id": "974794d0",
   "metadata": {},
   "outputs": [
    {
     "data": {
      "text/plain": [
       "array([1.1828827e-08, 1.4304284e-08, 1.7202744e-07, 1.9346453e-07,\n",
       "       2.1171159e-11, 4.0496873e-10, 3.1315028e-15, 9.9999928e-01,\n",
       "       1.8610352e-08, 1.9456080e-07], dtype=float32)"
      ]
     },
     "execution_count": 32,
     "metadata": {},
     "output_type": "execute_result"
    }
   ],
   "source": [
    "# récupération des prédictions\n",
    "# on a une classification multiclasse avec une fonction d'activation softmax\n",
    "# on obtient un tableau en 2 dimensions avec 10 colonnes pour les 10 classes d'images et sur les lignes on a toutes nos images test\n",
    "# on a donc une probabilité par classe et on veut récupérer la classe ou catégorie de la plus grande probabilité\n",
    "# En prenant  par ex la première image x_test[0]: on obtient 10 probabilités et si on les sommes on obtient 1 pour 100%\n",
    "# la plus grande proba est 9.99 10 puissance moins 1 situé à l'index 7\n",
    "# Donc notre prédiction devrait être le type d'image 7\n",
    "model.predict(x_test)[0]"
   ]
  },
  {
   "cell_type": "code",
   "execution_count": 33,
   "id": "3ba82819",
   "metadata": {},
   "outputs": [],
   "source": [
    "# Pour obtenir l'index de la plus grande proba et obtenir la prédiction du numéro du type d'image \n",
    "# Utilisation de la fonction argmax de Numpy pour chercher l'index de la plus grande valeur mais le long des colonnes(axis=1)\n",
    "# ce qui permet de récupérer de la prédiction de la ligne de l'image de test correspondante\n",
    "predictions=np.argmax(model.predict(x_test),axis=1)"
   ]
  },
  {
   "cell_type": "code",
   "execution_count": 34,
   "id": "354fb803",
   "metadata": {},
   "outputs": [],
   "source": [
    "# rapport de classification\n",
    "rapport=classification_report(y_test,predictions)"
   ]
  },
  {
   "cell_type": "code",
   "execution_count": 36,
   "id": "94f97789",
   "metadata": {},
   "outputs": [
    {
     "name": "stdout",
     "output_type": "stream",
     "text": [
      "              precision    recall  f1-score   support\n",
      "\n",
      "           0       0.99      0.99      0.99       980\n",
      "           1       1.00      0.99      0.99      1135\n",
      "           2       0.97      0.99      0.98      1032\n",
      "           3       0.99      0.99      0.99      1010\n",
      "           4       0.99      0.99      0.99       982\n",
      "           5       0.98      0.99      0.99       892\n",
      "           6       0.99      0.99      0.99       958\n",
      "           7       0.99      0.98      0.98      1028\n",
      "           8       0.98      0.99      0.98       974\n",
      "           9       0.99      0.96      0.97      1009\n",
      "\n",
      "    accuracy                           0.99     10000\n",
      "   macro avg       0.99      0.99      0.99     10000\n",
      "weighted avg       0.99      0.99      0.99     10000\n",
      "\n"
     ]
    }
   ],
   "source": [
    "print(rapport)"
   ]
  },
  {
   "cell_type": "code",
   "execution_count": 37,
   "id": "a030e3c7",
   "metadata": {},
   "outputs": [
    {
     "name": "stdout",
     "output_type": "stream",
     "text": [
      "[[ 974    0    0    1    1    0    3    0    1    0]\n",
      " [   0 1125    4    0    0    0    2    0    4    0]\n",
      " [   1    0 1026    0    0    0    0    4    1    0]\n",
      " [   1    0    5  997    0    4    0    0    3    0]\n",
      " [   0    0    0    0  976    0    1    0    0    5]\n",
      " [   1    0    0    5    0  885    1    0    0    0]\n",
      " [   5    1    0    0    2    1  946    0    3    0]\n",
      " [   0    1   15    2    0    0    0 1004    2    4]\n",
      " [   5    0    3    0    0    1    0    0  963    2]\n",
      " [   0    2    0    5    9   11    0    6    6  970]]\n"
     ]
    }
   ],
   "source": [
    "# matrice de confusion\n",
    "cm=confusion_matrix(y_test,predictions)\n",
    "print(cm)"
   ]
  },
  {
   "cell_type": "code",
   "execution_count": 38,
   "id": "65810d0c",
   "metadata": {},
   "outputs": [
    {
     "data": {
      "text/plain": [
       "<AxesSubplot:>"
      ]
     },
     "execution_count": 38,
     "metadata": {},
     "output_type": "execute_result"
    },
    {
     "data": {
      "image/png": "[encoded data removed]",
      "text/plain": [
       "<Figure size 720x432 with 2 Axes>"
      ]
     },
     "metadata": {
      "needs_background": "light"
     },
     "output_type": "display_data"
    }
   ],
   "source": [
    "# Pour visauliser \n",
    "import seaborn as sns \n",
    "plt.figure(figsize=(10,6))\n",
    "sns.heatmap(cm,annot=True)"
   ]
  },
  {
   "cell_type": "code",
   "execution_count": 43,
   "id": "42c25c33",
   "metadata": {},
   "outputs": [],
   "source": [
    "# Faire la prédiction à partir d'une image donnée\n",
    "my_number=x_test[9]"
   ]
  },
  {
   "cell_type": "code",
   "execution_count": 44,
   "id": "e1fcef21",
   "metadata": {},
   "outputs": [
    {
     "data": {
      "text/plain": [
       "<matplotlib.image.AxesImage at 0x7f510fe26bb0>"
      ]
     },
     "execution_count": 44,
     "metadata": {},
     "output_type": "execute_result"
    },
    {
     "data": {
      "image/png": "[encoded data removed]",
      "text/plain": [
       "<Figure size 432x288 with 1 Axes>"
      ]
     },
     "metadata": {
      "needs_background": "light"
     },
     "output_type": "display_data"
    }
   ],
   "source": [
    "plt.imshow(my_number.reshape(28,28))"
   ]
  },
  {
   "cell_type": "code",
   "execution_count": 45,
   "id": "0146684e",
   "metadata": {},
   "outputs": [
    {
     "data": {
      "text/plain": [
       "array([9])"
      ]
     },
     "execution_count": 45,
     "metadata": {},
     "output_type": "execute_result"
    }
   ],
   "source": [
    "# pour remodeler(reshape), tenir compte:\n",
    "# nombre_images,width,heigth,color_channels\n",
    "# ca c'est la forme avec laquelle le modèle a été entraîné\n",
    "np.argmax(model.predict(my_number.reshape(1,28,28,1)),axis=-1)"
   ]
  },
  {
   "cell_type": "code",
   "execution_count": null,
   "id": "ba991e71",
   "metadata": {},
   "outputs": [],
   "source": []
  }
 ],
 "metadata": {
  "kernelspec": {
   "display_name": "Python 3 (ipykernel)",
   "language": "python",
   "name": "python3"
  },
  "language_info": {
   "codemirror_mode": {
    "name": "ipython",
    "version": 3
   },
   "file_extension": ".py",
   "mimetype": "text/x-python",
   "name": "python",
   "nbconvert_exporter": "python",
   "pygments_lexer": "ipython3",
   "version": "3.9.7"
  }
 },
 "nbformat": 4,
 "nbformat_minor": 5
}
