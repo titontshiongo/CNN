{
 "cells": [
  {
   "cell_type": "markdown",
   "id": "8343cc4b",
   "metadata": {},
   "source": [
    "# Traitement des images en couleurs avec le dataset CIFAR 10.\n",
    "- ce sont des images 32 x 32 de 10 objets différents: Avion, voiture, oiseau, chat, cerf, chien,grenouille,cheval,bateau,camion. Toutes en couleur"
   ]
  },
  {
   "cell_type": "code",
   "execution_count": 1,
   "id": "4a178be1",
   "metadata": {},
   "outputs": [],
   "source": [
    "# import des librairies\n",
    "import pandas as pd\n",
    "import numpy as np\n",
    "import matplotlib.pyplot as plt\n",
    "import seaborn as sns"
   ]
  },
  {
   "cell_type": "code",
   "execution_count": 2,
   "id": "c7013b1a",
   "metadata": {
    "collapsed": true
   },
   "outputs": [
    {
     "name": "stderr",
     "output_type": "stream",
     "text": [
      "2022-04-21 16:09:57.181063: W tensorflow/stream_executor/platform/default/dso_loader.cc:64] Could not load dynamic library 'libcudart.so.11.0'; dlerror: libcudart.so.11.0: cannot open shared object file: No such file or directory\n",
      "2022-04-21 16:09:57.181087: I tensorflow/stream_executor/cuda/cudart_stub.cc:29] Ignore above cudart dlerror if you do not have a GPU set up on your machine.\n"
     ]
    }
   ],
   "source": [
    "# import du jeu de données à partir de keras\n",
    "from tensorflow.keras.datasets import cifar10"
   ]
  },
  {
   "cell_type": "code",
   "execution_count": 3,
   "id": "0df87c40",
   "metadata": {},
   "outputs": [
    {
     "name": "stdout",
     "output_type": "stream",
     "text": [
      "Downloading data from https://www.cs.toronto.edu/~kriz/cifar-10-python.tar.gz\n",
      "170500096/170498071 [==============================] - 8s 0us/step\n",
      "170508288/170498071 [==============================] - 8s 0us/step\n"
     ]
    }
   ],
   "source": [
    "# chargement du jeu de données en utlisant la méthode .load() et attribution en nos variables de tests et d'entraînement sous forme de tuples\n",
    "(x_train,y_train),(x_test,y_test)=cifar10.load_data()"
   ]
  },
  {
   "cell_type": "code",
   "execution_count": 4,
   "id": "7f332338",
   "metadata": {},
   "outputs": [
    {
     "data": {
      "text/plain": [
       "(50000, 32, 32, 3)"
      ]
     },
     "execution_count": 4,
     "metadata": {},
     "output_type": "execute_result"
    }
   ],
   "source": [
    "# regardons la forme de nos données\n",
    "# on a 50.000 images,32 pixels par 32 et 3 canaux de couleurs (Rouge,Vert et Bleu)\n",
    "x_train.shape"
   ]
  },
  {
   "cell_type": "code",
   "execution_count": 5,
   "id": "30375310",
   "metadata": {},
   "outputs": [
    {
     "data": {
      "text/plain": [
       "(32, 32, 3)"
      ]
     },
     "execution_count": 5,
     "metadata": {},
     "output_type": "execute_result"
    }
   ],
   "source": [
    "# regardons 1 seul image\n",
    "x_train[0].shape"
   ]
  },
  {
   "cell_type": "code",
   "execution_count": 6,
   "id": "3008ede7",
   "metadata": {},
   "outputs": [
    {
     "data": {
      "text/plain": [
       "<matplotlib.image.AxesImage at 0x7f77c9a84910>"
      ]
     },
     "execution_count": 6,
     "metadata": {},
     "output_type": "execute_result"
    },
    {
     "data": {
      "image/png": "[encoded data removed]",
      "text/plain": [
       "<Figure size 432x288 with 1 Axes>"
      ]
     },
     "metadata": {
      "needs_background": "light"
     },
     "output_type": "display_data"
    }
   ],
   "source": [
    "# tracage de l'image\n",
    "plt.imshow(x_train[0])\n",
    "# même si l'image est très pixélisée (très petite) on arrive distinguer avec un peu d'imagiantion que c'est une grenouille\n",
    "# Pcq les images sont très petites, certaines images peuvent être mal classifiées au final, peu chance qu'on obtienne de si bonne performance"
   ]
  },
  {
   "cell_type": "markdown",
   "id": "50cf849d",
   "metadata": {},
   "source": [
    "#  Pré-traitement des données"
   ]
  },
  {
   "cell_type": "code",
   "execution_count": 7,
   "id": "f30dfcb6",
   "metadata": {},
   "outputs": [
    {
     "data": {
      "text/plain": [
       "255"
      ]
     },
     "execution_count": 7,
     "metadata": {},
     "output_type": "execute_result"
    }
   ],
   "source": [
    "# voyons la valeur max de la première image \n",
    "# ca va de 0 à 255 pour chacune des 3 couleurs \n",
    "x_train[0].max()"
   ]
  },
  {
   "cell_type": "code",
   "execution_count": 8,
   "id": "f4c0ce9e",
   "metadata": {},
   "outputs": [],
   "source": [
    "# Normalisation des données d'entraînement à faire normalement avec la méthode MinMaxScaler mais ici on divise par la valeur max du x_train et x_test\n",
    "# données d'entraînement sont les données d'images \n",
    "x_train=x_train/255\n",
    "x_test=x_test/255"
   ]
  },
  {
   "cell_type": "raw",
   "id": "a4164e81",
   "metadata": {},
   "source": [
    "# Transformation des valeurs continues de labels en données catégorielles par la méthode One-Hot Encoding"
   ]
  },
  {
   "cell_type": "code",
   "execution_count": 9,
   "id": "dcc0d9fa",
   "metadata": {},
   "outputs": [],
   "source": [
    "from tensorflow.keras.utils import to_categorical\n",
    "y_cat_train= to_categorical(y_train,10)\n",
    "y_cat_test=to_categorical(y_test,10)"
   ]
  },
  {
   "cell_type": "code",
   "execution_count": 10,
   "id": "a17c0d77",
   "metadata": {},
   "outputs": [
    {
     "data": {
      "text/plain": [
       "array([6], dtype=uint8)"
      ]
     },
     "execution_count": 10,
     "metadata": {},
     "output_type": "execute_result"
    }
   ],
   "source": [
    "y_train[0]"
   ]
  },
  {
   "cell_type": "code",
   "execution_count": 11,
   "id": "2f25dd72",
   "metadata": {},
   "outputs": [
    {
     "data": {
      "text/plain": [
       "<matplotlib.image.AxesImage at 0x7f77d2d0c940>"
      ]
     },
     "execution_count": 11,
     "metadata": {},
     "output_type": "execute_result"
    },
    {
     "data": {
      "image/png": "[encoded data removed]",
      "text/plain": [
       "<Figure size 432x288 with 1 Axes>"
      ]
     },
     "metadata": {
      "needs_background": "light"
     },
     "output_type": "display_data"
    }
   ],
   "source": [
    "# Grenouille\n",
    "plt.imshow(x_train[0])"
   ]
  },
  {
   "cell_type": "markdown",
   "id": "ff5fb20e",
   "metadata": {},
   "source": [
    "# Création du modèle "
   ]
  },
  {
   "cell_type": "code",
   "execution_count": 12,
   "id": "8dd81b68",
   "metadata": {},
   "outputs": [],
   "source": [
    "from tensorflow.keras.models import Sequential\n",
    "from tensorflow.keras.layers import Dense,Conv2D,MaxPool2D,Flatten\n",
    "# seule chose à éditer ce sont les tailles, formes des données d'entrées(Input)\n",
    "# input_shape est définit par nos données"
   ]
  },
  {
   "cell_type": "code",
   "execution_count": 13,
   "id": "3c429e29",
   "metadata": {},
   "outputs": [
    {
     "data": {
      "text/plain": [
       "3072"
      ]
     },
     "execution_count": 13,
     "metadata": {},
     "output_type": "execute_result"
    }
   ],
   "source": [
    "# le nombre total de valeur pour CFAR10 sera de 3072 point de données \n",
    "# comme nos images sont plus grandes et plus complexes, rajout d'une couche supplémentaire de conv associée \n",
    "# a une seconde couche de pooling aussi\n",
    "# les chercheurs aimes avoir différent nombres de filtres dans les différentes couhces convolutives \n",
    "# on peut avoir un nombre plus imortant  de filtres à mesures les couches convilutives vont plus en profondeur\n",
    "32*32*3"
   ]
  },
  {
   "cell_type": "code",
   "execution_count": 14,
   "id": "7825c60d",
   "metadata": {
    "collapsed": true
   },
   "outputs": [
    {
     "name": "stderr",
     "output_type": "stream",
     "text": [
      "2022-04-21 16:17:44.321918: W tensorflow/stream_executor/platform/default/dso_loader.cc:64] Could not load dynamic library 'libcuda.so.1'; dlerror: libcuda.so.1: cannot open shared object file: No such file or directory\n",
      "2022-04-21 16:17:44.321962: W tensorflow/stream_executor/cuda/cuda_driver.cc:269] failed call to cuInit: UNKNOWN ERROR (303)\n",
      "2022-04-21 16:17:44.321991: I tensorflow/stream_executor/cuda/cuda_diagnostics.cc:156] kernel driver does not appear to be running on this host (hprisser): /proc/driver/nvidia/version does not exist\n",
      "2022-04-21 16:17:44.322344: I tensorflow/core/platform/cpu_feature_guard.cc:151] This TensorFlow binary is optimized with oneAPI Deep Neural Network Library (oneDNN) to use the following CPU instructions in performance-critical operations:  AVX2 FMA\n",
      "To enable them in other operations, rebuild TensorFlow with the appropriate compiler flags.\n"
     ]
    }
   ],
   "source": [
    "# construction du modèle \n",
    "\n",
    "model=Sequential()\n",
    "\n",
    "## Premier set de couches\n",
    "\n",
    "# Couche convolutive\n",
    "model.add(Conv2D(filters=32, kernel_size=(4,4),input_shape=(32, 32, 3), activation='relu'))\n",
    "# Couche de Pooling\n",
    "model.add(MaxPool2D(pool_size=(2, 2)))\n",
    "\n",
    "## Second set de couches\n",
    "\n",
    "# Couche convolutive\n",
    "model.add(Conv2D(filters=32, kernel_size=(4,4),input_shape=(32, 32, 3), activation='relu'))\n",
    "# Couche de Pooling\n",
    "model.add(MaxPool2D(pool_size=(2, 2)))\n",
    "\n",
    "# Images applaties de 32 par 32 à 3072 avant la couche finale\n",
    "model.add(Flatten())\n",
    "\n",
    "# 256 neurones dans la couche cachée dense \n",
    "model.add(Dense(256, activation='relu'))\n",
    "\n",
    "# La dernière couche est le classificateur, donc 10 classes possibles\n",
    "model.add(Dense(10, activation='softmax'))\n",
    "\n",
    "model.compile(loss='categorical_crossentropy',optimizer='adam', metrics=['accuracy'])"
   ]
  },
  {
   "cell_type": "code",
   "execution_count": 15,
   "id": "02d92cd7",
   "metadata": {},
   "outputs": [
    {
     "name": "stdout",
     "output_type": "stream",
     "text": [
      "Model: \"sequential\"\n",
      "_________________________________________________________________\n",
      " Layer (type)                Output Shape              Param #   \n",
      "=================================================================\n",
      " conv2d (Conv2D)             (None, 29, 29, 32)        1568      \n",
      "                                                                 \n",
      " max_pooling2d (MaxPooling2D  (None, 14, 14, 32)       0         \n",
      " )                                                               \n",
      "                                                                 \n",
      " conv2d_1 (Conv2D)           (None, 11, 11, 32)        16416     \n",
      "                                                                 \n",
      " max_pooling2d_1 (MaxPooling  (None, 5, 5, 32)         0         \n",
      " 2D)                                                             \n",
      "                                                                 \n",
      " flatten (Flatten)           (None, 800)               0         \n",
      "                                                                 \n",
      " dense (Dense)               (None, 256)               205056    \n",
      "                                                                 \n",
      " dense_1 (Dense)             (None, 10)                2570      \n",
      "                                                                 \n",
      "=================================================================\n",
      "Total params: 225,610\n",
      "Trainable params: 225,610\n",
      "Non-trainable params: 0\n",
      "_________________________________________________________________\n"
     ]
    }
   ],
   "source": [
    "model.summary()"
   ]
  },
  {
   "cell_type": "code",
   "execution_count": 16,
   "id": "bc68c8f7",
   "metadata": {},
   "outputs": [],
   "source": [
    "# mise en place d'un callbacks\n",
    "from tensorflow.keras.callbacks import EarlyStopping\n",
    "early_stopped=EarlyStopping(monitor='val_loss',patience=3)"
   ]
  },
  {
   "cell_type": "code",
   "execution_count": 17,
   "id": "94b3d732",
   "metadata": {
    "collapsed": true
   },
   "outputs": [
    {
     "name": "stderr",
     "output_type": "stream",
     "text": [
      "2022-04-21 16:19:25.152266: W tensorflow/core/framework/cpu_allocator_impl.cc:82] Allocation of 614400000 exceeds 10% of free system memory.\n"
     ]
    },
    {
     "name": "stdout",
     "output_type": "stream",
     "text": [
      "Epoch 1/15\n",
      "1562/1563 [============================>.] - ETA: 0s - loss: 1.5125 - accuracy: 0.4515"
     ]
    },
    {
     "name": "stderr",
     "output_type": "stream",
     "text": [
      "2022-04-21 16:20:08.464261: W tensorflow/core/framework/cpu_allocator_impl.cc:82] Allocation of 122880000 exceeds 10% of free system memory.\n"
     ]
    },
    {
     "name": "stdout",
     "output_type": "stream",
     "text": [
      "1563/1563 [==============================] - 31s 19ms/step - loss: 1.5123 - accuracy: 0.4516 - val_loss: 1.2692 - val_accuracy: 0.5480\n",
      "Epoch 2/15\n",
      "1563/1563 [==============================] - 29s 18ms/step - loss: 1.1901 - accuracy: 0.5804 - val_loss: 1.1753 - val_accuracy: 0.5804\n",
      "Epoch 3/15\n",
      "1563/1563 [==============================] - 29s 18ms/step - loss: 1.0422 - accuracy: 0.6344 - val_loss: 1.0312 - val_accuracy: 0.6404\n",
      "Epoch 4/15\n",
      "1563/1563 [==============================] - 29s 18ms/step - loss: 0.9297 - accuracy: 0.6760 - val_loss: 1.0296 - val_accuracy: 0.6410\n",
      "Epoch 5/15\n",
      "1563/1563 [==============================] - 29s 19ms/step - loss: 0.8396 - accuracy: 0.7082 - val_loss: 0.9895 - val_accuracy: 0.6556\n",
      "Epoch 6/15\n",
      "1563/1563 [==============================] - 30s 19ms/step - loss: 0.7682 - accuracy: 0.7324 - val_loss: 0.9756 - val_accuracy: 0.6680\n",
      "Epoch 7/15\n",
      "1563/1563 [==============================] - 29s 19ms/step - loss: 0.7024 - accuracy: 0.7538 - val_loss: 1.0343 - val_accuracy: 0.6572\n",
      "Epoch 8/15\n",
      "1563/1563 [==============================] - 30s 19ms/step - loss: 0.6441 - accuracy: 0.7748 - val_loss: 0.9878 - val_accuracy: 0.6749\n",
      "Epoch 9/15\n",
      "1563/1563 [==============================] - 30s 19ms/step - loss: 0.5847 - accuracy: 0.7930 - val_loss: 1.0220 - val_accuracy: 0.6753\n"
     ]
    },
    {
     "data": {
      "text/plain": [
       "<keras.callbacks.History at 0x7f77d038b9d0>"
      ]
     },
     "execution_count": 17,
     "metadata": {},
     "output_type": "execute_result"
    }
   ],
   "source": [
    "# entraînement du modèle \n",
    "# l'accuracy sur la première epochs n'est pas si bonne que ca et commence très bas\n",
    "# Au faur et à mesure de l'entraînement, cette metrics augmente \n",
    "# l'accuracy par défaut serait de 10%, effet 10 types d'image,donc 1 chance sur 10 de la deviner correctement \n",
    "# le fait qu'on soit à une valeur 10 % pour notre excatitude est plutôt bon. on a 10 % de chance d'obtenir la bonne réponse \n",
    "model.fit(x_train,y_cat_train,epochs=15,validation_data=(x_test,y_cat_test),callbacks=[early_stopped])"
   ]
  },
  {
   "cell_type": "markdown",
   "id": "f5273d57",
   "metadata": {},
   "source": [
    " # Evaluation du modèle"
   ]
  },
  {
   "cell_type": "code",
   "execution_count": 18,
   "id": "3c1d205a",
   "metadata": {},
   "outputs": [],
   "source": [
    "# lecture des metrics\n",
    "metrics=pd.DataFrame(model.history.history)"
   ]
  },
  {
   "cell_type": "code",
   "execution_count": 19,
   "id": "0555139f",
   "metadata": {},
   "outputs": [
    {
     "data": {
      "text/plain": [
       "<AxesSubplot:>"
      ]
     },
     "execution_count": 19,
     "metadata": {},
     "output_type": "execute_result"
    },
    {
     "data": {
      "image/png": "[encoded data removed]",
      "text/plain": [
       "<Figure size 432x288 with 1 Axes>"
      ]
     },
     "metadata": {
      "needs_background": "light"
     },
     "output_type": "display_data"
    }
   ],
   "source": [
    "metrics[['accuracy','val_accuracy']].plot()"
   ]
  },
  {
   "cell_type": "code",
   "execution_count": 20,
   "id": "c13a7ef8",
   "metadata": {},
   "outputs": [
    {
     "data": {
      "text/plain": [
       "<AxesSubplot:>"
      ]
     },
     "execution_count": 20,
     "metadata": {},
     "output_type": "execute_result"
    },
    {
     "data": {
      "image/png": "[encoded data removed]",
      "text/plain": [
       "<Figure size 432x288 with 1 Axes>"
      ]
     },
     "metadata": {
      "needs_background": "light"
     },
     "output_type": "display_data"
    }
   ],
   "source": [
    "metrics[['loss','val_loss']].plot()"
   ]
  },
  {
   "cell_type": "code",
   "execution_count": 21,
   "id": "0af8114b",
   "metadata": {
    "collapsed": true
   },
   "outputs": [
    {
     "name": "stderr",
     "output_type": "stream",
     "text": [
      "2022-04-21 16:27:00.332514: W tensorflow/core/framework/cpu_allocator_impl.cc:82] Allocation of 122880000 exceeds 10% of free system memory.\n"
     ]
    },
    {
     "data": {
      "text/plain": [
       "[1.0220311880111694, 0.6753000020980835]"
      ]
     },
     "execution_count": 21,
     "metadata": {},
     "output_type": "execute_result"
    }
   ],
   "source": [
    "# pour voir l'évaluation finale\n",
    "model.evaluate(x_test,y_cat_test,verbose=0)"
   ]
  },
  {
   "cell_type": "code",
   "execution_count": 22,
   "id": "23b59252",
   "metadata": {},
   "outputs": [],
   "source": [
    "# rapport de classification et matrice de confusion\n",
    "from sklearn.metrics import classification_report,confusion_matrix"
   ]
  },
  {
   "cell_type": "code",
   "execution_count": 23,
   "id": "36a5d3a7",
   "metadata": {
    "collapsed": true
   },
   "outputs": [
    {
     "name": "stderr",
     "output_type": "stream",
     "text": [
      "2022-04-21 16:28:00.245878: W tensorflow/core/framework/cpu_allocator_impl.cc:82] Allocation of 122880000 exceeds 10% of free system memory.\n"
     ]
    }
   ],
   "source": [
    "# comme il s'agit d'une classification multi-classes, utilisation de np.argmax\n",
    "# ceci afin de récupérer l'index de la colonne correspondant à la proba la plus forte\n",
    "# Ce qui retourne pour chaque image test la classe ou la catégorie de l'image prédite\n",
    "predictions=np.argmax(model.predict(x_test),axis=1)"
   ]
  },
  {
   "cell_type": "code",
   "execution_count": 24,
   "id": "ae13a8f0",
   "metadata": {},
   "outputs": [
    {
     "name": "stdout",
     "output_type": "stream",
     "text": [
      "              precision    recall  f1-score   support\n",
      "\n",
      "           0       0.80      0.65      0.72      1000\n",
      "           1       0.71      0.88      0.79      1000\n",
      "           2       0.68      0.46      0.55      1000\n",
      "           3       0.52      0.51      0.52      1000\n",
      "           4       0.57      0.69      0.62      1000\n",
      "           5       0.62      0.50      0.55      1000\n",
      "           6       0.73      0.80      0.76      1000\n",
      "           7       0.70      0.74      0.72      1000\n",
      "           8       0.80      0.74      0.77      1000\n",
      "           9       0.65      0.78      0.71      1000\n",
      "\n",
      "    accuracy                           0.68     10000\n",
      "   macro avg       0.68      0.68      0.67     10000\n",
      "weighted avg       0.68      0.68      0.67     10000\n",
      "\n"
     ]
    }
   ],
   "source": [
    "print(classification_report(y_test,predictions))\n",
    "# comparer l'accuracy globale de 0.68 à la prédiction aléatoire\n",
    "# comme on a 10 classes, la prediction aléatoire donne 10% chances d'avoir la classe correcte \n",
    "# la classe qui performe moins bien c'est la classe 3: il semble que le modèle a du mal à reconnaître les chats"
   ]
  },
  {
   "cell_type": "code",
   "execution_count": 25,
   "id": "3869ebca",
   "metadata": {},
   "outputs": [
    {
     "name": "stdout",
     "output_type": "stream",
     "text": [
      "[[647  56  38  21  30   3  18  16  82  89]\n",
      " [  2 884   1   3   5   4   8   5   8  80]\n",
      " [ 57  20 460  71 150  56  90  40  28  28]\n",
      " [ 14  20  48 511  99 129  76  48  17  38]\n",
      " [ 12   9  35  52 692  28  51  90  12  19]\n",
      " [  5  14  34 210  86 499  26  84  10  32]\n",
      " [  3  15  26  50  60  25 799   8   2  12]\n",
      " [  6  12  19  40  83  46  16 737   3  38]\n",
      " [ 45  78   8  14  13   5   7   6 742  82]\n",
      " [ 14 135   8  10   6   6   7  14  18 782]]\n"
     ]
    }
   ],
   "source": [
    "# matrice de confusion pour voir combien d'image sont classifiées et combien sont mal classifiées\n",
    "cm=confusion_matrix(y_test,predictions)\n",
    "print(cm)"
   ]
  },
  {
   "cell_type": "code",
   "execution_count": 26,
   "id": "a117e650",
   "metadata": {},
   "outputs": [
    {
     "data": {
      "text/plain": [
       "<AxesSubplot:>"
      ]
     },
     "execution_count": 26,
     "metadata": {},
     "output_type": "execute_result"
    },
    {
     "data": {
      "image/png": "[encoded data removed]",
      "text/plain": [
       "<Figure size 720x576 with 2 Axes>"
      ]
     },
     "metadata": {
      "needs_background": "light"
     },
     "output_type": "display_data"
    }
   ],
   "source": [
    "# en fonction de la couleur on peur voir ce qui est mal classifié\n",
    "# il semble y avoir quelques confusions entre les classes 2 et 3 jusquà 5\n",
    "#voir le nombre d'image mal classifié par classe\n",
    "plt.figure(figsize=(10,8))\n",
    "sns.heatmap(cm,annot=True)"
   ]
  },
  {
   "cell_type": "code",
   "execution_count": 27,
   "id": "f45a0910",
   "metadata": {},
   "outputs": [],
   "source": [
    "# voyons la permformance sur une seul image\n",
    "my_image=x_test[9]"
   ]
  },
  {
   "cell_type": "code",
   "execution_count": 28,
   "id": "08e15334",
   "metadata": {},
   "outputs": [
    {
     "data": {
      "text/plain": [
       "<matplotlib.image.AxesImage at 0x7f774cd0aa00>"
      ]
     },
     "execution_count": 28,
     "metadata": {},
     "output_type": "execute_result"
    },
    {
     "data": {
      "image/png": "[encoded data removed]",
      "text/plain": [
       "<Figure size 432x288 with 1 Axes>"
      ]
     },
     "metadata": {
      "needs_background": "light"
     },
     "output_type": "display_data"
    }
   ],
   "source": [
    "plt.imshow(my_image)"
   ]
  },
  {
   "cell_type": "code",
   "execution_count": 29,
   "id": "fe18f0bf",
   "metadata": {},
   "outputs": [
    {
     "data": {
      "text/plain": [
       "array([1], dtype=uint8)"
      ]
     },
     "execution_count": 29,
     "metadata": {},
     "output_type": "execute_result"
    }
   ],
   "source": [
    "y_test[9]"
   ]
  },
  {
   "cell_type": "code",
   "execution_count": 30,
   "id": "f78ef284",
   "metadata": {},
   "outputs": [
    {
     "data": {
      "text/plain": [
       "array([1])"
      ]
     },
     "execution_count": 30,
     "metadata": {},
     "output_type": "execute_result"
    }
   ],
   "source": [
    "# pour récupérer les index de proba et donc avoir nos prédictions\n",
    "# pas oublier de remodeler(reshape) l'image: pour avoir une image de 32 par 32 pixel de 3couleurs\n",
    "np.argmax(model.predict(my_image.reshape(1,32,32,3)),axis=1)"
   ]
  },
  {
   "cell_type": "code",
   "execution_count": null,
   "id": "f96b1cfc",
   "metadata": {},
   "outputs": [],
   "source": []
  }
 ],
 "metadata": {
  "kernelspec": {
   "display_name": "Python 3 (ipykernel)",
   "language": "python",
   "name": "python3"
  },
  "language_info": {
   "codemirror_mode": {
    "name": "ipython",
    "version": 3
   },
   "file_extension": ".py",
   "mimetype": "text/x-python",
   "name": "python",
   "nbconvert_exporter": "python",
   "pygments_lexer": "ipython3",
   "version": "3.9.7"
  }
 },
 "nbformat": 4,
 "nbformat_minor": 5
}
