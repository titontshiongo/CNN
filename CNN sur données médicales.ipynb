{
 "cells": [
  {
   "cell_type": "markdown",
   "id": "e1c280ab",
   "metadata": {},
   "source": [
    "# 1. Import des librairies"
   ]
  },
  {
   "cell_type": "code",
   "execution_count": 1,
   "id": "8e8e0928",
   "metadata": {},
   "outputs": [
    {
     "name": "stderr",
     "output_type": "stream",
     "text": [
      "2022-04-07 15:43:25.856438: W tensorflow/stream_executor/platform/default/dso_loader.cc:64] Could not load dynamic library 'libcudart.so.11.0'; dlerror: libcudart.so.11.0: cannot open shared object file: No such file or directory\n",
      "2022-04-07 15:43:25.856464: I tensorflow/stream_executor/cuda/cudart_stub.cc:29] Ignore above cudart dlerror if you do not have a GPU set up on your machine.\n"
     ]
    }
   ],
   "source": [
    "import tensorflow as tf\n",
    "import keras \n",
    "import pandas as pd\n",
    "import seaborn as sns\n",
    "import numpy as np\n",
    "import os\n",
    "import lime\n",
    "import shape\n",
    "import eli5\n",
    "from PIL import Image\n",
    "import matplotlib.pyplot as plt\n"
   ]
  },
  {
   "cell_type": "markdown",
   "id": "22fb0db2",
   "metadata": {},
   "source": [
    "# 2. Identification des différents chemins des fichiers"
   ]
  },
  {
   "cell_type": "code",
   "execution_count": 2,
   "id": "c67d0798",
   "metadata": {},
   "outputs": [],
   "source": [
    "# Les différents chemin pour retouver les fichiers images ainsi que le chemin des fichiers des différentes classes\n",
    "\n",
    "image_dir='/home/titon/Documents/Projet_France_Relance-20220311T093327Z-001/Projet_France_Relance/cell_images'\n",
    "uninfected='/home/titon/Documents/Projet_France_Relance-20220311T093327Z-001/Projet_France_Relance/cell_images/Uninfected'\n",
    "parasitized='/home/titon/Documents/Projet_France_Relance-20220311T093327Z-001/Projet_France_Relance/cell_images/Parasitized'"
   ]
  },
  {
   "cell_type": "code",
   "execution_count": 3,
   "id": "bcdb7e92",
   "metadata": {},
   "outputs": [
    {
     "name": "stdout",
     "output_type": "stream",
     "text": [
      "['Parasitized', 'Uninfected']\n"
     ]
    }
   ],
   "source": [
    "classes=os.listdir(image_dir)\n",
    "print(classes)"
   ]
  },
  {
   "cell_type": "code",
   "execution_count": 4,
   "id": "27a666d3",
   "metadata": {},
   "outputs": [],
   "source": [
    "# Pour lire les images \n",
    "from matplotlib.image import imread"
   ]
  },
  {
   "cell_type": "code",
   "execution_count": 5,
   "id": "e7bd508a",
   "metadata": {},
   "outputs": [],
   "source": [
    "## pour voir à quoi ressemble les images depuis le chemin\n",
    "# liste de tout les fichiers images au format png\n",
    "para_path=image_dir + '/Parasitized'\n",
    "noninf_path=image_dir + '/Uninfected'"
   ]
  },
  {
   "cell_type": "code",
   "execution_count": 6,
   "id": "c00f6bbe",
   "metadata": {},
   "outputs": [
    {
     "data": {
      "text/plain": [
       "['C119P80ThinF_IMG_20151002_123608_cell_94.png',\n",
       " 'C156P117ThinF_IMG_20151115_154022_cell_64.png',\n",
       " 'C68P29N_ThinF_IMG_20150819_133447_cell_22.png',\n",
       " 'C131P92ThinF_IMG_20151004_145302_cell_55.png',\n",
       " 'C67P28N_ThinF_IMG_20150819_121053_cell_176.png',\n",
       " 'C161P122ThinF_IMG_20151116_100724_cell_26.png',\n",
       " 'C147P108ThinF_IMG_20151115_092605_cell_221.png',\n",
       " 'C143P104ThinF_IMG_20151005_230100_cell_1.png',\n",
       " 'C180P141NThinF_IMG_20151201_163751_cell_112.png',\n",
       " 'C128P89ThinF_IMG_20151004_130810_cell_67.png',\n",
       " 'C188P149ThinF_IMG_20151203_135433_cell_18.png',\n",
       " 'C67P28N_ThinF_IMG_20150819_121053_cell_140.png',\n",
       " 'C170P131ThinF_IMG_20151119_120150_cell_121.png',\n",
       " 'C52P13thinF_IMG_20150725_130013_cell_152.png',\n",
       " 'C42P5thin_original_IMG_20150623_134547_cell_160.png',\n",
       " 'C240ThinF_IMG_20151127_115223_cell_121.png',\n",
       " 'C185P146ThinF_IMG_20151203_110933_cell_220.png',\n",
       " 'C63P24N_ThinF_IMG_20150818_143319_cell_48.png',\n",
       " 'C125P86ThinF_IMG_20151004_102132_cell_74.png',\n",
       " 'C103P64ThinF_IMG_20150918_164250_cell_15.png',\n",
       " 'C76P37ThinF_IMG_20150815_172808_cell_172.png',\n",
       " 'C92P53ThinF_IMG_20150821_151646_cell_169.png',\n",
       " 'C81P42ThinF_IMG_20150817_120351_cell_142.png',\n",
       " 'C140P101ThinF_IMG_20151005_205922_cell_7.png',\n",
       " 'C162P123ThinF_IMG_20151116_102655_cell_39.png',\n",
       " 'C96P57ThinF_IMG_20150824_112442_cell_22.png',\n",
       " 'C221ThinF_IMG_20151106_160653_cell_197.png',\n",
       " 'C230ThinF_IMG_20151112_150753_cell_268.png',\n",
       " 'C151P112ThinF_IMG_20151115_121725_cell_79.png',\n",
       " 'C231ThinF_IMG_20151112_153106_cell_131.png',\n",
       " 'C217ThinF_IMG_20151106_141135_cell_202.png',\n",
       " 'C3thin_original_IMG_20150608_163047_cell_212.png',\n",
       " 'C95P56ThinF_IMG_20150821_171631_cell_46.png',\n",
       " 'C49P10thinF_IMG_20150724_102843_cell_63.png',\n",
       " 'C181P142ThinF_IMG_20151127_160616_cell_129.png',\n",
       " 'C96P57ThinF_IMG_20150824_110812_cell_97.png',\n",
       " 'C209ThinF_IMG_20151029_160857_cell_145.png',\n",
       " 'C220ThinF_IMG_20151106_154339_cell_188.png',\n",
       " 'C144P105ThinF_IMG_20151015_163432_cell_259.png',\n",
       " 'C120P81ThinF_IMG_20151002_131120_cell_58.png',\n",
       " 'C94P55ThinF_IMG_20150821_165118_cell_56.png',\n",
       " 'C112P73ThinF_IMG_20150930_131516_cell_109.png',\n",
       " 'C209ThinF_IMG_20151029_160803_cell_13.png',\n",
       " 'C54P15thinF_IMG_20150728_113006_cell_128.png',\n",
       " 'C86P47ThinF_IMG_20150820_123717_cell_190.png',\n",
       " 'C145P106ThinF_IMG_20151016_154719_cell_101.png',\n",
       " 'C208ThinF_IMG_20151029_155436_cell_143.png',\n",
       " 'C158P119ThinF_IMG_20151115_181136_cell_124.png',\n",
       " 'C61P22N_ThinF_IMG_20150818_112811_cell_108.png',\n",
       " 'C111P72ThinF_IMG_20150930_113049_cell_37.png',\n",
       " 'C90P51ThinF_IMG_20150821_115310_cell_77.png',\n",
       " 'C210ThinF_IMG_20151029_162439_cell_91.png',\n",
       " 'C67P28N_ThinF_IMG_20150819_115417_cell_55.png',\n",
       " 'C206ThinF_IMG_20151029_140538_cell_6.png',\n",
       " 'C176P137NThinF_IMG_20151201_121808_cell_85.png',\n",
       " 'C152P113ThinF_IMG_20151115_124557_cell_60.png',\n",
       " 'C177P138NThinF_IMG_20151201_144820_cell_123.png',\n",
       " 'C150P111ThinF_IMG_20151115_120244_cell_164.png',\n",
       " 'C232ThinF_IMG_20151112_154719_cell_177.png',\n",
       " 'C236ThinF_IMG_20151127_102546_cell_48.png',\n",
       " 'C176P137NThinF_IMG_20151201_121808_cell_69.png',\n",
       " 'C151P112ThinF_IMG_20151115_121725_cell_120.png',\n",
       " 'C211ThinF_IMG_20151029_164033_cell_185.png',\n",
       " 'C184P145ThinF_IMG_20151203_103637_cell_39.png',\n",
       " 'C153P114ThinF_IMG_20151115_135639_cell_4.png',\n",
       " 'C216ThinF_IMG_20151106_135653_cell_238.png',\n",
       " 'C107P68ThinF_IMG_20150924_222415_cell_61.png',\n",
       " 'C151P112ThinF_IMG_20151115_122342_cell_191.png',\n",
       " 'C223ThinF_IMG_20151112_104240_cell_232.png',\n",
       " 'C216ThinF_IMG_20151106_135337_cell_145.png',\n",
       " 'C175P136NThinF_IMG_20151127_141325_cell_32.png',\n",
       " 'C70P31_ThinF_IMG_20150819_141730_cell_53.png',\n",
       " 'C89P50ThinF_IMG_20150820_163347_cell_189.png',\n",
       " 'C67P28N_ThinF_IMG_20150819_115417_cell_12.png',\n",
       " 'C227ThinF_IMG_20151112_135308_cell_80.png',\n",
       " 'C206ThinF_IMG_20151029_141047_cell_173.png',\n",
       " 'C58P19thinF_IMG_20150802_122648_cell_146.png',\n",
       " 'C78P39ThinF_IMG_20150606_103413_cell_68.png',\n",
       " 'C116P77ThinF_IMG_20150930_171219_cell_6.png',\n",
       " 'C67P28N_ThinF_IMG_20150819_132441_cell_87.png',\n",
       " 'C138P99ThinF_IMG_20151005_171940_cell_29.png',\n",
       " 'C210ThinF_IMG_20151029_162605_cell_61.png',\n",
       " 'C93P54ThinF_IMG_20150821_163452_cell_165.png',\n",
       " 'C81P42ThinF_IMG_20150817_120351_cell_135.png',\n",
       " 'C229ThinF_IMG_20151112_144613_cell_87.png',\n",
       " 'C98P59ThinF_IMG_20150917_153311_cell_149.png',\n",
       " 'C124P85ThinF_IMG_20151002_154846_cell_124.png',\n",
       " 'C188P149ThinF_IMG_20151203_134449_cell_1.png',\n",
       " 'C234ThinF_IMG_20151112_162759_cell_255.png',\n",
       " 'C64P25N_ThinF_IMG_20150818_152337_cell_151.png',\n",
       " 'C58P19thinF_IMG_20150802_121847_cell_130.png',\n",
       " 'C39P4thinF_original_IMG_20150622_111723_cell_1.png',\n",
       " 'C215ThinF_IMG_20151106_133012_cell_127.png',\n",
       " 'C66P27N_ThinF_IMG_20150818_164702_cell_81.png',\n",
       " 'C55P16thinF_IMG_20150728_121151_cell_69.png',\n",
       " 'C223ThinF_IMG_20151112_104240_cell_163.png',\n",
       " 'C71P32_ThinF_IMG_20150813_163655_cell_58.png',\n",
       " 'C68P29N_ThinF_IMG_20150819_134326_cell_21.png',\n",
       " 'C216ThinF_IMG_20151106_134931_cell_67.png',\n",
       " 'C47P8thin_Original_Motic_IMG_20150714_093636_cell_104.png',\n",
       " 'C151P112ThinF_IMG_20151115_121942_cell_220.png',\n",
       " 'C88P49ThinF_IMG_20150820_150724_cell_62.png',\n",
       " 'C125P86ThinF_IMG_20151004_102013_cell_96.png',\n",
       " 'C120P81ThinF_IMG_20151002_130715_cell_51.png',\n",
       " 'C96P57ThinF_IMG_20150824_105531_cell_107.png',\n",
       " 'C37BP2_thinF_IMG_20150620_133238a_cell_83.png',\n",
       " 'C114P75ThinF_IMG_20150930_150013_cell_107.png',\n",
       " 'C180P141NThinF_IMG_20151201_163751_cell_105.png',\n",
       " 'C62P23N_ThinF_IMG_20150818_133527_cell_103.png',\n",
       " 'C47P8thinOriginalOlympusCX21_IMG_20150717_173432_cell_10.png',\n",
       " 'C98P59ThinF_IMG_20150917_153801_cell_141.png',\n",
       " 'C241NThinF_IMG_20151207_124115_cell_29.png',\n",
       " 'C45P6ThinF_IMG_20151130_155110_cell_100.png',\n",
       " 'C101P62ThinF_IMG_20150923_170246_cell_30.png',\n",
       " 'C184P145ThinF_IMG_20151203_102543_cell_122.png',\n",
       " 'C107P68ThinF_IMG_20150924_222233_cell_20.png',\n",
       " 'C116P77ThinF_IMG_20150930_171809_cell_1.png',\n",
       " 'C134P95ThinF_IMG_20151005_122331_cell_39.png',\n",
       " 'C189P150ThinF_IMG_20151203_141809_cell_70.png',\n",
       " 'C123P84ThinF_IMG_20151002_151143_cell_56.png',\n",
       " 'C223ThinF_IMG_20151112_104410_cell_175.png',\n",
       " 'C210ThinF_IMG_20151029_162439_cell_263.png',\n",
       " 'C82P43ThinF_IMG_20150817_123824_cell_73.png',\n",
       " 'C151P112ThinF_IMG_20151115_121843_cell_113.png',\n",
       " 'C94P55ThinF_IMG_20150821_165519_cell_248.png',\n",
       " 'C179P140ThinF_IMG_20151127_153436_cell_108.png',\n",
       " 'C175P136NThinF_IMG_20151127_142009_cell_207.png',\n",
       " 'C238NThinF_IMG_20151207_115017_cell_172.png',\n",
       " 'C142P103ThinF_IMG_20151005_221900_cell_116.png',\n",
       " 'C98P59ThinF_IMG_20150917_153030_cell_30.png',\n",
       " 'C112P73ThinF_IMG_20150930_131254_cell_167.png',\n",
       " 'C137P98ThinF_IMG_20151005_162010_cell_20.png',\n",
       " 'C239ThinF_IMG_20151127_113253_cell_73.png',\n",
       " 'C72P33_ThinF_IMG_20150815_104923_cell_110.png',\n",
       " 'C64P25N_ThinF_IMG_20150818_152613_cell_159.png',\n",
       " 'C49P10thinF_IMG_20150724_102951_cell_50.png',\n",
       " 'C89P50ThinF_IMG_20150820_162300_cell_154.png',\n",
       " 'C103P64ThinF_IMG_20150918_165125_cell_117.png',\n",
       " 'C47P8thinOriginalOlympusCX21_IMG_20150717_174222_cell_23.png',\n",
       " 'C65P26N_ThinF_IMG_20150818_154050_cell_119.png',\n",
       " 'C178P139NThinF_IMG_20151201_151903_cell_94.png',\n",
       " 'C139P100ThinF_IMG_20151005_183601_cell_105.png',\n",
       " 'C121P82ThinF_IMG_20151002_134953_cell_5.png',\n",
       " 'C81P42ThinF_IMG_20150817_120524_cell_146.png',\n",
       " 'C122P83ThinF_IMG_20151002_145330_cell_31.png',\n",
       " 'C76P37ThinF_IMG_20150815_173019_cell_73.png',\n",
       " 'C74P35_ThinF_IMG_20150815_114401_cell_80.png',\n",
       " 'C211ThinF_IMG_20151029_164033_cell_154.png',\n",
       " 'C45P6ThinF_IMG_20151130_155011_cell_144.png',\n",
       " 'C79P40ThinF_IMG_20150817_103901_cell_24.png',\n",
       " 'C58P19thinF_IMG_20150802_122215_cell_33.png',\n",
       " 'C70P31_ThinF_IMG_20150819_141327_cell_33.png',\n",
       " 'C102P63ThinF_IMG_20150918_161826_cell_54.png',\n",
       " 'C216ThinF_IMG_20151106_135337_cell_65.png',\n",
       " 'C241NThinF_IMG_20151207_124643_cell_169.png',\n",
       " 'C91P52ThinF_IMG_20150821_123314_cell_25.png',\n",
       " 'C99P60ThinF_IMG_20150918_141129_cell_77.png',\n",
       " 'C79P40ThinF_IMG_20150817_102702_cell_5.png',\n",
       " 'C72P33_ThinF_IMG_20150815_104307_cell_60.png',\n",
       " 'C137P98ThinF_IMG_20151005_161859_cell_30.png',\n",
       " 'C189P150ThinF_IMG_20151203_141719_cell_6.png',\n",
       " 'C161P122ThinF_IMG_20151116_100959_cell_105.png',\n",
       " 'C76P37ThinF_IMG_20150815_171214_cell_13.png',\n",
       " 'C178P139NThinF_IMG_20151201_155012_cell_99.png',\n",
       " 'C58P19thinF_IMG_20150802_122846_cell_88.png',\n",
       " 'C202ThinF_IMG_20151015_151254_cell_121.png',\n",
       " 'C103P64ThinF_IMG_20150918_165016_cell_139.png',\n",
       " 'C104P65ThinF_IMG_20150918_172639_cell_167.png',\n",
       " 'C6NThinF_IMG_20150609_122725_cell_208.png',\n",
       " 'C133P94ThinF_IMG_20151004_154919_cell_68.png',\n",
       " 'C112P73ThinF_IMG_20150930_131659_cell_69.png',\n",
       " 'C209ThinF_IMG_20151029_160857_cell_221.png',\n",
       " 'C77P38ThinF_IMG_20150602_112011_cell_76.png',\n",
       " 'C163P124ThinF_IMG_20151116_111925_cell_8.png',\n",
       " 'C52P13thinF_IMG_20150725_130013_cell_160.png',\n",
       " 'C127P88ThinF_IMG_20151004_111651_cell_99.png',\n",
       " 'C67P28N_ThinF_IMG_20150819_133000_cell_79.png',\n",
       " 'C137P98ThinF_IMG_20151005_160918_cell_22.png',\n",
       " 'C234ThinF_IMG_20151112_162843_cell_129.png',\n",
       " 'C104P65ThinF_IMG_20150918_171154_cell_4.png',\n",
       " 'C176P137NThinF_IMG_20151201_121808_cell_70.png',\n",
       " 'C180P141NThinF_IMG_20151201_164714_cell_101.png',\n",
       " 'C42P5thin_original_IMG_20150623_135746_cell_140.png',\n",
       " 'C82P43ThinF_IMG_20150817_124010_cell_39.png',\n",
       " 'C92P53ThinF_IMG_20150821_151224_cell_123.png',\n",
       " 'C127P88ThinF_IMG_20151004_111755_cell_1.png',\n",
       " 'C98P59ThinF_IMG_20150917_153600_cell_1.png',\n",
       " 'C228ThinF_IMG_20151112_142109_cell_5.png',\n",
       " 'C153P114ThinF_IMG_20151115_140242_cell_185.png',\n",
       " 'C152P113ThinF_IMG_20151115_123837_cell_49.png',\n",
       " 'C180P141NThinF_IMG_20151201_163751_cell_134.png',\n",
       " 'C142P103ThinF_IMG_20151005_223257_cell_139.png',\n",
       " 'C154P115ThinF_IMG_20151115_141543_cell_142.png',\n",
       " 'C45P6ThinF_IMG_20151130_155011_cell_46.png',\n",
       " 'C236ThinF_IMG_20151127_102428_cell_87.png',\n",
       " 'C115P76ThinF_IMG_20150930_162038_cell_121.png',\n",
       " 'C69P30N_ThinF_IMG_20150819_140652_cell_158.png',\n",
       " 'C3thin_original_IMG_20150608_163029_cell_52.png',\n",
       " 'C3thin_original_IMG_20150608_163029_cell_44.png',\n",
       " 'C83P44ThinF_IMG_20150817_133218_cell_72.png',\n",
       " 'C46P7ThinF_IMG_20151130_210843_cell_131.png',\n",
       " 'C111P72ThinF_IMG_20150930_113003_cell_135.png',\n",
       " 'C143P104ThinF_IMG_20151005_225746_cell_115.png',\n",
       " 'C102P63ThinF_IMG_20150918_162511_cell_56.png',\n",
       " 'C62P23N_ThinF_IMG_20150818_133055_cell_119.png',\n",
       " 'C102P63ThinF_IMG_20150918_161826_cell_133.png',\n",
       " 'C60P21thinF_IMG_20150804_105955_cell_70.png',\n",
       " 'C171P132ThinF_IMG_20151119_153347_cell_175.png',\n",
       " 'C86P47ThinF_IMG_20150820_124259_cell_172.png',\n",
       " 'C92P53ThinF_IMG_20150821_150718_cell_181.png',\n",
       " 'C155P116ThinF_IMG_20151115_143125_cell_106.png',\n",
       " 'C221ThinF_IMG_20151106_160022_cell_49.png',\n",
       " 'C161P122ThinF_IMG_20151116_101059_cell_37.png',\n",
       " 'C133P94ThinF_IMG_20151004_154158_cell_6.png',\n",
       " 'C104P65ThinF_IMG_20150918_172053_cell_184.png',\n",
       " 'C235ThinF_IMG_20151112_164918_cell_251.png',\n",
       " 'C117P78ThinF_IMG_20150930_221927_cell_6.png',\n",
       " 'C97P58ThinF_IMG_20150917_151551_cell_2.png',\n",
       " 'C77P38ThinF_IMG_20150601_155125_cell_18.png',\n",
       " 'C183P144NThinF_IMG_20151201_224107_cell_46.png',\n",
       " 'C104P65ThinF_IMG_20150918_172214_cell_27.png',\n",
       " 'C75P36_ThinF_IMG_20150815_163147_cell_128.png',\n",
       " 'C208ThinF_IMG_20151029_155411_cell_108.png',\n",
       " 'C188P149ThinF_IMG_20151203_134319_cell_28.png',\n",
       " 'C63P24N_ThinF_IMG_20150818_144456_cell_88.png',\n",
       " 'C230ThinF_IMG_20151112_150647_cell_67.png',\n",
       " 'C59P20thinF_IMG_20150803_112858_cell_77.png',\n",
       " 'C162P123ThinF_IMG_20151116_104736_cell_119.png',\n",
       " 'C109P70ThinF_IMG_20150930_103214_cell_38.png',\n",
       " 'C140P101ThinF_IMG_20151005_211530_cell_126.png',\n",
       " 'C80P41ThinF_IMG_20150817_110834_cell_108.png',\n",
       " 'C208ThinF_IMG_20151029_155554_cell_35.png',\n",
       " 'C173P134NThinF_IMG_20151130_125501_cell_174.png',\n",
       " 'C155P116ThinF_IMG_20151115_142805_cell_67.png',\n",
       " 'C230ThinF_IMG_20151112_150753_cell_227.png',\n",
       " 'C46P7ThinF_IMG_20151130_205719_cell_127.png',\n",
       " 'C145P106ThinF_IMG_20151016_154641_cell_125.png',\n",
       " 'C189P150ThinF_IMG_20151203_141615_cell_84.png',\n",
       " 'C160P121ThinF_IMG_20151116_094128_cell_55.png',\n",
       " 'C78P39ThinF_IMG_20150606_103459_cell_108.png',\n",
       " 'C71P32_ThinF_IMG_20150813_162146_cell_121.png',\n",
       " 'C47P8thin_Original_Motic_IMG_20150714_093600_cell_105.png',\n",
       " 'C87P48ThinF_IMG_20150820_132514_cell_94.png',\n",
       " 'C128P89ThinF_IMG_20151004_131129_cell_21.png',\n",
       " 'C155P116ThinF_IMG_20151115_143330_cell_152.png',\n",
       " 'C115P76ThinF_IMG_20150930_161825_cell_128.png',\n",
       " 'C150P111ThinF_IMG_20151115_115950_cell_66.png',\n",
       " 'C76P37ThinF_IMG_20150815_173019_cell_141.png',\n",
       " 'C39P4thinF_original_IMG_20150622_105102_cell_17.png',\n",
       " 'C175P136NThinF_IMG_20151127_141428_cell_62.png',\n",
       " 'C170P131ThinF_IMG_20151119_120150_cell_59.png',\n",
       " 'C127P88ThinF_IMG_20151004_111651_cell_64.png',\n",
       " 'C7NthinF_IMG_20150611_104753_cell_128.png',\n",
       " 'C38P3thinF_original_IMG_20150621_112227_cell_186.png',\n",
       " 'C206ThinF_IMG_20151029_140538_cell_195.png',\n",
       " 'C70P31_ThinF_IMG_20150813_131330_cell_32.png',\n",
       " 'C112P73ThinF_IMG_20150930_131900_cell_159.png',\n",
       " 'C151P112ThinF_IMG_20151115_121644_cell_131.png',\n",
       " 'C79P40ThinF_IMG_20150817_104745_cell_120.png',\n",
       " 'C210ThinF_IMG_20151029_162439_cell_188.png',\n",
       " 'C7NthinF_IMG_20150611_104609_cell_59.png',\n",
       " 'C138P99ThinF_IMG_20151005_171940_cell_96.png',\n",
       " 'C140P101ThinF_IMG_20151005_210309_cell_42.png',\n",
       " 'C143P104ThinF_IMG_20151005_230100_cell_73.png',\n",
       " 'C102P63ThinF_IMG_20150918_162511_cell_157.png',\n",
       " 'C57P18thinF_IMG_20150729_110457_cell_32.png',\n",
       " 'C180P141NThinF_IMG_20151201_165423_cell_93.png',\n",
       " 'C85P46ThinF_IMG_20150820_110040_cell_128.png',\n",
       " 'C230ThinF_IMG_20151112_150647_cell_73.png',\n",
       " 'C97P58ThinF_IMG_20150917_151512_cell_7.png',\n",
       " 'C48P9thinF_IMG_20150721_160944_cell_195.png',\n",
       " 'C134P95ThinF_IMG_20151005_122331_cell_19.png',\n",
       " 'C108P69ThinF_IMG_20150924_224909_cell_223.png',\n",
       " 'C53P14thinF_IMG_20150726_120026_cell_176.png',\n",
       " 'C181P142ThinF_IMG_20151127_160539_cell_120.png',\n",
       " 'C173P134NThinF_IMG_20151130_115339_cell_152.png',\n",
       " 'C126P87ThinF_IMG_20151004_104813_cell_108.png',\n",
       " 'C117P78ThinF_IMG_20150930_220616_cell_53.png',\n",
       " 'C164P125ThinF_IMG_20151116_113954_cell_98.png',\n",
       " 'C42P5thin_original_IMG_20150623_134426_cell_127.png',\n",
       " 'C124P85ThinF_IMG_20151002_155223_cell_116.png',\n",
       " 'C59P20thinF_IMG_20150803_112733_cell_83.png',\n",
       " 'C129P90ThinF_IMG_20151004_134520_cell_46.png',\n",
       " 'C37BP2_thinF_IMG_20150620_132847a_cell_50.png',\n",
       " 'C172P133ThinF_IMG_20151119_155307_cell_238.png',\n",
       " 'C47P8thin_Original_Motic_IMG_20150714_094054_cell_26.png',\n",
       " 'C213ThinF_IMG_20151106_112759_cell_228.png',\n",
       " 'C231ThinF_IMG_20151112_153246_cell_121.png',\n",
       " 'C188P149ThinF_IMG_20151203_135433_cell_88.png',\n",
       " 'C89P50ThinF_IMG_20150820_162504_cell_178.png',\n",
       " 'C123P84ThinF_IMG_20151002_152330_cell_160.png',\n",
       " 'C164P125ThinF_IMG_20151116_120135_cell_129.png',\n",
       " 'C5NThinF_IMG_20150609_122020_cell_230.png',\n",
       " 'C110P71ThinF_IMG_20150930_105729_cell_18.png',\n",
       " 'C82P43ThinF_IMG_20150817_124418_cell_31.png',\n",
       " 'C167P128ReThinF_IMG_20151201_105707_cell_131.png',\n",
       " 'C73P34_ThinF_IMG_20150815_111114_cell_77.png',\n",
       " 'C59P20thinF_IMG_20150803_112858_cell_49.png',\n",
       " 'C61P22N_ThinF_IMG_20150818_112704_cell_10.png',\n",
       " 'C82P43ThinF_IMG_20150817_123500_cell_175.png',\n",
       " 'C210ThinF_IMG_20151029_162357_cell_80.png',\n",
       " 'C104P65ThinF_IMG_20150918_172537_cell_133.png',\n",
       " 'C94P55ThinF_IMG_20150821_170403_cell_104.png',\n",
       " 'C147P108ThinF_IMG_20151115_092900_cell_12.png',\n",
       " 'C232ThinF_IMG_20151112_154211_cell_158.png',\n",
       " 'C211ThinF_IMG_20151029_164218_cell_167.png',\n",
       " 'C54P15thinF_IMG_20150728_113006_cell_55.png',\n",
       " 'C155P116ThinF_IMG_20151115_143125_cell_44.png',\n",
       " 'C182P143NThinF_IMG_20151201_171950_cell_35.png',\n",
       " 'C209ThinF_IMG_20151029_160857_cell_293.png',\n",
       " 'C94P55ThinF_IMG_20150821_170249_cell_207.png',\n",
       " 'C161P122ThinF_IMG_20151116_101126_cell_67.png',\n",
       " 'C119P80ThinF_IMG_20151002_123043_cell_110.png',\n",
       " 'C53P14thinF_IMG_20150726_114918_cell_19.png',\n",
       " 'C229ThinF_IMG_20151112_144147_cell_167.png',\n",
       " 'C98P59ThinF_IMG_20150917_153938_cell_170.png',\n",
       " 'C5NThinF_IMG_20150609_122020_cell_138.png',\n",
       " 'C89P50ThinF_IMG_20150820_162153_cell_83.png',\n",
       " 'C121P82ThinF_IMG_20151002_134659_cell_55.png',\n",
       " 'C142P103ThinF_IMG_20151005_221900_cell_60.png',\n",
       " 'C106P67ThinF_IMG_20150924_102413_cell_9.png',\n",
       " 'C135P96ThinF_IMG_20151005_124359_cell_111.png',\n",
       " 'C51AP12thinF_IMG_20150724_154330_cell_61.png',\n",
       " 'C236ThinF_IMG_20151127_102516_cell_251.png',\n",
       " 'C221ThinF_IMG_20151106_160515_cell_52.png',\n",
       " 'C135P96ThinF_IMG_20151005_124031_cell_144.png',\n",
       " 'C232ThinF_IMG_20151112_154345_cell_121.png',\n",
       " 'C216ThinF_IMG_20151106_134733_cell_52.png',\n",
       " 'C149P110ThinF_IMG_20151115_115154_cell_135.png',\n",
       " 'C109P70ThinF_IMG_20150930_103113_cell_56.png',\n",
       " 'C225ThinF_IMG_20151112_113915_cell_136.png',\n",
       " 'C168P129ThinF_IMG_20151118_154651_cell_75.png',\n",
       " 'C66P27N_ThinF_IMG_20150818_163419_cell_127.png',\n",
       " 'C52P13thinF_IMG_20150725_124830_cell_123.png',\n",
       " 'C105P66ThinF_IMG_20150924_094800_cell_62.png',\n",
       " 'C220ThinF_IMG_20151106_154510_cell_54.png',\n",
       " 'C121P82ThinF_IMG_20151002_133158_cell_35.png',\n",
       " 'C176P137NThinF_IMG_20151201_121303_cell_2.png',\n",
       " 'C71P32_ThinF_IMG_20150813_163655_cell_165.png',\n",
       " 'C33P1thinF_IMG_20150619_120838a_cell_28.png',\n",
       " 'C110P71ThinF_IMG_20150930_110052_cell_196.png',\n",
       " 'C140P101ThinF_IMG_20151005_211530_cell_65.png',\n",
       " 'C204ThinF_IMG_20151029_112502_cell_182.png',\n",
       " 'C1_thinF_IMG_20150604_105100_cell_277.png',\n",
       " 'C46P7ThinF_IMG_20151130_210123_cell_115.png',\n",
       " 'C68P29N_ThinF_IMG_20150819_134112_cell_8.png',\n",
       " 'C160P121ThinF_IMG_20151116_094509_cell_133.png',\n",
       " 'C177P138NThinF_IMG_20151201_143546_cell_7.png',\n",
       " 'C186P147NThinF_IMG_20151203_150859_cell_54.png',\n",
       " 'C66P27N_ThinF_IMG_20150818_163419_cell_120.png',\n",
       " 'C69P30N_ThinF_IMG_20150819_135613_cell_102.png',\n",
       " 'C80P41ThinF_IMG_20150817_110348_cell_111.png',\n",
       " 'C155P116ThinF_IMG_20151115_143051_cell_53.png',\n",
       " 'C130P91ThinF_IMG_20151004_142709_cell_67.png',\n",
       " 'C112P73ThinF_IMG_20150930_131605_cell_13.png',\n",
       " 'C85P46ThinF_IMG_20150820_105154_cell_62.png',\n",
       " 'C59P20thinF_IMG_20150803_113051_cell_113.png',\n",
       " 'C54P15thinF_IMG_20150728_105949_cell_47.png',\n",
       " 'C238NThinF_IMG_20151207_114914_cell_26.png',\n",
       " 'C223ThinF_IMG_20151112_104708_cell_177.png',\n",
       " 'C47P8thin_Original_Motic_IMG_20150714_093600_cell_41.png',\n",
       " 'C65P26N_ThinF_IMG_20150818_154714_cell_120.png',\n",
       " 'C69P30N_ThinF_IMG_20150819_135421_cell_19.png',\n",
       " 'C65P26N_ThinF_IMG_20150818_154326_cell_175.png',\n",
       " 'C71P32_ThinF_IMG_20150813_163655_cell_20.png',\n",
       " 'C86P47ThinF_IMG_20150820_125057_cell_142.png',\n",
       " 'C225ThinF_IMG_20151112_113953_cell_192.png',\n",
       " 'C212ThinF_IMG_20151106_105437_cell_264.png',\n",
       " 'C68P29N_ThinF_IMG_20150819_134504_cell_24.png',\n",
       " 'C84P45ThinF_IMG_20150818_101257_cell_4.png',\n",
       " 'C88P49ThinF_IMG_20150820_151626_cell_31.png',\n",
       " 'C46P7ThinF_IMG_20151130_205719_cell_56.png',\n",
       " 'C46P7ThinF_IMG_20151130_210843_cell_88.png',\n",
       " 'C141P102ThinF_IMG_20151005_214338_cell_23.png',\n",
       " 'C228ThinF_IMG_20151112_142452_cell_41.png',\n",
       " 'C230ThinF_IMG_20151112_150730_cell_219.png',\n",
       " 'C182P143NThinF_IMG_20151201_172257_cell_87.png',\n",
       " 'C240ThinF_IMG_20151127_115306_cell_105.png',\n",
       " 'C58P19thinF_IMG_20150802_122648_cell_151.png',\n",
       " 'C123P84ThinF_IMG_20151002_151851_cell_150.png',\n",
       " 'C214ThinF_IMG_20151106_114611_cell_223.png',\n",
       " 'C160P121ThinF_IMG_20151116_093629_cell_13.png',\n",
       " 'C86P47ThinF_IMG_20150820_125057_cell_149.png',\n",
       " 'C168P129ThinF_IMG_20151118_155802_cell_115.png',\n",
       " 'C91P52ThinF_IMG_20150821_123314_cell_112.png',\n",
       " 'C48P9thinF_IMG_20150721_160944_cell_53.png',\n",
       " 'C172P133ThinF_IMG_20151119_155343_cell_133.png',\n",
       " 'C171P132ThinF_IMG_20151119_153347_cell_103.png',\n",
       " 'C96P57ThinF_IMG_20150824_105445_cell_17.png',\n",
       " 'C74P35_ThinF_IMG_20150815_120712_cell_33.png',\n",
       " 'C204ThinF_IMG_20151029_110834_cell_111.png',\n",
       " 'C7NthinF_IMG_20150611_105043_cell_59.png',\n",
       " 'C145P106ThinF_IMG_20151016_155051_cell_67.png',\n",
       " 'C118P79ThinF_IMG_20151002_105125_cell_93.png',\n",
       " 'C186P147NThinF_IMG_20151203_150222_cell_130.png',\n",
       " 'C115P76ThinF_IMG_20150930_163156_cell_75.png',\n",
       " 'C165P126ThinF_IMG_20151117_172859_cell_191.png',\n",
       " 'C182P143NThinF_IMG_20151201_172216_cell_33.png',\n",
       " 'C49P10thinF_IMG_20150724_103054_cell_62.png',\n",
       " 'C147P108ThinF_IMG_20151115_101317_cell_177.png',\n",
       " 'C166P127ThinF_IMG_20151117_194147_cell_97.png',\n",
       " 'C131P92ThinF_IMG_20151004_145224_cell_5.png',\n",
       " 'C206ThinF_IMG_20151029_140917_cell_225.png',\n",
       " 'C169P130ThinF_IMG_20151119_143039_cell_49.png',\n",
       " 'C137P98ThinF_IMG_20151005_163712_cell_74.png',\n",
       " 'C182P143NThinF_IMG_20151201_172216_cell_87.png',\n",
       " 'C58P19thinF_IMG_20150802_122215_cell_16.png',\n",
       " 'C149P110ThinF_IMG_20151115_114729_cell_76.png',\n",
       " 'C74P35_ThinF_IMG_20150815_114555_cell_27.png',\n",
       " 'C4thin_original_IMG_20150608_165540_cell_178.png',\n",
       " 'C126P87ThinF_IMG_20151004_105342_cell_16.png',\n",
       " 'C146P107ThinF_IMG_20151018_134554_cell_137.png',\n",
       " 'C102P63ThinF_IMG_20150918_163054_cell_25.png',\n",
       " 'C60P21thinF_IMG_20150803_144510_cell_111.png',\n",
       " 'C111P72ThinF_IMG_20150930_113610_cell_134.png',\n",
       " 'C158P119ThinF_IMG_20151115_181558_cell_190.png',\n",
       " 'C139P100ThinF_IMG_20151005_182257_cell_153.png',\n",
       " 'C224ThinF_IMG_20151112_111955_cell_132.png',\n",
       " 'C147P108ThinF_IMG_20151115_101156_cell_19.png',\n",
       " 'C215ThinF_IMG_20151106_133043_cell_136.png',\n",
       " 'C209ThinF_IMG_20151029_160927_cell_46.png',\n",
       " 'C228ThinF_IMG_20151112_142216_cell_245.png',\n",
       " 'C83P44ThinF_IMG_20150817_133454_cell_20.png',\n",
       " 'C217ThinF_IMG_20151106_141500_cell_140.png',\n",
       " 'C73P34_ThinF_IMG_20150815_112246_cell_90.png',\n",
       " 'C204ThinF_IMG_20151029_110834_cell_183.png',\n",
       " 'C229ThinF_IMG_20151112_144652_cell_81.png',\n",
       " 'C241NThinF_IMG_20151207_124643_cell_136.png',\n",
       " 'C205ThinF_IMG_20151106_151800_cell_133.png',\n",
       " 'C180P141NThinF_IMG_20151201_165601_cell_104.png',\n",
       " 'C215ThinF_IMG_20151106_133116_cell_82.png',\n",
       " 'C12NThinF_IMG_20150614_125741_cell_172.png',\n",
       " 'C211ThinF_IMG_20151029_164248_cell_12.png',\n",
       " 'C91P52ThinF_IMG_20150821_125154_cell_111.png',\n",
       " 'C50P11thinF_IMG_20150724_120553_cell_127.png',\n",
       " 'C142P103ThinF_IMG_20151005_221931_cell_100.png',\n",
       " 'C215ThinF_IMG_20151106_133643_cell_149.png',\n",
       " 'C118P79ThinF_IMG_20151002_110834_cell_10.png',\n",
       " 'C120P81ThinF_IMG_20151002_125443_cell_107.png',\n",
       " 'C109P70ThinF_IMG_20150930_103811_cell_66.png',\n",
       " 'C227ThinF_IMG_20151112_135308_cell_179.png',\n",
       " 'C130P91ThinF_IMG_20151004_141504_cell_72.png',\n",
       " 'C60P21thinF_IMG_20150804_105034_cell_100.png',\n",
       " 'C219ThinF_IMG_20151106_145856_cell_49.png',\n",
       " 'C91P52ThinF_IMG_20150821_125154_cell_117.png',\n",
       " 'C58P19thinF_IMG_20150802_121847_cell_120.png',\n",
       " 'C128P89ThinF_IMG_20151004_131753_cell_112.png',\n",
       " 'C109P70ThinF_IMG_20150930_103811_cell_130.png',\n",
       " 'C208ThinF_IMG_20151029_155436_cell_127.png',\n",
       " 'C57P18thinF_IMG_20150729_111518_cell_38.png',\n",
       " 'C214ThinF_IMG_20151106_114910_cell_185.png',\n",
       " 'C202ThinF_IMG_20151015_151254_cell_80.png',\n",
       " 'C38P3thinF_original_IMG_20150621_112138_cell_40.png',\n",
       " 'C33P1thinF_IMG_20150619_120742a_cell_123.png',\n",
       " 'C179P140ThinF_IMG_20151127_153852_cell_144.png',\n",
       " 'C164P125ThinF_IMG_20151116_113651_cell_93.png',\n",
       " 'C188P149ThinF_IMG_20151203_134229_cell_110.png',\n",
       " 'C82P43ThinF_IMG_20150817_123824_cell_167.png',\n",
       " 'C183P144NThinF_IMG_20151201_222917_cell_25.png',\n",
       " 'C174P135NThinF_IMG_20151127_135554_cell_58.png',\n",
       " 'C2NThinF_IMG_20150604_114631_cell_215.png',\n",
       " 'C51AP12thinF_IMG_20150724_155557_cell_15.png',\n",
       " 'C169P130ThinF_IMG_20151119_143039_cell_182.png',\n",
       " 'C234ThinF_IMG_20151112_162940_cell_267.png',\n",
       " 'C177P138NThinF_IMG_20151201_143546_cell_29.png',\n",
       " 'C88P49ThinF_IMG_20150820_150724_cell_163.png',\n",
       " 'C42P5thin_original_IMG_20150623_135746_cell_80.png',\n",
       " 'C73P34_ThinF_IMG_20150815_112246_cell_160.png',\n",
       " 'C228ThinF_IMG_20151112_142109_cell_98.png',\n",
       " 'C65P26N_ThinF_IMG_20150818_154326_cell_94.png',\n",
       " 'C12NThinF_IMG_20150614_124244_cell_230.png',\n",
       " 'C166P127ThinF_IMG_20151117_193931_cell_25.png',\n",
       " 'C59P20thinF_IMG_20150803_112858_cell_16.png',\n",
       " 'C184P145ThinF_IMG_20151203_102543_cell_61.png',\n",
       " 'C74P35_ThinF_IMG_20150815_114401_cell_14.png',\n",
       " 'C90P51ThinF_IMG_20150821_115056_cell_202.png',\n",
       " 'C184P145ThinF_IMG_20151203_102405_cell_93.png',\n",
       " 'C107P68ThinF_IMG_20150924_221632_cell_23.png',\n",
       " 'C155P116ThinF_IMG_20151115_142805_cell_161.png',\n",
       " 'C116P77ThinF_IMG_20150930_171558_cell_1.png',\n",
       " 'C146P107ThinF_IMG_20151018_134554_cell_163.png',\n",
       " 'C33P1thinF_IMG_20150619_121411a_cell_114.png',\n",
       " 'C172P133ThinF_IMG_20151119_155156_cell_206.png',\n",
       " 'C143P104ThinF_IMG_20151005_230100_cell_15.png',\n",
       " 'C238NThinF_IMG_20151207_114605_cell_151.png',\n",
       " 'C236ThinF_IMG_20151127_102516_cell_104.png',\n",
       " 'C239ThinF_IMG_20151127_113223_cell_245.png',\n",
       " 'C101P62ThinF_IMG_20150918_151149_cell_61.png',\n",
       " 'C178P139NThinF_IMG_20151201_151903_cell_68.png',\n",
       " 'C62P23N_ThinF_IMG_20150818_133211_cell_70.png',\n",
       " 'C13NThinF_IMG_20150614_131617_cell_22.png',\n",
       " 'C202ThinF_IMG_20151015_151254_cell_126.png',\n",
       " 'C189P150ThinF_IMG_20151203_141406_cell_76.png',\n",
       " 'C98P59ThinF_IMG_20150917_153311_cell_118.png',\n",
       " 'C62P23N_ThinF_IMG_20150818_133307_cell_129.png',\n",
       " 'C184P145ThinF_IMG_20151203_102405_cell_45.png',\n",
       " 'C241NThinF_IMG_20151207_124608_cell_104.png',\n",
       " 'C147P108ThinF_IMG_20151115_101317_cell_2.png',\n",
       " 'C49P10thinF_IMG_20150724_103233_cell_44.png',\n",
       " 'C211ThinF_IMG_20151029_164218_cell_210.png',\n",
       " 'C81P42ThinF_IMG_20150817_115942_cell_120.png',\n",
       " 'C59P20thinF_IMG_20150803_112858_cell_68.png',\n",
       " 'C162P123ThinF_IMG_20151116_104451_cell_47.png',\n",
       " 'C110P71ThinF_IMG_20150930_105729_cell_117.png',\n",
       " 'C173P134NThinF_IMG_20151130_115733_cell_113.png',\n",
       " 'C153P114ThinF_IMG_20151115_140242_cell_251.png',\n",
       " 'C39P4thinF_original_IMG_20150622_111206_cell_46.png',\n",
       " 'C132P93ThinF_IMG_20151004_152045_cell_36.png',\n",
       " 'C74P35_ThinF_IMG_20150815_114153_cell_63.png',\n",
       " 'C182P143NThinF_IMG_20151201_171950_cell_53.png',\n",
       " 'C165P126ThinF_IMG_20151117_172859_cell_161.png',\n",
       " 'C116P77ThinF_IMG_20150930_171219_cell_65.png',\n",
       " 'C74P35_ThinF_IMG_20150815_120712_cell_15.png',\n",
       " 'C168P129ThinF_IMG_20151118_153739_cell_15.png',\n",
       " 'C157P118ThinF_IMG_20151115_164026_cell_19.png',\n",
       " 'C117P78ThinF_IMG_20150930_214511_cell_18.png',\n",
       " 'C121P82ThinF_IMG_20151002_134805_cell_7.png',\n",
       " 'C99P60ThinF_IMG_20150918_141001_cell_46.png',\n",
       " 'C127P88ThinF_IMG_20151004_112301_cell_122.png',\n",
       " 'C112P73ThinF_IMG_20150930_131900_cell_46.png',\n",
       " 'C63P24N_ThinF_IMG_20150818_144456_cell_18.png',\n",
       " 'C239ThinF_IMG_20151127_113223_cell_284.png',\n",
       " 'C49P10thinF_IMG_20150724_102843_cell_127.png',\n",
       " 'C155P116ThinF_IMG_20151115_143330_cell_55.png',\n",
       " 'C201ThinF_IMG_20150930_143502_cell_241.png',\n",
       " 'C154P115ThinF_IMG_20151115_141336_cell_133.png',\n",
       " 'C86P47ThinF_IMG_20150820_124943_cell_207.png',\n",
       " 'C39P4thinF_original_IMG_20150622_110352_cell_47.png',\n",
       " 'C236ThinF_IMG_20151127_102428_cell_118.png',\n",
       " 'C79P40ThinF_IMG_20150817_103901_cell_107.png',\n",
       " 'C149P110ThinF_IMG_20151115_115154_cell_216.png',\n",
       " 'C223ThinF_IMG_20151112_103809_cell_122.png',\n",
       " 'C77P38ThinF_IMG_20150602_143650_cell_105.png',\n",
       " 'C169P130ThinF_IMG_20151118_163539_cell_95.png',\n",
       " 'C6NThinF_IMG_20150609_122547_cell_123.png',\n",
       " 'C108P69ThinF_IMG_20150924_224616_cell_45.png',\n",
       " 'C239ThinF_IMG_20151127_113223_cell_7.png',\n",
       " 'C121P82ThinF_IMG_20151002_133631_cell_34.png',\n",
       " 'C125P86ThinF_IMG_20151004_101158_cell_130.png',\n",
       " 'C42P5thin_original_IMG_20150623_135746_cell_126.png',\n",
       " 'C235ThinF_IMG_20151112_164625_cell_228.png',\n",
       " 'C75P36_ThinF_IMG_20150815_163707_cell_33.png',\n",
       " 'C231ThinF_IMG_20151112_153041_cell_105.png',\n",
       " 'C157P118ThinF_IMG_20151115_163915_cell_79.png',\n",
       " 'C60P21thinF_IMG_20150804_113602_cell_16.png',\n",
       " 'C145P106ThinF_IMG_20151016_155051_cell_142.png',\n",
       " 'C228ThinF_IMG_20151112_142216_cell_179.png',\n",
       " 'C143P104ThinF_IMG_20151005_225528_cell_103.png',\n",
       " 'C233ThinF_IMG_20151112_160129_cell_104.png',\n",
       " 'C111P72ThinF_IMG_20150930_113003_cell_156.png',\n",
       " 'C64P25N_ThinF_IMG_20150818_152613_cell_156.png',\n",
       " 'C152P113ThinF_IMG_20151115_125038_cell_37.png',\n",
       " 'C33P1thinF_IMG_20150619_121435a_cell_98.png',\n",
       " 'C115P76ThinF_IMG_20150930_161825_cell_25.png',\n",
       " 'C46P7ThinF_IMG_20151130_210123_cell_24.png',\n",
       " 'C60P21thinF_IMG_20150804_113602_cell_50.png',\n",
       " 'C5NThinF_IMG_20150609_122034_cell_148.png',\n",
       " 'C177P138NThinF_IMG_20151201_143704_cell_125.png',\n",
       " 'C230ThinF_IMG_20151112_150753_cell_203.png',\n",
       " 'C68P29N_ThinF_IMG_20150819_133447_cell_104.png',\n",
       " 'C45P6ThinF_IMG_20151130_160241_cell_74.png',\n",
       " 'C101P62ThinF_IMG_20150918_151149_cell_63.png',\n",
       " 'C84P45ThinF_IMG_20150818_101550_cell_82.png',\n",
       " 'C88P49ThinF_IMG_20150820_153042_cell_46.png',\n",
       " 'C109P70ThinF_IMG_20150930_103811_cell_37.png',\n",
       " 'C102P63ThinF_IMG_20150918_163054_cell_76.png',\n",
       " 'C95P56ThinF_IMG_20150821_171631_cell_72.png',\n",
       " 'C219ThinF_IMG_20151106_150135_cell_98.png',\n",
       " 'C59P20thinF_IMG_20150803_111244_cell_157.png',\n",
       " 'C227ThinF_IMG_20151112_135308_cell_109.png',\n",
       " 'C65P26N_ThinF_IMG_20150818_154436_cell_81.png',\n",
       " 'C110P71ThinF_IMG_20150930_105729_cell_167.png',\n",
       " 'C151P112ThinF_IMG_20151115_121644_cell_7.png',\n",
       " 'C77P38ThinF_IMG_20150602_111510_cell_25.png',\n",
       " 'C136P97ThinF_IMG_20151005_141803_cell_18.png',\n",
       " 'C116P77ThinF_IMG_20150930_171558_cell_22.png',\n",
       " 'C119P80ThinF_IMG_20151002_123911_cell_17.png',\n",
       " 'C126P87ThinF_IMG_20151004_104623_cell_43.png',\n",
       " 'C221ThinF_IMG_20151106_160515_cell_84.png',\n",
       " 'C99P60ThinF_IMG_20150918_142128_cell_56.png',\n",
       " 'C127P88ThinF_IMG_20151004_111220_cell_118.png',\n",
       " 'C139P100ThinF_IMG_20151005_183521_cell_70.png',\n",
       " 'C88P49ThinF_IMG_20150820_151451_cell_56.png',\n",
       " 'C230ThinF_IMG_20151112_150753_cell_29.png',\n",
       " 'C238NThinF_IMG_20151207_114605_cell_164.png',\n",
       " 'C83P44ThinF_IMG_20150817_133609_cell_61.png',\n",
       " 'C63P24N_ThinF_IMG_20150818_143544_cell_137.png',\n",
       " 'C7NthinF_IMG_20150611_105043_cell_132.png',\n",
       " 'C81P42ThinF_IMG_20150817_120856_cell_147.png',\n",
       " 'C74P35_ThinF_IMG_20150815_120957_cell_32.png',\n",
       " 'C108P69ThinF_IMG_20150924_225004_cell_109.png',\n",
       " 'C5NThinF_IMG_20150609_122006_cell_82.png',\n",
       " 'C229ThinF_IMG_20151112_144222_cell_132.png',\n",
       " 'C118P79ThinF_IMG_20151002_110834_cell_23.png',\n",
       " 'C150P111ThinF_IMG_20151115_120244_cell_180.png',\n",
       " 'C214ThinF_IMG_20151106_131748_cell_189.png',\n",
       " 'C115P76ThinF_IMG_20150930_161825_cell_119.png',\n",
       " 'C64P25N_ThinF_IMG_20150818_153401_cell_135.png',\n",
       " 'C153P114ThinF_IMG_20151115_135832_cell_236.png',\n",
       " 'C122P83ThinF_IMG_20151002_145014_cell_158.png',\n",
       " 'C180P141NThinF_IMG_20151201_163848_cell_1.png',\n",
       " 'C46P7ThinF_IMG_20151130_205756_cell_7.png',\n",
       " 'C188P149ThinF_IMG_20151203_134209_cell_73.png',\n",
       " 'C79P40ThinF_IMG_20150817_103901_cell_54.png',\n",
       " 'C139P100ThinF_IMG_20151005_182822_cell_108.png',\n",
       " 'C213ThinF_IMG_20151106_112853_cell_118.png',\n",
       " 'C51AP12thinF_IMG_20150724_162636_cell_30.png',\n",
       " 'C141P102ThinF_IMG_20151005_214033_cell_39.png',\n",
       " 'C238NThinF_IMG_20151207_114605_cell_83.png',\n",
       " 'C1_thinF_IMG_20150604_104919_cell_240.png',\n",
       " 'C56P17thinF_IMG_20150728_160256_cell_57.png',\n",
       " 'C236ThinF_IMG_20151127_102115_cell_210.png',\n",
       " 'C64P25N_ThinF_IMG_20150818_152921_cell_119.png',\n",
       " 'C214ThinF_IMG_20151106_114526_cell_147.png',\n",
       " 'C184P145ThinF_IMG_20151203_103824_cell_49.png',\n",
       " 'C139P100ThinF_IMG_20151005_182822_cell_146.png',\n",
       " 'C180P141NThinF_IMG_20151201_163848_cell_81.png',\n",
       " 'C204ThinF_IMG_20151029_112502_cell_248.png',\n",
       " 'C179P140ThinF_IMG_20151127_153521_cell_103.png',\n",
       " 'C110P71ThinF_IMG_20150930_110404_cell_70.png',\n",
       " 'C214ThinF_IMG_20151106_114526_cell_136.png',\n",
       " 'C1_thinF_IMG_20150604_104942_cell_218.png',\n",
       " 'C147P108ThinF_IMG_20151115_092900_cell_64.png',\n",
       " 'C137P98ThinF_IMG_20151005_155704_cell_35.png',\n",
       " 'C233ThinF_IMG_20151112_160129_cell_220.png',\n",
       " 'C161P122ThinF_IMG_20151116_100959_cell_114.png',\n",
       " 'C213ThinF_IMG_20151106_112603_cell_52.png',\n",
       " 'C165P126ThinF_IMG_20151117_173346_cell_36.png',\n",
       " 'C139P100ThinF_IMG_20151005_182822_cell_83.png',\n",
       " 'C186P147NThinF_IMG_20151203_150557_cell_78.png',\n",
       " 'C42P5thin_original_IMG_20150623_135251_cell_121.png',\n",
       " 'C4thin_original_IMG_20150608_165908_cell_132.png',\n",
       " 'C186P147NThinF_IMG_20151203_150132_cell_157.png',\n",
       " 'C169P130ThinF_IMG_20151119_143212_cell_118.png',\n",
       " 'C73P34_ThinF_IMG_20150815_111302_cell_30.png',\n",
       " 'C114P75ThinF_IMG_20150930_151150_cell_24.png',\n",
       " 'C180P141NThinF_IMG_20151201_165528_cell_55.png',\n",
       " 'C115P76ThinF_IMG_20150930_163018_cell_103.png',\n",
       " 'C241NThinF_IMG_20151207_124358_cell_82.png',\n",
       " 'C117P78ThinF_IMG_20150930_221812_cell_61.png',\n",
       " 'C129P90ThinF_IMG_20151004_133703_cell_17.png',\n",
       " 'C127P88ThinF_IMG_20151004_111220_cell_18.png',\n",
       " 'C96P57ThinF_IMG_20150824_105213_cell_9.png',\n",
       " 'C100P61ThinF_IMG_20150918_150041_cell_127.png',\n",
       " 'C140P101ThinF_IMG_20151005_210309_cell_45.png',\n",
       " 'C125P86ThinF_IMG_20151004_101929_cell_83.png',\n",
       " 'C59P20thinF_IMG_20150803_111333_cell_113.png',\n",
       " 'C139P100ThinF_IMG_20151005_183338_cell_37.png',\n",
       " 'C108P69ThinF_IMG_20150924_224038_cell_186.png',\n",
       " 'C230ThinF_IMG_20151112_150730_cell_209.png',\n",
       " 'C215ThinF_IMG_20151106_133012_cell_233.png',\n",
       " 'C71P32_ThinF_IMG_20150813_161634_cell_128.png',\n",
       " 'C172P133ThinF_IMG_20151119_154936_cell_122.png',\n",
       " 'C60P21thinF_IMG_20150804_105034_cell_95.png',\n",
       " 'C77P38ThinF_IMG_20150602_142303_cell_84.png',\n",
       " 'C53P14thinF_IMG_20150726_115046_cell_81.png',\n",
       " 'C48P9thinF_IMG_20150721_160406_cell_183.png',\n",
       " 'C62P23N_ThinF_IMG_20150818_133307_cell_141.png',\n",
       " 'C72P33_ThinF_IMG_20150815_104923_cell_208.png',\n",
       " 'C168P129ThinF_IMG_20151118_155802_cell_15.png',\n",
       " 'C103P64ThinF_IMG_20150918_164553_cell_145.png',\n",
       " 'C62P23N_ThinF_IMG_20150818_132811_cell_85.png',\n",
       " 'C62P23N_ThinF_IMG_20150818_133211_cell_76.png',\n",
       " 'C239ThinF_IMG_20151127_113253_cell_169.png',\n",
       " 'C62P23N_ThinF_IMG_20150818_133211_cell_172.png',\n",
       " 'C140P101ThinF_IMG_20151005_205922_cell_54.png',\n",
       " 'C140P101ThinF_IMG_20151005_205406_cell_4.png',\n",
       " 'C181P142ThinF_IMG_20151127_160616_cell_54.png',\n",
       " 'C166P127ThinF_IMG_20151117_193235_cell_11.png',\n",
       " 'C238NThinF_IMG_20151207_114345_cell_179.png',\n",
       " 'C78P39ThinF_IMG_20150606_104936_cell_117.png',\n",
       " 'C85P46ThinF_IMG_20150820_105154_cell_208.png',\n",
       " 'C47P8thin_Original_Motic_IMG_20150714_093600_cell_25.png',\n",
       " 'C4thin_original_IMG_20150608_170038_cell_97.png',\n",
       " 'C139P100ThinF_IMG_20151005_182822_cell_100.png',\n",
       " 'C69P30N_ThinF_IMG_20150819_140143_cell_71.png',\n",
       " 'C189P150ThinF_IMG_20151203_141110_cell_36.png',\n",
       " 'C185P146ThinF_IMG_20151203_110933_cell_111.png',\n",
       " 'C182P143NThinF_IMG_20151201_172257_cell_56.png',\n",
       " 'C150P111ThinF_IMG_20151115_115805_cell_16.png',\n",
       " 'C184P145ThinF_IMG_20151203_103824_cell_37.png',\n",
       " 'C185P146ThinF_IMG_20151203_110448_cell_245.png',\n",
       " 'C98P59ThinF_IMG_20150917_153600_cell_27.png',\n",
       " 'C6NThinF_IMG_20150609_122832_cell_42.png',\n",
       " 'C169P130ThinF_IMG_20151118_172913_cell_209.png',\n",
       " 'C5NThinF_IMG_20150609_122034_cell_154.png',\n",
       " 'C102P63ThinF_IMG_20150918_162051_cell_1.png',\n",
       " 'C81P42ThinF_IMG_20150817_121113_cell_53.png',\n",
       " 'C163P124ThinF_IMG_20151116_110921_cell_73.png',\n",
       " 'C86P47ThinF_IMG_20150820_123717_cell_98.png',\n",
       " 'C210ThinF_IMG_20151029_162834_cell_108.png',\n",
       " 'C207ThinF_IMG_20151029_143711_cell_157.png',\n",
       " 'C237ThinF_IMG_20151127_104844_cell_99.png',\n",
       " 'C2NThinF_IMG_20150604_114631_cell_141.png',\n",
       " 'C238NThinF_IMG_20151207_114605_cell_171.png',\n",
       " 'C234ThinF_IMG_20151112_163036_cell_281.png',\n",
       " 'C222ThinF_IMG_20151115_150728_cell_106.png',\n",
       " 'C74P35_ThinF_IMG_20150815_121324_cell_104.png',\n",
       " 'C168P129ThinF_IMG_20151118_160516_cell_55.png',\n",
       " 'C236ThinF_IMG_20151127_102115_cell_104.png',\n",
       " 'C238NThinF_IMG_20151207_115017_cell_191.png',\n",
       " 'C117P78ThinF_IMG_20150930_214629_cell_45.png',\n",
       " 'C138P99ThinF_IMG_20151005_171332_cell_49.png',\n",
       " 'C187P148NThinF_IMG_20151203_153410_cell_86.png',\n",
       " 'C115P76ThinF_IMG_20150930_163018_cell_123.png',\n",
       " 'C70P31_ThinF_IMG_20150819_142744_cell_68.png',\n",
       " 'C37BP2_thinF_IMG_20150620_132440a_cell_41.png',\n",
       " 'C121P82ThinF_IMG_20151002_135237_cell_14.png',\n",
       " 'C121P82ThinF_IMG_20151002_134805_cell_68.png',\n",
       " 'C96P57ThinF_IMG_20150824_105531_cell_71.png',\n",
       " 'C221ThinF_IMG_20151106_155857_cell_85.png',\n",
       " 'C52P13thinF_IMG_20150725_124606_cell_110.png',\n",
       " 'C61P22N_ThinF_IMG_20150818_112252_cell_12.png',\n",
       " 'C53P14thinF_IMG_20150726_120600_cell_44.png',\n",
       " 'C2NThinF_IMG_20150604_115238_cell_259.png',\n",
       " 'C204ThinF_IMG_20151029_112502_cell_226.png',\n",
       " 'C211ThinF_IMG_20151029_163959_cell_42.png',\n",
       " 'C209ThinF_IMG_20151029_160927_cell_23.png',\n",
       " 'C125P86ThinF_IMG_20151004_102013_cell_56.png',\n",
       " 'C64P25N_ThinF_IMG_20150818_152337_cell_17.png',\n",
       " 'C214ThinF_IMG_20151106_114611_cell_200.png',\n",
       " 'C118P79ThinF_IMG_20151002_105125_cell_89.png',\n",
       " 'C120P81ThinF_IMG_20151002_125443_cell_120.png',\n",
       " 'C209ThinF_IMG_20151029_160927_cell_189.png',\n",
       " 'C188P149ThinF_IMG_20151203_135433_cell_20.png',\n",
       " 'C239ThinF_IMG_20151127_113202_cell_62.png',\n",
       " 'C229ThinF_IMG_20151112_144652_cell_56.png',\n",
       " 'C161P122ThinF_IMG_20151116_101403_cell_101.png',\n",
       " 'C102P63ThinF_IMG_20150918_162511_cell_133.png',\n",
       " 'C56P17thinF_IMG_20150728_155921_cell_86.png',\n",
       " 'C236ThinF_IMG_20151127_102546_cell_199.png',\n",
       " 'C49P10thinF_IMG_20150724_103233_cell_105.png',\n",
       " 'C216ThinF_IMG_20151106_134931_cell_41.png',\n",
       " 'C47P8thinOriginalOlympusCX21_IMG_20150717_174222_cell_117.png',\n",
       " 'C184P145ThinF_IMG_20151203_102543_cell_76.png',\n",
       " 'C122P83ThinF_IMG_20151002_150207_cell_114.png',\n",
       " 'C231ThinF_IMG_20151112_153246_cell_212.png',\n",
       " 'C101P62ThinF_IMG_20150923_170344_cell_55.png',\n",
       " 'C158P119ThinF_IMG_20151115_181436_cell_189.png',\n",
       " 'C212ThinF_IMG_20151106_105834_cell_6.png',\n",
       " 'C229ThinF_IMG_20151112_144534_cell_110.png',\n",
       " 'C70P31_ThinF_IMG_20150819_141436_cell_87.png',\n",
       " 'C221ThinF_IMG_20151106_160727_cell_135.png',\n",
       " 'C94P55ThinF_IMG_20150821_170249_cell_97.png',\n",
       " 'C148P109ThinF_IMG_20151115_112855_cell_39.png',\n",
       " 'C45P6ThinF_IMG_20151130_154725_cell_25.png',\n",
       " 'C163P124ThinF_IMG_20151116_111742_cell_108.png',\n",
       " 'C134P95ThinF_IMG_20151005_121343_cell_68.png',\n",
       " 'C176P137NThinF_IMG_20151201_121808_cell_24.png',\n",
       " 'C185P146ThinF_IMG_20151203_110817_cell_53.png',\n",
       " 'C108P69ThinF_IMG_20150924_224909_cell_47.png',\n",
       " 'C152P113ThinF_IMG_20151115_124323_cell_145.png',\n",
       " 'C161P122ThinF_IMG_20151116_101626_cell_57.png',\n",
       " 'C157P118ThinF_IMG_20151115_163759_cell_11.png',\n",
       " 'C165P126ThinF_IMG_20151117_171646_cell_173.png',\n",
       " 'C76P37ThinF_IMG_20150815_165356_cell_60.png',\n",
       " 'C52P13thinF_IMG_20150725_125847_cell_104.png',\n",
       " 'C97P58ThinF_IMG_20150917_152032_cell_104.png',\n",
       " 'C7NthinF_IMG_20150611_104404_cell_117.png',\n",
       " 'C203ThinF_IMG_20151029_105443_cell_257.png',\n",
       " 'C37BP2_thinF_IMG_20150620_133205a_cell_9.png',\n",
       " 'C227ThinF_IMG_20151112_135308_cell_54.png',\n",
       " 'C75P36_ThinF_IMG_20150815_163707_cell_44.png',\n",
       " 'C234ThinF_IMG_20151112_163036_cell_183.png',\n",
       " 'C172P133ThinF_IMG_20151119_154936_cell_161.png',\n",
       " 'C111P72ThinF_IMG_20150930_112609_cell_56.png',\n",
       " 'C140P101ThinF_IMG_20151005_205922_cell_82.png',\n",
       " 'C87P48ThinF_IMG_20150820_141913_cell_69.png',\n",
       " 'C158P119ThinF_IMG_20151115_181436_cell_177.png',\n",
       " 'C72P33_ThinF_IMG_20150815_105823_cell_127.png',\n",
       " 'C235ThinF_IMG_20151112_165055_cell_237.png',\n",
       " 'C170P131ThinF_IMG_20151119_120019_cell_77.png',\n",
       " 'C186P147NThinF_IMG_20151203_150557_cell_128.png',\n",
       " 'C105P66ThinF_IMG_20150924_094944_cell_25.png',\n",
       " 'C188P149ThinF_IMG_20151203_134209_cell_167.png',\n",
       " 'C2NThinF_IMG_20150604_114631_cell_99.png',\n",
       " 'C232ThinF_IMG_20151112_154211_cell_167.png',\n",
       " 'C231ThinF_IMG_20151112_152234_cell_4.png',\n",
       " 'C160P121ThinF_IMG_20151116_092925_cell_136.png',\n",
       " 'C46P7ThinF_IMG_20151130_210938_cell_144.png',\n",
       " 'C204ThinF_IMG_20151029_110834_cell_18.png',\n",
       " 'C79P40ThinF_IMG_20150817_104316_cell_150.png',\n",
       " 'C58P19thinF_IMG_20150802_123134_cell_147.png',\n",
       " 'C174P135NThinF_IMG_20151127_135435_cell_15.png',\n",
       " 'C114P75ThinF_IMG_20150930_150057_cell_135.png',\n",
       " 'C179P140ThinF_IMG_20151127_153819_cell_97.png',\n",
       " 'C237ThinF_IMG_20151127_105320_cell_67.png',\n",
       " 'C164P125ThinF_IMG_20151116_120135_cell_11.png',\n",
       " 'C129P90ThinF_IMG_20151004_133244_cell_2.png',\n",
       " 'C1_thinF_IMG_20150604_104942_cell_168.png',\n",
       " 'C135P96ThinF_IMG_20151005_123715_cell_128.png',\n",
       " 'C182P143NThinF_IMG_20151201_172257_cell_52.png',\n",
       " 'C49P10thinF_IMG_20150724_103054_cell_186.png',\n",
       " 'C5NThinF_IMG_20150609_122020_cell_62.png',\n",
       " 'C101P62ThinF_IMG_20150918_151335_cell_22.png',\n",
       " 'C235ThinF_IMG_20151112_165055_cell_257.png',\n",
       " 'C174P135NThinF_IMG_20151127_135512_cell_56.png',\n",
       " 'C74P35_ThinF_IMG_20150815_121324_cell_74.png',\n",
       " 'C46P7ThinF_IMG_20151130_210309_cell_18.png',\n",
       " 'C127P88ThinF_IMG_20151004_111755_cell_11.png',\n",
       " 'C59P20thinF_IMG_20150803_113051_cell_144.png',\n",
       " 'C137P98ThinF_IMG_20151005_163712_cell_36.png',\n",
       " 'C177P138NThinF_IMG_20151201_142846_cell_15.png',\n",
       " 'C118P79ThinF_IMG_20151002_105735_cell_83.png',\n",
       " 'C107P68ThinF_IMG_20150924_222535_cell_88.png',\n",
       " 'C226ThinF_IMG_20151112_131546_cell_18.png',\n",
       " 'C52P13thinF_IMG_20150725_124830_cell_92.png',\n",
       " 'C174P135NThinF_IMG_20151127_135342_cell_190.png',\n",
       " 'C37BP2_thinF_IMG_20150620_133111a_cell_31.png',\n",
       " 'C56P17thinF_IMG_20150728_160438_cell_8.png',\n",
       " 'C53P14thinF_IMG_20150726_114439_cell_99.png',\n",
       " 'C145P106ThinF_IMG_20151016_154844_cell_36.png',\n",
       " 'C237ThinF_IMG_20151127_104844_cell_244.png',\n",
       " 'C173P134NThinF_IMG_20151130_125501_cell_112.png',\n",
       " 'C130P91ThinF_IMG_20151004_142709_cell_110.png',\n",
       " 'C146P107ThinF_IMG_20151018_134554_cell_38.png',\n",
       " 'C240ThinF_IMG_20151127_115545_cell_207.png',\n",
       " 'C87P48ThinF_IMG_20150820_132327_cell_122.png',\n",
       " 'C147P108ThinF_IMG_20151115_103432_cell_26.png',\n",
       " 'C240ThinF_IMG_20151127_115328_cell_16.png',\n",
       " 'C55P16thinF_IMG_20150728_124508_cell_183.png',\n",
       " 'C125P86ThinF_IMG_20151004_102053_cell_84.png',\n",
       " 'C142P103ThinF_IMG_20151005_221931_cell_90.png',\n",
       " 'C3thin_original_IMG_20150608_163047_cell_214.png',\n",
       " 'C105P66ThinF_IMG_20150924_095716_cell_57.png',\n",
       " 'C70P31_ThinF_IMG_20150813_131609_cell_50.png',\n",
       " 'C73P34_ThinF_IMG_20150815_111422_cell_134.png',\n",
       " 'C141P102ThinF_IMG_20151005_214033_cell_9.png',\n",
       " 'C79P40ThinF_IMG_20150817_104745_cell_77.png',\n",
       " 'C157P118ThinF_IMG_20151115_164141_cell_147.png',\n",
       " 'C116P77ThinF_IMG_20150930_172112_cell_12.png',\n",
       " 'C101P62ThinF_IMG_20150918_151239_cell_14.png',\n",
       " 'C211ThinF_IMG_20151029_164033_cell_163.png',\n",
       " 'C77P38ThinF_IMG_20150602_142303_cell_125.png',\n",
       " 'C225ThinF_IMG_20151112_113953_cell_20.png',\n",
       " 'C42P5thin_original_IMG_20150623_134426_cell_131.png',\n",
       " 'C87P48ThinF_IMG_20150820_132642_cell_83.png',\n",
       " 'C106P67ThinF_IMG_20150924_103245_cell_109.png',\n",
       " 'C202ThinF_IMG_20151015_152333_cell_215.png',\n",
       " 'C121P82ThinF_IMG_20151002_132926_cell_1.png',\n",
       " 'C104P65ThinF_IMG_20150918_171751_cell_109.png',\n",
       " 'C228ThinF_IMG_20151112_142900_cell_208.png',\n",
       " 'C220ThinF_IMG_20151106_154016_cell_201.png',\n",
       " 'C114P75ThinF_IMG_20150930_150555_cell_141.png',\n",
       " 'C147P108ThinF_IMG_20151115_103432_cell_169.png',\n",
       " 'C94P55ThinF_IMG_20150821_165118_cell_262.png',\n",
       " 'C122P83ThinF_IMG_20151002_144855_cell_61.png',\n",
       " 'C60P21thinF_IMG_20150803_144003_cell_81.png',\n",
       " 'C107P68ThinF_IMG_20150924_222630_cell_105.png',\n",
       " 'C123P84ThinF_IMG_20151002_152144_cell_10.png',\n",
       " 'C216ThinF_IMG_20151106_135228_cell_94.png',\n",
       " 'C185P146ThinF_IMG_20151203_110817_cell_251.png',\n",
       " 'C81P42ThinF_IMG_20150817_120524_cell_40.png',\n",
       " 'C128P89ThinF_IMG_20151004_130408_cell_45.png',\n",
       " 'C129P90ThinF_IMG_20151004_133329_cell_10.png',\n",
       " 'C4thin_original_IMG_20150608_165620_cell_39.png',\n",
       " 'C180P141NThinF_IMG_20151201_164714_cell_139.png',\n",
       " 'C233ThinF_IMG_20151112_160059_cell_27.png',\n",
       " 'C217ThinF_IMG_20151106_141135_cell_197.png',\n",
       " 'C4thin_original_IMG_20150608_165620_cell_227.png',\n",
       " 'C136P97ThinF_IMG_20151005_141321_cell_85.png',\n",
       " 'C187P148NThinF_IMG_20151203_153713_cell_78.png',\n",
       " 'C149P110ThinF_IMG_20151115_114629_cell_239.png',\n",
       " 'C4thin_original_IMG_20150608_170016_cell_104.png',\n",
       " 'C33P1thinF_IMG_20150619_121503a_cell_143.png',\n",
       " 'C86P47ThinF_IMG_20150820_124943_cell_51.png',\n",
       " 'C78P39ThinF_IMG_20150606_103413_cell_157.png',\n",
       " 'C164P125ThinF_IMG_20151116_113651_cell_69.png',\n",
       " 'C82P43ThinF_IMG_20150817_123500_cell_183.png',\n",
       " 'C150P111ThinF_IMG_20151115_115950_cell_9.png',\n",
       " 'C237ThinF_IMG_20151127_105345_cell_259.png',\n",
       " 'C103P64ThinF_IMG_20150918_165510_cell_65.png',\n",
       " 'C90P51ThinF_IMG_20150821_120044_cell_126.png',\n",
       " 'C86P47ThinF_IMG_20150820_124025_cell_153.png',\n",
       " 'C134P95ThinF_IMG_20151005_121048_cell_93.png',\n",
       " 'C155P116ThinF_IMG_20151115_142526_cell_7.png',\n",
       " 'C174P135NThinF_IMG_20151127_135512_cell_128.png',\n",
       " 'C39P4thinF_original_IMG_20150622_110115_cell_5.png',\n",
       " 'C211ThinF_IMG_20151029_164451_cell_120.png',\n",
       " 'C101P62ThinF_IMG_20150918_151149_cell_32.png',\n",
       " 'C106P67ThinF_IMG_20150924_102245_cell_86.png',\n",
       " 'C96P57ThinF_IMG_20150824_105445_cell_139.png',\n",
       " 'C7NthinF_IMG_20150611_104753_cell_163.png',\n",
       " 'C121P82ThinF_IMG_20151002_135237_cell_89.png',\n",
       " 'C230ThinF_IMG_20151112_150730_cell_7.png',\n",
       " 'C188P149ThinF_IMG_20151203_134209_cell_39.png',\n",
       " 'C139P100ThinF_IMG_20151005_182527_cell_6.png',\n",
       " 'C153P114ThinF_IMG_20151115_135911_cell_237.png',\n",
       " 'C122P83ThinF_IMG_20151002_145751_cell_125.png',\n",
       " 'C57P18thinF_IMG_20150729_111518_cell_18.png',\n",
       " 'C140P101ThinF_IMG_20151005_211530_cell_15.png',\n",
       " 'C145P106ThinF_IMG_20151016_154756_cell_5.png',\n",
       " 'C128P89ThinF_IMG_20151004_131632_cell_106.png',\n",
       " 'C112P73ThinF_IMG_20150930_131254_cell_46.png',\n",
       " 'C163P124ThinF_IMG_20151116_111925_cell_25.png',\n",
       " 'C179P140ThinF_IMG_20151127_153420_cell_161.png',\n",
       " 'C112P73ThinF_IMG_20150930_131254_cell_37.png',\n",
       " 'C221ThinF_IMG_20151106_160022_cell_37.png',\n",
       " 'C137P98ThinF_IMG_20151005_163901_cell_38.png',\n",
       " 'C5NThinF_IMG_20150609_122108_cell_210.png',\n",
       " 'C92P53ThinF_IMG_20150821_150718_cell_201.png',\n",
       " 'C214ThinF_IMG_20151106_114910_cell_36.png',\n",
       " 'C94P55ThinF_IMG_20150821_170403_cell_30.png',\n",
       " 'C160P121ThinF_IMG_20151116_092925_cell_49.png',\n",
       " 'C94P55ThinF_IMG_20150821_165118_cell_74.png',\n",
       " 'C148P109ThinF_IMG_20151115_112855_cell_188.png',\n",
       " 'C237ThinF_IMG_20151127_104748_cell_152.png',\n",
       " 'C167P128ReThinF_IMG_20151201_105707_cell_135.png',\n",
       " 'C108P69ThinF_IMG_20150924_225511_cell_135.png',\n",
       " 'C108P69ThinF_IMG_20150924_224038_cell_36.png',\n",
       " 'C112P73ThinF_IMG_20150930_131753_cell_80.png',\n",
       " 'C120P81ThinF_IMG_20151002_125443_cell_81.png',\n",
       " 'C38P3thinF_original_IMG_20150621_112246_cell_218.png',\n",
       " 'C77P38ThinF_IMG_20150601_152941_cell_47.png',\n",
       " 'C209ThinF_IMG_20151029_160721_cell_126.png',\n",
       " 'C55P16thinF_IMG_20150728_123154_cell_47.png',\n",
       " 'C51AP12thinF_IMG_20150724_155947_cell_16.png',\n",
       " 'C51AP12thinF_IMG_20150724_162636_cell_4.png',\n",
       " 'C136P97ThinF_IMG_20151005_140646_cell_3.png',\n",
       " 'C151P112ThinF_IMG_20151115_121644_cell_41.png',\n",
       " 'C119P80ThinF_IMG_20151002_124425_cell_122.png',\n",
       " 'C158P119ThinF_IMG_20151115_183157_cell_112.png',\n",
       " 'C183P144NThinF_IMG_20151201_223357_cell_92.png',\n",
       " 'C49P10thinF_IMG_20150724_103054_cell_132.png',\n",
       " 'C159P120ThinF_IMG_20151115_185541_cell_69.png',\n",
       " 'C97P58ThinF_IMG_20150917_151320_cell_54.png',\n",
       " 'C173P134NThinF_IMG_20151130_120046_cell_228.png',\n",
       " 'C212ThinF_IMG_20151106_105834_cell_284.png',\n",
       " 'C186P147NThinF_IMG_20151203_150808_cell_66.png',\n",
       " 'C230ThinF_IMG_20151112_150621_cell_213.png',\n",
       " 'C230ThinF_IMG_20151112_150730_cell_185.png',\n",
       " 'C56P17thinF_IMG_20150728_160256_cell_99.png',\n",
       " 'C1_thinF_IMG_20150604_105100_cell_53.png',\n",
       " 'C222ThinF_IMG_20151115_150057_cell_43.png',\n",
       " 'C82P43ThinF_IMG_20150817_124010_cell_58.png',\n",
       " 'C69P30N_ThinF_IMG_20150819_135705_cell_155.png',\n",
       " 'C240ThinF_IMG_20151127_115223_cell_144.png',\n",
       " 'C64P25N_ThinF_IMG_20150818_152921_cell_12.png',\n",
       " 'C159P120ThinF_IMG_20151115_190002_cell_215.png',\n",
       " 'C204ThinF_IMG_20151029_110627_cell_250.png',\n",
       " 'C114P75ThinF_IMG_20150930_150555_cell_102.png',\n",
       " 'C46P7ThinF_IMG_20151130_205558_cell_35.png',\n",
       " 'C208ThinF_IMG_20151029_155411_cell_11.png',\n",
       " 'C141P102ThinF_IMG_20151005_214836_cell_98.png',\n",
       " 'C88P49ThinF_IMG_20150820_153042_cell_15.png',\n",
       " 'C174P135NThinF_IMG_20151127_135512_cell_34.png',\n",
       " 'C157P118ThinF_IMG_20151115_164755_cell_159.png',\n",
       " 'C217ThinF_IMG_20151106_141649_cell_40.png',\n",
       " 'C65P26N_ThinF_IMG_20150818_154326_cell_179.png',\n",
       " 'C207ThinF_IMG_20151029_143711_cell_40.png',\n",
       " 'C203ThinF_IMG_20151029_105443_cell_74.png',\n",
       " 'C181P142ThinF_IMG_20151127_160650_cell_112.png',\n",
       " 'C97P58ThinF_IMG_20150917_151551_cell_56.png',\n",
       " 'C181P142ThinF_IMG_20151127_155914_cell_136.png',\n",
       " 'C211ThinF_IMG_20151029_164451_cell_195.png',\n",
       " 'C142P103ThinF_IMG_20151005_221115_cell_20.png',\n",
       " 'C229ThinF_IMG_20151112_144534_cell_172.png',\n",
       " 'C170P131ThinF_IMG_20151119_120150_cell_104.png',\n",
       " 'C33P1thinF_IMG_20150619_120645a_cell_153.png',\n",
       " 'C175P136NThinF_IMG_20151127_142009_cell_117.png',\n",
       " 'C210ThinF_IMG_20151029_162834_cell_148.png',\n",
       " 'C1_thinF_IMG_20150604_104942_cell_59.png',\n",
       " 'C138P99ThinF_IMG_20151005_173241_cell_148.png',\n",
       " 'C83P44ThinF_IMG_20150817_133355_cell_144.png',\n",
       " 'C73P34_ThinF_IMG_20150815_111114_cell_144.png',\n",
       " 'C185P146ThinF_IMG_20151203_110817_cell_186.png',\n",
       " 'C217ThinF_IMG_20151106_141500_cell_98.png',\n",
       " 'C51AP12thinF_IMG_20150724_154330_cell_40.png',\n",
       " 'C186P147NThinF_IMG_20151203_150132_cell_143.png',\n",
       " 'C58P19thinF_IMG_20150802_122215_cell_129.png',\n",
       " 'C238NThinF_IMG_20151207_115017_cell_187.png',\n",
       " 'C69P30N_ThinF_IMG_20150819_140143_cell_86.png',\n",
       " 'C33P1thinF_IMG_20150619_120645a_cell_189.png',\n",
       " 'C144P105ThinF_IMG_20151015_160908_cell_27.png',\n",
       " 'C138P99ThinF_IMG_20151005_173453_cell_104.png',\n",
       " 'C111P72ThinF_IMG_20150930_113210_cell_153.png',\n",
       " 'C179P140ThinF_IMG_20151127_153819_cell_120.png',\n",
       " 'C168P129ThinF_IMG_20151118_154651_cell_94.png',\n",
       " 'C171P132ThinF_IMG_20151119_152913_cell_76.png',\n",
       " 'C126P87ThinF_IMG_20151004_105234_cell_102.png',\n",
       " 'C138P99ThinF_IMG_20151005_173241_cell_66.png',\n",
       " 'C216ThinF_IMG_20151106_135228_cell_104.png',\n",
       " 'C47P8thin_Original_Motic_IMG_20150714_093947_cell_147.png',\n",
       " 'C82P43ThinF_IMG_20150817_124010_cell_148.png',\n",
       " 'C146P107ThinF_IMG_20151018_140439_cell_3.png',\n",
       " 'C100P61ThinF_IMG_20150918_145042_cell_5.png',\n",
       " 'C166P127ThinF_IMG_20151117_194410_cell_61.png',\n",
       " 'C108P69ThinF_IMG_20150924_224616_cell_102.png',\n",
       " 'C114P75ThinF_IMG_20150930_150733_cell_5.png',\n",
       " 'C94P55ThinF_IMG_20150821_165118_cell_95.png',\n",
       " 'C117P78ThinF_IMG_20150930_221048_cell_61.png',\n",
       " 'C74P35_ThinF_IMG_20150815_114819_cell_42.png',\n",
       " 'C207ThinF_IMG_20151029_143711_cell_119.png',\n",
       " 'C233ThinF_IMG_20151112_160635_cell_182.png',\n",
       " 'C158P119ThinF_IMG_20151115_181859_cell_159.png',\n",
       " 'C187P148NThinF_IMG_20151203_152841_cell_64.png',\n",
       " 'C230ThinF_IMG_20151112_150621_cell_132.png',\n",
       " 'C160P121ThinF_IMG_20151116_093748_cell_101.png',\n",
       " 'C39P4thinF_original_IMG_20150622_111723_cell_46.png',\n",
       " 'C163P124ThinF_IMG_20151116_110921_cell_15.png',\n",
       " ...]"
      ]
     },
     "execution_count": 6,
     "metadata": {},
     "output_type": "execute_result"
    }
   ],
   "source": [
    "# la fonction os.listdir: liste toute les images\n",
    "os.listdir(noninf_path)"
   ]
  },
  {
   "cell_type": "code",
   "execution_count": 7,
   "id": "0718700d",
   "metadata": {},
   "outputs": [],
   "source": [
    "para1_cell= Image.open(para_path+'/C82P43ThinF_IMG_20150817_124728_cell_28.png')"
   ]
  },
  {
   "cell_type": "code",
   "execution_count": 8,
   "id": "0ea62b0b",
   "metadata": {},
   "outputs": [
    {
     "data": {
      "text/plain": [
       "'C82P43ThinF_IMG_20150817_124728_cell_28.png'"
      ]
     },
     "execution_count": 8,
     "metadata": {},
     "output_type": "execute_result"
    }
   ],
   "source": [
    "# pour voir le chemin de la première image de la cellule infectée\n",
    "os.listdir(para_path)[0]"
   ]
  },
  {
   "cell_type": "code",
   "execution_count": 9,
   "id": "583dcd6d",
   "metadata": {},
   "outputs": [],
   "source": [
    "para_cell=para_path+'/C82P43ThinF_IMG_20150817_124728_cell_28.png'"
   ]
  },
  {
   "cell_type": "code",
   "execution_count": 10,
   "id": "e948db93",
   "metadata": {},
   "outputs": [],
   "source": [
    "para_img=imread(para_cell)"
   ]
  },
  {
   "cell_type": "code",
   "execution_count": 11,
   "id": "1faff53b",
   "metadata": {},
   "outputs": [
    {
     "data": {
      "text/plain": [
       "<matplotlib.image.AxesImage at 0x7f51fd3a33a0>"
      ]
     },
     "execution_count": 11,
     "metadata": {},
     "output_type": "execute_result"
    },
    {
     "data": {
      "image/png": "[encoded data removed]",
      "text/plain": [
       "<Figure size 432x288 with 1 Axes>"
      ]
     },
     "metadata": {
      "needs_background": "light"
     },
     "output_type": "display_data"
    }
   ],
   "source": [
    "plt.imshow(para_img)"
   ]
  },
  {
   "cell_type": "code",
   "execution_count": 12,
   "id": "4c0e572c",
   "metadata": {},
   "outputs": [
    {
     "data": {
      "text/plain": [
       "(121, 121, 3)"
      ]
     },
     "execution_count": 12,
     "metadata": {},
     "output_type": "execute_result"
    }
   ],
   "source": [
    "para_img.shape"
   ]
  },
  {
   "cell_type": "code",
   "execution_count": 13,
   "id": "03f382f5",
   "metadata": {},
   "outputs": [
    {
     "data": {
      "text/plain": [
       "'C119P80ThinF_IMG_20151002_123608_cell_94.png'"
      ]
     },
     "execution_count": 13,
     "metadata": {},
     "output_type": "execute_result"
    }
   ],
   "source": [
    "# pour voir le chemin de la première image de la cellule non-infectée\n",
    "os.listdir(noninf_path)[0]"
   ]
  },
  {
   "cell_type": "code",
   "execution_count": 14,
   "id": "e43d906b",
   "metadata": {},
   "outputs": [],
   "source": [
    "noninf_cell= noninf_path +'/C119P80ThinF_IMG_20151002_123608_cell_94.png'"
   ]
  },
  {
   "cell_type": "code",
   "execution_count": 15,
   "id": "8d0c07c1",
   "metadata": {},
   "outputs": [],
   "source": [
    "noninf_img=imread(noninf_cell)"
   ]
  },
  {
   "cell_type": "code",
   "execution_count": 16,
   "id": "61b8cf00",
   "metadata": {},
   "outputs": [
    {
     "data": {
      "text/plain": [
       "<matplotlib.image.AxesImage at 0x7f51fcb09f40>"
      ]
     },
     "execution_count": 16,
     "metadata": {},
     "output_type": "execute_result"
    },
    {
     "data": {
      "image/png": "[encoded data removed]",
      "text/plain": [
       "<Figure size 432x288 with 1 Axes>"
      ]
     },
     "metadata": {
      "needs_background": "light"
     },
     "output_type": "display_data"
    }
   ],
   "source": [
    "plt.imshow(noninf_img)"
   ]
  },
  {
   "cell_type": "code",
   "execution_count": 17,
   "id": "9876dccf",
   "metadata": {},
   "outputs": [
    {
     "data": {
      "text/plain": [
       "13780"
      ]
     },
     "execution_count": 17,
     "metadata": {},
     "output_type": "execute_result"
    }
   ],
   "source": [
    "# voir le nombre d'images de cellules infectées \n",
    "len(os.listdir(para_path))"
   ]
  },
  {
   "cell_type": "code",
   "execution_count": 18,
   "id": "b1de4a37",
   "metadata": {},
   "outputs": [
    {
     "data": {
      "text/plain": [
       "13780"
      ]
     },
     "execution_count": 18,
     "metadata": {},
     "output_type": "execute_result"
    }
   ],
   "source": [
    "# voir le nombre d'images de cellules non-infectées \n",
    "len(os.listdir(noninf_path))"
   ]
  },
  {
   "cell_type": "markdown",
   "id": "b40ffe14",
   "metadata": {},
   "source": [
    "# 3. Genération du dataset d'entrainement et de validation à partir de ImageDataGenerator "
   ]
  },
  {
   "cell_type": "code",
   "execution_count": 19,
   "id": "5bfc9232",
   "metadata": {},
   "outputs": [],
   "source": [
    "from tensorflow.keras.preprocessing.image import ImageDataGenerator\n",
    "data = ImageDataGenerator(rotation_range=20, # Faire pivoter l'image de 20 degrés\n",
    "                               width_shift_range=0.10, # Modifier la largeur de la photo de 10% maximum\n",
    "                               height_shift_range=0.10, # Modifier la hauteur de la photo de 10% maximum\n",
    "                               validation_split = 0.2,\n",
    "                               # rescale=1/255, # Redimensionner l'image en la normalisant\n",
    "                               shear_range=0.1, # shear signifie couper une partie de l'image (max 10%)\n",
    "                               zoom_range=0.1, # Zoom de 10% maximum\n",
    "                               horizontal_flip=True, # Autorise le basculement horizontal\n",
    "                               fill_mode='nearest' # Remplir les pixels manquants avec la valeur remplie la plus proche\n",
    "                              )"
   ]
  },
  {
   "cell_type": "code",
   "execution_count": 20,
   "id": "ad0d0616",
   "metadata": {},
   "outputs": [
    {
     "name": "stdout",
     "output_type": "stream",
     "text": [
      "Found 22048 images belonging to 2 classes.\n"
     ]
    }
   ],
   "source": [
    "# Données d'entraînement à partir de ImageDataGenerator\n",
    "train_generator = data.flow_from_directory(image_dir,\n",
    "                                               target_size=(130,130),\n",
    "                                                color_mode='rgb',\n",
    "                                                subset='training',\n",
    "                                               batch_size=16,\n",
    "                                               class_mode='binary')"
   ]
  },
  {
   "cell_type": "code",
   "execution_count": 21,
   "id": "faf5f218",
   "metadata": {},
   "outputs": [
    {
     "name": "stdout",
     "output_type": "stream",
     "text": [
      "Found 5510 images belonging to 2 classes.\n"
     ]
    }
   ],
   "source": [
    "# Données de validation à partir de ImageDataGenerator\n",
    "test_generator = data.flow_from_directory(image_dir,target_size=(130,130),\n",
    "                                                   batch_size= 16,\n",
    "                                                   class_mode='binary',\n",
    "                                                   shuffle=False,\n",
    "                                                   subset = 'validation')"
   ]
  },
  {
   "cell_type": "code",
   "execution_count": 22,
   "id": "62eefc4f",
   "metadata": {},
   "outputs": [
    {
     "data": {
      "text/plain": [
       "array([0, 0, 0, ..., 1, 1, 1], dtype=int32)"
      ]
     },
     "execution_count": 22,
     "metadata": {},
     "output_type": "execute_result"
    }
   ],
   "source": [
    "train_generator.classes"
   ]
  },
  {
   "cell_type": "code",
   "execution_count": 23,
   "id": "d952fdf2",
   "metadata": {},
   "outputs": [
    {
     "data": {
      "text/plain": [
       "{'Parasitized': 0, 'Uninfected': 1}"
      ]
     },
     "execution_count": 23,
     "metadata": {},
     "output_type": "execute_result"
    }
   ],
   "source": [
    "test_generator.class_indices"
   ]
  },
  {
   "cell_type": "markdown",
   "id": "2a854be2",
   "metadata": {},
   "source": [
    "# 4. Construction du modèle CNN"
   ]
  },
  {
   "cell_type": "code",
   "execution_count": 24,
   "id": "0ea47028",
   "metadata": {},
   "outputs": [],
   "source": [
    "# Import des librairies pour la construction du CNN\n",
    "from tensorflow.keras.models import Sequential\n",
    "from tensorflow.keras.layers import Dense,Conv2D,Flatten,MaxPool2D,Activation,Dropout\n",
    "\n",
    "image_shape=(130,130,3)"
   ]
  },
  {
   "cell_type": "code",
   "execution_count": 25,
   "id": "ac487d06",
   "metadata": {},
   "outputs": [
    {
     "name": "stderr",
     "output_type": "stream",
     "text": [
      "2022-04-07 15:44:37.739149: W tensorflow/stream_executor/platform/default/dso_loader.cc:64] Could not load dynamic library 'libcuda.so.1'; dlerror: libcuda.so.1: cannot open shared object file: No such file or directory\n",
      "2022-04-07 15:44:37.739237: W tensorflow/stream_executor/cuda/cuda_driver.cc:269] failed call to cuInit: UNKNOWN ERROR (303)\n",
      "2022-04-07 15:44:37.739295: I tensorflow/stream_executor/cuda/cuda_diagnostics.cc:156] kernel driver does not appear to be running on this host (hprisser): /proc/driver/nvidia/version does not exist\n",
      "2022-04-07 15:44:37.765874: I tensorflow/core/platform/cpu_feature_guard.cc:151] This TensorFlow binary is optimized with oneAPI Deep Neural Network Library (oneDNN) to use the following CPU instructions in performance-critical operations:  AVX2 FMA\n",
      "To enable them in other operations, rebuild TensorFlow with the appropriate compiler flags.\n"
     ]
    }
   ],
   "source": [
    "# Dimension moyenne des images dans le dataset\n",
    "\n",
    "\n",
    "model=Sequential()\n",
    "\n",
    "model.add(Conv2D(filters=16,kernel_size=(3,3),input_shape=image_shape,activation='relu'))\n",
    "model.add(MaxPool2D(2,2))\n",
    "\n",
    "model.add(Conv2D(filters=32,kernel_size=(3,3),input_shape=image_shape,activation='relu'))\n",
    "model.add(MaxPool2D(2,2))\n",
    "\n",
    "model.add(Conv2D(filters=64,kernel_size=(3,3),input_shape=image_shape,activation='relu'))\n",
    "model.add(MaxPool2D(2,2))\n",
    "\n",
    "model.add(Conv2D(filters=64,kernel_size=(3,3),input_shape=image_shape,activation='relu'))\n",
    "model.add(MaxPool2D(2,2))\n",
    "\n",
    "model.add(Conv2D(filters=64,kernel_size=(3,3),input_shape=image_shape,activation='relu'))\n",
    "model.add(MaxPool2D(2,2))\n",
    "\n",
    "model.add(Flatten())\n",
    "\n",
    "model.add(Dense(512,activation='relu'))\n",
    "\n",
    "# couche droptout permettant de contrôler l'overfitting\n",
    "\n",
    "model.add(Dropout(0.4))\n",
    "\n",
    "# Cas d'une classification binaire, pour la dernière couche utilisation de la sigmoïde\n",
    "\n",
    "model.add(Dense(1,activation='sigmoid'))\n",
    "\n",
    "# compilation du modèle\n",
    "\n",
    "model.compile(loss='binary_crossentropy',optimizer='adam',metrics=['accuracy'])"
   ]
  },
  {
   "cell_type": "code",
   "execution_count": 26,
   "id": "fc1aacbe",
   "metadata": {},
   "outputs": [
    {
     "name": "stdout",
     "output_type": "stream",
     "text": [
      "Model: \"sequential\"\n",
      "_________________________________________________________________\n",
      " Layer (type)                Output Shape              Param #   \n",
      "=================================================================\n",
      " conv2d (Conv2D)             (None, 128, 128, 16)      448       \n",
      "                                                                 \n",
      " max_pooling2d (MaxPooling2D  (None, 64, 64, 16)       0         \n",
      " )                                                               \n",
      "                                                                 \n",
      " conv2d_1 (Conv2D)           (None, 62, 62, 32)        4640      \n",
      "                                                                 \n",
      " max_pooling2d_1 (MaxPooling  (None, 31, 31, 32)       0         \n",
      " 2D)                                                             \n",
      "                                                                 \n",
      " conv2d_2 (Conv2D)           (None, 29, 29, 64)        18496     \n",
      "                                                                 \n",
      " max_pooling2d_2 (MaxPooling  (None, 14, 14, 64)       0         \n",
      " 2D)                                                             \n",
      "                                                                 \n",
      " conv2d_3 (Conv2D)           (None, 12, 12, 64)        36928     \n",
      "                                                                 \n",
      " max_pooling2d_3 (MaxPooling  (None, 6, 6, 64)         0         \n",
      " 2D)                                                             \n",
      "                                                                 \n",
      " conv2d_4 (Conv2D)           (None, 4, 4, 64)          36928     \n",
      "                                                                 \n",
      " max_pooling2d_4 (MaxPooling  (None, 2, 2, 64)         0         \n",
      " 2D)                                                             \n",
      "                                                                 \n",
      " flatten (Flatten)           (None, 256)               0         \n",
      "                                                                 \n",
      " dense (Dense)               (None, 512)               131584    \n",
      "                                                                 \n",
      " dropout (Dropout)           (None, 512)               0         \n",
      "                                                                 \n",
      " dense_1 (Dense)             (None, 1)                 513       \n",
      "                                                                 \n",
      "=================================================================\n",
      "Total params: 229,537\n",
      "Trainable params: 229,537\n",
      "Non-trainable params: 0\n",
      "_________________________________________________________________\n"
     ]
    }
   ],
   "source": [
    "# Affichage du modèle\n",
    "model.summary()"
   ]
  },
  {
   "cell_type": "code",
   "execution_count": 27,
   "id": "5d503e20",
   "metadata": {},
   "outputs": [],
   "source": [
    "#  Earlystopping: Mécanisme d'arrêt anticipé pour contrôler l'overfitting\n",
    "\n",
    "from tensorflow.keras.callbacks import EarlyStopping\n",
    "early_stop=EarlyStopping(monitor='val_loss',patience=2)"
   ]
  },
  {
   "cell_type": "markdown",
   "id": "c2b44831",
   "metadata": {},
   "source": [
    "# Entraînement du modèle"
   ]
  },
  {
   "cell_type": "code",
   "execution_count": 175,
   "id": "18a85d74",
   "metadata": {},
   "outputs": [
    {
     "name": "stdout",
     "output_type": "stream",
     "text": [
      "Epoch 1/20\n",
      "1378/1378 [==============================] - 299s 217ms/step - loss: 0.3065 - accuracy: 0.8877 - val_loss: 0.2718 - val_accuracy: 0.9192\n",
      "Epoch 2/20\n",
      "1378/1378 [==============================] - 191s 139ms/step - loss: 0.1881 - accuracy: 0.9443 - val_loss: 0.2021 - val_accuracy: 0.9407\n",
      "Epoch 3/20\n",
      "1378/1378 [==============================] - 272s 197ms/step - loss: 0.1736 - accuracy: 0.9478 - val_loss: 0.1819 - val_accuracy: 0.9359\n",
      "Epoch 4/20\n",
      "1378/1378 [==============================] - 274s 199ms/step - loss: 0.1691 - accuracy: 0.9485 - val_loss: 0.1784 - val_accuracy: 0.9374\n",
      "Epoch 5/20\n",
      "1378/1378 [==============================] - 198s 144ms/step - loss: 0.1719 - accuracy: 0.9471 - val_loss: 0.2045 - val_accuracy: 0.9405\n",
      "Epoch 6/20\n",
      "1378/1378 [==============================] - 198s 144ms/step - loss: 0.1634 - accuracy: 0.9500 - val_loss: 0.1812 - val_accuracy: 0.9419\n"
     ]
    },
    {
     "data": {
      "text/plain": [
       "<keras.callbacks.History at 0x7f560cb52a60>"
      ]
     },
     "execution_count": 175,
     "metadata": {},
     "output_type": "execute_result"
    }
   ],
   "source": [
    "model.fit(train_generator,epochs=20,\n",
    "                              validation_data=test_generator,\n",
    "                             callbacks=[early_stop])"
   ]
  },
  {
   "cell_type": "code",
   "execution_count": 171,
   "id": "60e5f7f9",
   "metadata": {},
   "outputs": [],
   "source": [
    "model.save('my_model2_cnn.h5')"
   ]
  },
  {
   "cell_type": "code",
   "execution_count": 176,
   "id": "6395b715",
   "metadata": {},
   "outputs": [],
   "source": [
    "metrics=pd.DataFrame(model.history.history)"
   ]
  },
  {
   "cell_type": "code",
   "execution_count": 177,
   "id": "456f7a40",
   "metadata": {},
   "outputs": [
    {
     "data": {
      "text/plain": [
       "<AxesSubplot:>"
      ]
     },
     "execution_count": 177,
     "metadata": {},
     "output_type": "execute_result"
    },
    {
     "data": {
      "image/png": "[encoded data removed]",
      "text/plain": [
       "<Figure size 432x288 with 1 Axes>"
      ]
     },
     "metadata": {
      "needs_background": "light"
     },
     "output_type": "display_data"
    }
   ],
   "source": [
    "metrics[['accuracy','val_accuracy']].plot()"
   ]
  },
  {
   "cell_type": "code",
   "execution_count": 178,
   "id": "d5258b53",
   "metadata": {},
   "outputs": [
    {
     "data": {
      "text/plain": [
       "<AxesSubplot:>"
      ]
     },
     "execution_count": 178,
     "metadata": {},
     "output_type": "execute_result"
    },
    {
     "data": {
      "image/png": "[encoded data removed]",
      "text/plain": [
       "<Figure size 432x288 with 1 Axes>"
      ]
     },
     "metadata": {
      "needs_background": "light"
     },
     "output_type": "display_data"
    }
   ],
   "source": [
    "metrics[['loss','val_loss']].plot()"
   ]
  },
  {
   "cell_type": "code",
   "execution_count": 179,
   "id": "ec3ce209",
   "metadata": {},
   "outputs": [
    {
     "data": {
      "text/html": [
       "<div>\n",
       "<style scoped>\n",
       "    .dataframe tbody tr th:only-of-type {\n",
       "        vertical-align: middle;\n",
       "    }\n",
       "\n",
       "    .dataframe tbody tr th {\n",
       "        vertical-align: top;\n",
       "    }\n",
       "\n",
       "    .dataframe thead th {\n",
       "        text-align: right;\n",
       "    }\n",
       "</style>\n",
       "<table border=\"1\" class=\"dataframe\">\n",
       "  <thead>\n",
       "    <tr style=\"text-align: right;\">\n",
       "      <th></th>\n",
       "      <th>loss</th>\n",
       "      <th>accuracy</th>\n",
       "      <th>val_loss</th>\n",
       "      <th>val_accuracy</th>\n",
       "    </tr>\n",
       "  </thead>\n",
       "  <tbody>\n",
       "    <tr>\n",
       "      <th>0</th>\n",
       "      <td>0.306530</td>\n",
       "      <td>0.887700</td>\n",
       "      <td>0.271848</td>\n",
       "      <td>0.919238</td>\n",
       "    </tr>\n",
       "    <tr>\n",
       "      <th>1</th>\n",
       "      <td>0.188076</td>\n",
       "      <td>0.944349</td>\n",
       "      <td>0.202110</td>\n",
       "      <td>0.940653</td>\n",
       "    </tr>\n",
       "    <tr>\n",
       "      <th>2</th>\n",
       "      <td>0.173558</td>\n",
       "      <td>0.947750</td>\n",
       "      <td>0.181878</td>\n",
       "      <td>0.935935</td>\n",
       "    </tr>\n",
       "    <tr>\n",
       "      <th>3</th>\n",
       "      <td>0.169121</td>\n",
       "      <td>0.948521</td>\n",
       "      <td>0.178422</td>\n",
       "      <td>0.937387</td>\n",
       "    </tr>\n",
       "    <tr>\n",
       "      <th>4</th>\n",
       "      <td>0.171884</td>\n",
       "      <td>0.947115</td>\n",
       "      <td>0.204480</td>\n",
       "      <td>0.940472</td>\n",
       "    </tr>\n",
       "    <tr>\n",
       "      <th>5</th>\n",
       "      <td>0.163411</td>\n",
       "      <td>0.949973</td>\n",
       "      <td>0.181224</td>\n",
       "      <td>0.941924</td>\n",
       "    </tr>\n",
       "  </tbody>\n",
       "</table>\n",
       "</div>"
      ],
      "text/plain": [
       "       loss  accuracy  val_loss  val_accuracy\n",
       "0  0.306530  0.887700  0.271848      0.919238\n",
       "1  0.188076  0.944349  0.202110      0.940653\n",
       "2  0.173558  0.947750  0.181878      0.935935\n",
       "3  0.169121  0.948521  0.178422      0.937387\n",
       "4  0.171884  0.947115  0.204480      0.940472\n",
       "5  0.163411  0.949973  0.181224      0.941924"
      ]
     },
     "execution_count": 179,
     "metadata": {},
     "output_type": "execute_result"
    }
   ],
   "source": [
    "metrics"
   ]
  },
  {
   "cell_type": "code",
   "execution_count": 196,
   "id": "577d1052",
   "metadata": {},
   "outputs": [],
   "source": [
    "# Calcul des probabilités de classification\n",
    "pred_probabilities = model.predict(test_generator)"
   ]
  },
  {
   "cell_type": "code",
   "execution_count": 197,
   "id": "3835a505",
   "metadata": {},
   "outputs": [],
   "source": [
    "predictions=pred_probabilities>0.5"
   ]
  },
  {
   "cell_type": "code",
   "execution_count": 198,
   "id": "2f90d081",
   "metadata": {},
   "outputs": [
    {
     "data": {
      "text/plain": [
       "array([[False],\n",
       "       [False],\n",
       "       [False],\n",
       "       ...,\n",
       "       [ True],\n",
       "       [ True],\n",
       "       [ True]])"
      ]
     },
     "execution_count": 198,
     "metadata": {},
     "output_type": "execute_result"
    }
   ],
   "source": [
    "predictions"
   ]
  },
  {
   "cell_type": "code",
   "execution_count": 199,
   "id": "7ebc5bb1",
   "metadata": {},
   "outputs": [],
   "source": [
    "from sklearn.metrics import classification_report,confusion_matrix"
   ]
  },
  {
   "cell_type": "code",
   "execution_count": 200,
   "id": "362cb65c",
   "metadata": {},
   "outputs": [
    {
     "name": "stdout",
     "output_type": "stream",
     "text": [
      "              precision    recall  f1-score   support\n",
      "\n",
      "           0       0.96      0.93      0.94      2755\n",
      "           1       0.93      0.96      0.94      2755\n",
      "\n",
      "    accuracy                           0.94      5510\n",
      "   macro avg       0.94      0.94      0.94      5510\n",
      "weighted avg       0.94      0.94      0.94      5510\n",
      "\n"
     ]
    }
   ],
   "source": [
    "print(classification_report(test_generator.classes,predictions))"
   ]
  },
  {
   "cell_type": "code",
   "execution_count": 201,
   "id": "56ecbb90",
   "metadata": {},
   "outputs": [
    {
     "name": "stdout",
     "output_type": "stream",
     "text": [
      "[[2560  195]\n",
      " [ 118 2637]]\n"
     ]
    }
   ],
   "source": [
    "print(confusion_matrix(test_generator.classes,predictions))"
   ]
  },
  {
   "cell_type": "markdown",
   "id": "7465d166",
   "metadata": {},
   "source": [
    "# Prediction pour une image"
   ]
  },
  {
   "cell_type": "code",
   "execution_count": 252,
   "id": "25944a04",
   "metadata": {},
   "outputs": [],
   "source": [
    "img = tf.keras.utils.load_img(para_cell, target_size=image_shape)"
   ]
  },
  {
   "cell_type": "code",
   "execution_count": 253,
   "id": "d1c438f5",
   "metadata": {},
   "outputs": [
    {
     "data": {
      "image/png": "[encoded data removed]",
      "text/plain": [
       "<PIL.Image.Image image mode=RGB size=130x130 at 0x7F55E85ABCD0>"
      ]
     },
     "execution_count": 253,
     "metadata": {},
     "output_type": "execute_result"
    }
   ],
   "source": [
    "img"
   ]
  },
  {
   "cell_type": "code",
   "execution_count": 254,
   "id": "971b3695",
   "metadata": {},
   "outputs": [],
   "source": [
    "img_array = tf.keras.utils.img_to_array(img)"
   ]
  },
  {
   "cell_type": "code",
   "execution_count": 255,
   "id": "67dabe66",
   "metadata": {},
   "outputs": [],
   "source": [
    "img_array = tf.expand_dims(img_array, 0) "
   ]
  },
  {
   "cell_type": "code",
   "execution_count": 293,
   "id": "034a7320",
   "metadata": {},
   "outputs": [
    {
     "data": {
      "text/plain": [
       "TensorShape([1, 130, 130, 3])"
      ]
     },
     "execution_count": 293,
     "metadata": {},
     "output_type": "execute_result"
    }
   ],
   "source": [
    "img_array.shape"
   ]
  },
  {
   "cell_type": "code",
   "execution_count": 261,
   "id": "b2c1cee1",
   "metadata": {},
   "outputs": [],
   "source": [
    "predictions =(model.predict(img_array) > 0.5).astype('int32')"
   ]
  },
  {
   "cell_type": "code",
   "execution_count": 262,
   "id": "7aedd7fd",
   "metadata": {},
   "outputs": [
    {
     "data": {
      "text/plain": [
       "array([[0]], dtype=int32)"
      ]
     },
     "execution_count": 262,
     "metadata": {},
     "output_type": "execute_result"
    }
   ],
   "source": [
    "predictions"
   ]
  },
  {
   "cell_type": "code",
   "execution_count": 301,
   "id": "dbdb7225",
   "metadata": {},
   "outputs": [
    {
     "data": {
      "text/plain": [
       "{'Parasitized': 0, 'Uninfected': 1}"
      ]
     },
     "execution_count": 301,
     "metadata": {},
     "output_type": "execute_result"
    }
   ],
   "source": [
    "test_image_gen.class_indices"
   ]
  },
  {
   "cell_type": "markdown",
   "id": "e06f9726",
   "metadata": {},
   "source": [
    "# Explicabilité de la prédiction faite par le modèle CNN sur l'image "
   ]
  },
  {
   "cell_type": "code",
   "execution_count": 187,
   "id": "4689dd0c",
   "metadata": {},
   "outputs": [],
   "source": [
    "from lime import lime_image"
   ]
  },
  {
   "cell_type": "code",
   "execution_count": 291,
   "id": "920c6451",
   "metadata": {},
   "outputs": [],
   "source": [
    "explainer=lime_image.LimeImageExplainer()"
   ]
  },
  {
   "cell_type": "code",
   "execution_count": null,
   "id": "f8052c2c",
   "metadata": {},
   "outputs": [],
   "source": [
    "\n",
    "explanation= explainer.explain_instance(img_array, model.predict,top_labels=2, hide_color=0,num_samples=1000)"
   ]
  }
 ],
 "metadata": {
  "kernelspec": {
   "display_name": "Python 3 (ipykernel)",
   "language": "python",
   "name": "python3"
  },
  "language_info": {
   "codemirror_mode": {
    "name": "ipython",
    "version": 3
   },
   "file_extension": ".py",
   "mimetype": "text/x-python",
   "name": "python",
   "nbconvert_exporter": "python",
   "pygments_lexer": "ipython3",
   "version": "3.9.7"
  }
 },
 "nbformat": 4,
 "nbformat_minor": 5
}
