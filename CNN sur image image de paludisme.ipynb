{
 "cells": [
  {
   "cell_type": "markdown",
   "id": "33873234",
   "metadata": {},
   "source": [
    "# 1. Identification des différents chemins des fichiers"
   ]
  },
  {
   "cell_type": "code",
   "execution_count": 15,
   "id": "af1331fe",
   "metadata": {},
   "outputs": [],
   "source": [
    "import tensorflow as tf\n",
    "import keras \n",
    "import pandas as pd\n",
    "import seaborn as sns\n",
    "import numpy as np\n",
    "import os\n",
    "import lime\n",
    "import shape\n",
    "import eli5"
   ]
  },
  {
   "cell_type": "code",
   "execution_count": 23,
   "id": "c0a69172",
   "metadata": {},
   "outputs": [],
   "source": [
    "# Les différents chemin pour retouver les fichiers images ainsi que le chemin des fichiers des différentes classes\n",
    "\n",
    "image_dir='/home/titon/Documents/Projet_France_Relance-20220311T093327Z-001/Projet_France_Relance/cell_images'\n",
    "uninfected='/home/titon/Documents/Projet_France_Relance-20220311T093327Z-001/Projet_France_Relance/cell_images/Uninfected'\n",
    "parasitized='/home/titon/Documents/Projet_France_Relance-20220311T093327Z-001/Projet_France_Relance/cell_images/Parasitized'"
   ]
  },
  {
   "cell_type": "code",
   "execution_count": 2,
   "id": "83a1f2ed",
   "metadata": {},
   "outputs": [],
   "source": []
  },
  {
   "cell_type": "code",
   "execution_count": 24,
   "id": "ab5a91ad",
   "metadata": {},
   "outputs": [],
   "source": [
    "classes=os.listdir(image_dir)"
   ]
  },
  {
   "cell_type": "code",
   "execution_count": 25,
   "id": "b3cb8fc2",
   "metadata": {},
   "outputs": [
    {
     "name": "stdout",
     "output_type": "stream",
     "text": [
      "['Parasitized', 'Uninfected']\n"
     ]
    }
   ],
   "source": [
    "print(classes)"
   ]
  },
  {
   "cell_type": "code",
   "execution_count": 26,
   "id": "323ecd71",
   "metadata": {},
   "outputs": [],
   "source": [
    "# Pour lire les images \n",
    "from matplotlib.image import imread"
   ]
  },
  {
   "cell_type": "code",
   "execution_count": 27,
   "id": "4cbe04aa",
   "metadata": {},
   "outputs": [],
   "source": [
    "## pour voir à quoi ressemble les images depuis le chemin\n",
    "# liste de tout les fichiers images au format png\n",
    "para_path=image_dir + '/Parasitized'\n",
    "noninf_path=image_dir + '/Uninfected'"
   ]
  },
  {
   "cell_type": "code",
   "execution_count": 28,
   "id": "8f2228d4",
   "metadata": {},
   "outputs": [
    {
     "data": {
      "text/plain": [
       "'/home/titon/Documents/Projet_France_Relance-20220311T093327Z-001/Projet_France_Relance/cell_images/Uninfected'"
      ]
     },
     "execution_count": 28,
     "metadata": {},
     "output_type": "execute_result"
    }
   ],
   "source": [
    "noninf_path"
   ]
  },
  {
   "cell_type": "code",
   "execution_count": 29,
   "id": "ecf56588",
   "metadata": {},
   "outputs": [
    {
     "data": {
      "text/plain": [
       "'/home/titon/Documents/Projet_France_Relance-20220311T093327Z-001/Projet_France_Relance/cell_images/Parasitized'"
      ]
     },
     "execution_count": 29,
     "metadata": {},
     "output_type": "execute_result"
    }
   ],
   "source": [
    "para_path"
   ]
  },
  {
   "cell_type": "code",
   "execution_count": 64,
   "id": "b2994c52",
   "metadata": {},
   "outputs": [
    {
     "data": {
      "text/plain": [
       "['C119P80ThinF_IMG_20151002_123608_cell_94.png',\n",
       " 'C156P117ThinF_IMG_20151115_154022_cell_64.png',\n",
       " 'C68P29N_ThinF_IMG_20150819_133447_cell_22.png',\n",
       " 'C131P92ThinF_IMG_20151004_145302_cell_55.png',\n",
       " 'C67P28N_ThinF_IMG_20150819_121053_cell_176.png',\n",
       " 'C161P122ThinF_IMG_20151116_100724_cell_26.png',\n",
       " 'C147P108ThinF_IMG_20151115_092605_cell_221.png',\n",
       " 'C143P104ThinF_IMG_20151005_230100_cell_1.png',\n",
       " 'C180P141NThinF_IMG_20151201_163751_cell_112.png',\n",
       " 'C128P89ThinF_IMG_20151004_130810_cell_67.png',\n",
       " 'C188P149ThinF_IMG_20151203_135433_cell_18.png',\n",
       " 'C67P28N_ThinF_IMG_20150819_121053_cell_140.png',\n",
       " 'C170P131ThinF_IMG_20151119_120150_cell_121.png',\n",
       " 'C52P13thinF_IMG_20150725_130013_cell_152.png',\n",
       " 'C42P5thin_original_IMG_20150623_134547_cell_160.png',\n",
       " 'C240ThinF_IMG_20151127_115223_cell_121.png',\n",
       " 'C185P146ThinF_IMG_20151203_110933_cell_220.png',\n",
       " 'C63P24N_ThinF_IMG_20150818_143319_cell_48.png',\n",
       " 'C125P86ThinF_IMG_20151004_102132_cell_74.png',\n",
       " 'C103P64ThinF_IMG_20150918_164250_cell_15.png',\n",
       " 'C76P37ThinF_IMG_20150815_172808_cell_172.png',\n",
       " 'C92P53ThinF_IMG_20150821_151646_cell_169.png',\n",
       " 'C81P42ThinF_IMG_20150817_120351_cell_142.png',\n",
       " 'C140P101ThinF_IMG_20151005_205922_cell_7.png',\n",
       " 'C162P123ThinF_IMG_20151116_102655_cell_39.png',\n",
       " 'C96P57ThinF_IMG_20150824_112442_cell_22.png',\n",
       " 'C221ThinF_IMG_20151106_160653_cell_197.png',\n",
       " 'C230ThinF_IMG_20151112_150753_cell_268.png',\n",
       " 'C151P112ThinF_IMG_20151115_121725_cell_79.png',\n",
       " 'C231ThinF_IMG_20151112_153106_cell_131.png',\n",
       " 'C217ThinF_IMG_20151106_141135_cell_202.png',\n",
       " 'C3thin_original_IMG_20150608_163047_cell_212.png',\n",
       " 'C95P56ThinF_IMG_20150821_171631_cell_46.png',\n",
       " 'C49P10thinF_IMG_20150724_102843_cell_63.png',\n",
       " 'C181P142ThinF_IMG_20151127_160616_cell_129.png',\n",
       " 'C96P57ThinF_IMG_20150824_110812_cell_97.png',\n",
       " 'C209ThinF_IMG_20151029_160857_cell_145.png',\n",
       " 'C220ThinF_IMG_20151106_154339_cell_188.png',\n",
       " 'C144P105ThinF_IMG_20151015_163432_cell_259.png',\n",
       " 'C120P81ThinF_IMG_20151002_131120_cell_58.png',\n",
       " 'C94P55ThinF_IMG_20150821_165118_cell_56.png',\n",
       " 'C112P73ThinF_IMG_20150930_131516_cell_109.png',\n",
       " 'C209ThinF_IMG_20151029_160803_cell_13.png',\n",
       " 'C54P15thinF_IMG_20150728_113006_cell_128.png',\n",
       " 'C86P47ThinF_IMG_20150820_123717_cell_190.png',\n",
       " 'C145P106ThinF_IMG_20151016_154719_cell_101.png',\n",
       " 'C208ThinF_IMG_20151029_155436_cell_143.png',\n",
       " 'C158P119ThinF_IMG_20151115_181136_cell_124.png',\n",
       " 'C61P22N_ThinF_IMG_20150818_112811_cell_108.png',\n",
       " 'C111P72ThinF_IMG_20150930_113049_cell_37.png',\n",
       " 'C90P51ThinF_IMG_20150821_115310_cell_77.png',\n",
       " 'C210ThinF_IMG_20151029_162439_cell_91.png',\n",
       " 'C67P28N_ThinF_IMG_20150819_115417_cell_55.png',\n",
       " 'C206ThinF_IMG_20151029_140538_cell_6.png',\n",
       " 'C176P137NThinF_IMG_20151201_121808_cell_85.png',\n",
       " 'C152P113ThinF_IMG_20151115_124557_cell_60.png',\n",
       " 'C177P138NThinF_IMG_20151201_144820_cell_123.png',\n",
       " 'C150P111ThinF_IMG_20151115_120244_cell_164.png',\n",
       " 'C232ThinF_IMG_20151112_154719_cell_177.png',\n",
       " 'C236ThinF_IMG_20151127_102546_cell_48.png',\n",
       " 'C176P137NThinF_IMG_20151201_121808_cell_69.png',\n",
       " 'C151P112ThinF_IMG_20151115_121725_cell_120.png',\n",
       " 'C211ThinF_IMG_20151029_164033_cell_185.png',\n",
       " 'C184P145ThinF_IMG_20151203_103637_cell_39.png',\n",
       " 'C153P114ThinF_IMG_20151115_135639_cell_4.png',\n",
       " 'C216ThinF_IMG_20151106_135653_cell_238.png',\n",
       " 'C107P68ThinF_IMG_20150924_222415_cell_61.png',\n",
       " 'C151P112ThinF_IMG_20151115_122342_cell_191.png',\n",
       " 'C223ThinF_IMG_20151112_104240_cell_232.png',\n",
       " 'C216ThinF_IMG_20151106_135337_cell_145.png',\n",
       " 'C175P136NThinF_IMG_20151127_141325_cell_32.png',\n",
       " 'C70P31_ThinF_IMG_20150819_141730_cell_53.png',\n",
       " 'C89P50ThinF_IMG_20150820_163347_cell_189.png',\n",
       " 'C67P28N_ThinF_IMG_20150819_115417_cell_12.png',\n",
       " 'C227ThinF_IMG_20151112_135308_cell_80.png',\n",
       " 'C206ThinF_IMG_20151029_141047_cell_173.png',\n",
       " 'C58P19thinF_IMG_20150802_122648_cell_146.png',\n",
       " 'C78P39ThinF_IMG_20150606_103413_cell_68.png',\n",
       " 'C116P77ThinF_IMG_20150930_171219_cell_6.png',\n",
       " 'C67P28N_ThinF_IMG_20150819_132441_cell_87.png',\n",
       " 'C138P99ThinF_IMG_20151005_171940_cell_29.png',\n",
       " 'C210ThinF_IMG_20151029_162605_cell_61.png',\n",
       " 'C93P54ThinF_IMG_20150821_163452_cell_165.png',\n",
       " 'C81P42ThinF_IMG_20150817_120351_cell_135.png',\n",
       " 'C229ThinF_IMG_20151112_144613_cell_87.png',\n",
       " 'C98P59ThinF_IMG_20150917_153311_cell_149.png',\n",
       " 'C124P85ThinF_IMG_20151002_154846_cell_124.png',\n",
       " 'C188P149ThinF_IMG_20151203_134449_cell_1.png',\n",
       " 'C234ThinF_IMG_20151112_162759_cell_255.png',\n",
       " 'C64P25N_ThinF_IMG_20150818_152337_cell_151.png',\n",
       " 'C58P19thinF_IMG_20150802_121847_cell_130.png',\n",
       " 'C39P4thinF_original_IMG_20150622_111723_cell_1.png',\n",
       " 'C215ThinF_IMG_20151106_133012_cell_127.png',\n",
       " 'C66P27N_ThinF_IMG_20150818_164702_cell_81.png',\n",
       " 'C55P16thinF_IMG_20150728_121151_cell_69.png',\n",
       " 'C223ThinF_IMG_20151112_104240_cell_163.png',\n",
       " 'C71P32_ThinF_IMG_20150813_163655_cell_58.png',\n",
       " 'C68P29N_ThinF_IMG_20150819_134326_cell_21.png',\n",
       " 'C216ThinF_IMG_20151106_134931_cell_67.png',\n",
       " 'C47P8thin_Original_Motic_IMG_20150714_093636_cell_104.png',\n",
       " 'C151P112ThinF_IMG_20151115_121942_cell_220.png',\n",
       " 'C88P49ThinF_IMG_20150820_150724_cell_62.png',\n",
       " 'C125P86ThinF_IMG_20151004_102013_cell_96.png',\n",
       " 'C120P81ThinF_IMG_20151002_130715_cell_51.png',\n",
       " 'C96P57ThinF_IMG_20150824_105531_cell_107.png',\n",
       " 'C37BP2_thinF_IMG_20150620_133238a_cell_83.png',\n",
       " 'C114P75ThinF_IMG_20150930_150013_cell_107.png',\n",
       " 'C180P141NThinF_IMG_20151201_163751_cell_105.png',\n",
       " 'C62P23N_ThinF_IMG_20150818_133527_cell_103.png',\n",
       " 'C47P8thinOriginalOlympusCX21_IMG_20150717_173432_cell_10.png',\n",
       " 'C98P59ThinF_IMG_20150917_153801_cell_141.png',\n",
       " 'C241NThinF_IMG_20151207_124115_cell_29.png',\n",
       " 'C45P6ThinF_IMG_20151130_155110_cell_100.png',\n",
       " 'C101P62ThinF_IMG_20150923_170246_cell_30.png',\n",
       " 'C184P145ThinF_IMG_20151203_102543_cell_122.png',\n",
       " 'C107P68ThinF_IMG_20150924_222233_cell_20.png',\n",
       " 'C116P77ThinF_IMG_20150930_171809_cell_1.png',\n",
       " 'C134P95ThinF_IMG_20151005_122331_cell_39.png',\n",
       " 'C189P150ThinF_IMG_20151203_141809_cell_70.png',\n",
       " 'C123P84ThinF_IMG_20151002_151143_cell_56.png',\n",
       " 'C223ThinF_IMG_20151112_104410_cell_175.png',\n",
       " 'C210ThinF_IMG_20151029_162439_cell_263.png',\n",
       " 'C82P43ThinF_IMG_20150817_123824_cell_73.png',\n",
       " 'C151P112ThinF_IMG_20151115_121843_cell_113.png',\n",
       " 'C94P55ThinF_IMG_20150821_165519_cell_248.png',\n",
       " 'C179P140ThinF_IMG_20151127_153436_cell_108.png',\n",
       " 'C175P136NThinF_IMG_20151127_142009_cell_207.png',\n",
       " 'C238NThinF_IMG_20151207_115017_cell_172.png',\n",
       " 'C142P103ThinF_IMG_20151005_221900_cell_116.png',\n",
       " 'C98P59ThinF_IMG_20150917_153030_cell_30.png',\n",
       " 'C112P73ThinF_IMG_20150930_131254_cell_167.png',\n",
       " 'C137P98ThinF_IMG_20151005_162010_cell_20.png',\n",
       " 'C239ThinF_IMG_20151127_113253_cell_73.png',\n",
       " 'C72P33_ThinF_IMG_20150815_104923_cell_110.png',\n",
       " 'C64P25N_ThinF_IMG_20150818_152613_cell_159.png',\n",
       " 'C49P10thinF_IMG_20150724_102951_cell_50.png',\n",
       " 'C89P50ThinF_IMG_20150820_162300_cell_154.png',\n",
       " 'C103P64ThinF_IMG_20150918_165125_cell_117.png',\n",
       " 'C47P8thinOriginalOlympusCX21_IMG_20150717_174222_cell_23.png',\n",
       " 'C65P26N_ThinF_IMG_20150818_154050_cell_119.png',\n",
       " 'C178P139NThinF_IMG_20151201_151903_cell_94.png',\n",
       " 'C139P100ThinF_IMG_20151005_183601_cell_105.png',\n",
       " 'C121P82ThinF_IMG_20151002_134953_cell_5.png',\n",
       " 'C81P42ThinF_IMG_20150817_120524_cell_146.png',\n",
       " 'C122P83ThinF_IMG_20151002_145330_cell_31.png',\n",
       " 'C76P37ThinF_IMG_20150815_173019_cell_73.png',\n",
       " 'C74P35_ThinF_IMG_20150815_114401_cell_80.png',\n",
       " 'C211ThinF_IMG_20151029_164033_cell_154.png',\n",
       " 'C45P6ThinF_IMG_20151130_155011_cell_144.png',\n",
       " 'C79P40ThinF_IMG_20150817_103901_cell_24.png',\n",
       " 'C58P19thinF_IMG_20150802_122215_cell_33.png',\n",
       " 'C70P31_ThinF_IMG_20150819_141327_cell_33.png',\n",
       " 'C102P63ThinF_IMG_20150918_161826_cell_54.png',\n",
       " 'C216ThinF_IMG_20151106_135337_cell_65.png',\n",
       " 'C241NThinF_IMG_20151207_124643_cell_169.png',\n",
       " 'C91P52ThinF_IMG_20150821_123314_cell_25.png',\n",
       " 'C99P60ThinF_IMG_20150918_141129_cell_77.png',\n",
       " 'C79P40ThinF_IMG_20150817_102702_cell_5.png',\n",
       " 'C72P33_ThinF_IMG_20150815_104307_cell_60.png',\n",
       " 'C137P98ThinF_IMG_20151005_161859_cell_30.png',\n",
       " 'C189P150ThinF_IMG_20151203_141719_cell_6.png',\n",
       " 'C161P122ThinF_IMG_20151116_100959_cell_105.png',\n",
       " 'C76P37ThinF_IMG_20150815_171214_cell_13.png',\n",
       " 'C178P139NThinF_IMG_20151201_155012_cell_99.png',\n",
       " 'C58P19thinF_IMG_20150802_122846_cell_88.png',\n",
       " 'C202ThinF_IMG_20151015_151254_cell_121.png',\n",
       " 'C103P64ThinF_IMG_20150918_165016_cell_139.png',\n",
       " 'C104P65ThinF_IMG_20150918_172639_cell_167.png',\n",
       " 'C6NThinF_IMG_20150609_122725_cell_208.png',\n",
       " 'C133P94ThinF_IMG_20151004_154919_cell_68.png',\n",
       " 'C112P73ThinF_IMG_20150930_131659_cell_69.png',\n",
       " 'C209ThinF_IMG_20151029_160857_cell_221.png',\n",
       " 'C77P38ThinF_IMG_20150602_112011_cell_76.png',\n",
       " 'C163P124ThinF_IMG_20151116_111925_cell_8.png',\n",
       " 'C52P13thinF_IMG_20150725_130013_cell_160.png',\n",
       " 'C127P88ThinF_IMG_20151004_111651_cell_99.png',\n",
       " 'C67P28N_ThinF_IMG_20150819_133000_cell_79.png',\n",
       " 'C137P98ThinF_IMG_20151005_160918_cell_22.png',\n",
       " 'C234ThinF_IMG_20151112_162843_cell_129.png',\n",
       " 'C104P65ThinF_IMG_20150918_171154_cell_4.png',\n",
       " 'C176P137NThinF_IMG_20151201_121808_cell_70.png',\n",
       " 'C180P141NThinF_IMG_20151201_164714_cell_101.png',\n",
       " 'C42P5thin_original_IMG_20150623_135746_cell_140.png',\n",
       " 'C82P43ThinF_IMG_20150817_124010_cell_39.png',\n",
       " 'C92P53ThinF_IMG_20150821_151224_cell_123.png',\n",
       " 'C127P88ThinF_IMG_20151004_111755_cell_1.png',\n",
       " 'C98P59ThinF_IMG_20150917_153600_cell_1.png',\n",
       " 'C228ThinF_IMG_20151112_142109_cell_5.png',\n",
       " 'C153P114ThinF_IMG_20151115_140242_cell_185.png',\n",
       " 'C152P113ThinF_IMG_20151115_123837_cell_49.png',\n",
       " 'C180P141NThinF_IMG_20151201_163751_cell_134.png',\n",
       " 'C142P103ThinF_IMG_20151005_223257_cell_139.png',\n",
       " 'C154P115ThinF_IMG_20151115_141543_cell_142.png',\n",
       " 'C45P6ThinF_IMG_20151130_155011_cell_46.png',\n",
       " 'C236ThinF_IMG_20151127_102428_cell_87.png',\n",
       " 'C115P76ThinF_IMG_20150930_162038_cell_121.png',\n",
       " 'C69P30N_ThinF_IMG_20150819_140652_cell_158.png',\n",
       " 'C3thin_original_IMG_20150608_163029_cell_52.png',\n",
       " 'C3thin_original_IMG_20150608_163029_cell_44.png',\n",
       " 'C83P44ThinF_IMG_20150817_133218_cell_72.png',\n",
       " 'C46P7ThinF_IMG_20151130_210843_cell_131.png',\n",
       " 'C111P72ThinF_IMG_20150930_113003_cell_135.png',\n",
       " 'C143P104ThinF_IMG_20151005_225746_cell_115.png',\n",
       " 'C102P63ThinF_IMG_20150918_162511_cell_56.png',\n",
       " 'C62P23N_ThinF_IMG_20150818_133055_cell_119.png',\n",
       " 'C102P63ThinF_IMG_20150918_161826_cell_133.png',\n",
       " 'C60P21thinF_IMG_20150804_105955_cell_70.png',\n",
       " 'C171P132ThinF_IMG_20151119_153347_cell_175.png',\n",
       " 'C86P47ThinF_IMG_20150820_124259_cell_172.png',\n",
       " 'C92P53ThinF_IMG_20150821_150718_cell_181.png',\n",
       " 'C155P116ThinF_IMG_20151115_143125_cell_106.png',\n",
       " 'C221ThinF_IMG_20151106_160022_cell_49.png',\n",
       " 'C161P122ThinF_IMG_20151116_101059_cell_37.png',\n",
       " 'C133P94ThinF_IMG_20151004_154158_cell_6.png',\n",
       " 'C104P65ThinF_IMG_20150918_172053_cell_184.png',\n",
       " 'C235ThinF_IMG_20151112_164918_cell_251.png',\n",
       " 'C117P78ThinF_IMG_20150930_221927_cell_6.png',\n",
       " 'C97P58ThinF_IMG_20150917_151551_cell_2.png',\n",
       " 'C77P38ThinF_IMG_20150601_155125_cell_18.png',\n",
       " 'C183P144NThinF_IMG_20151201_224107_cell_46.png',\n",
       " 'C104P65ThinF_IMG_20150918_172214_cell_27.png',\n",
       " 'C75P36_ThinF_IMG_20150815_163147_cell_128.png',\n",
       " 'C208ThinF_IMG_20151029_155411_cell_108.png',\n",
       " 'C188P149ThinF_IMG_20151203_134319_cell_28.png',\n",
       " 'C63P24N_ThinF_IMG_20150818_144456_cell_88.png',\n",
       " 'C230ThinF_IMG_20151112_150647_cell_67.png',\n",
       " 'C59P20thinF_IMG_20150803_112858_cell_77.png',\n",
       " 'C162P123ThinF_IMG_20151116_104736_cell_119.png',\n",
       " 'C109P70ThinF_IMG_20150930_103214_cell_38.png',\n",
       " 'C140P101ThinF_IMG_20151005_211530_cell_126.png',\n",
       " 'C80P41ThinF_IMG_20150817_110834_cell_108.png',\n",
       " 'C208ThinF_IMG_20151029_155554_cell_35.png',\n",
       " 'C173P134NThinF_IMG_20151130_125501_cell_174.png',\n",
       " 'C155P116ThinF_IMG_20151115_142805_cell_67.png',\n",
       " 'C230ThinF_IMG_20151112_150753_cell_227.png',\n",
       " 'C46P7ThinF_IMG_20151130_205719_cell_127.png',\n",
       " 'C145P106ThinF_IMG_20151016_154641_cell_125.png',\n",
       " 'C189P150ThinF_IMG_20151203_141615_cell_84.png',\n",
       " 'C160P121ThinF_IMG_20151116_094128_cell_55.png',\n",
       " 'C78P39ThinF_IMG_20150606_103459_cell_108.png',\n",
       " 'C71P32_ThinF_IMG_20150813_162146_cell_121.png',\n",
       " 'C47P8thin_Original_Motic_IMG_20150714_093600_cell_105.png',\n",
       " 'C87P48ThinF_IMG_20150820_132514_cell_94.png',\n",
       " 'C128P89ThinF_IMG_20151004_131129_cell_21.png',\n",
       " 'C155P116ThinF_IMG_20151115_143330_cell_152.png',\n",
       " 'C115P76ThinF_IMG_20150930_161825_cell_128.png',\n",
       " 'C150P111ThinF_IMG_20151115_115950_cell_66.png',\n",
       " 'C76P37ThinF_IMG_20150815_173019_cell_141.png',\n",
       " 'C39P4thinF_original_IMG_20150622_105102_cell_17.png',\n",
       " 'C175P136NThinF_IMG_20151127_141428_cell_62.png',\n",
       " 'C170P131ThinF_IMG_20151119_120150_cell_59.png',\n",
       " 'C127P88ThinF_IMG_20151004_111651_cell_64.png',\n",
       " 'C7NthinF_IMG_20150611_104753_cell_128.png',\n",
       " 'C38P3thinF_original_IMG_20150621_112227_cell_186.png',\n",
       " 'C206ThinF_IMG_20151029_140538_cell_195.png',\n",
       " 'C70P31_ThinF_IMG_20150813_131330_cell_32.png',\n",
       " 'C112P73ThinF_IMG_20150930_131900_cell_159.png',\n",
       " 'C151P112ThinF_IMG_20151115_121644_cell_131.png',\n",
       " 'C79P40ThinF_IMG_20150817_104745_cell_120.png',\n",
       " 'C210ThinF_IMG_20151029_162439_cell_188.png',\n",
       " 'C7NthinF_IMG_20150611_104609_cell_59.png',\n",
       " 'C138P99ThinF_IMG_20151005_171940_cell_96.png',\n",
       " 'C140P101ThinF_IMG_20151005_210309_cell_42.png',\n",
       " 'C143P104ThinF_IMG_20151005_230100_cell_73.png',\n",
       " 'C102P63ThinF_IMG_20150918_162511_cell_157.png',\n",
       " 'C57P18thinF_IMG_20150729_110457_cell_32.png',\n",
       " 'C180P141NThinF_IMG_20151201_165423_cell_93.png',\n",
       " 'C85P46ThinF_IMG_20150820_110040_cell_128.png',\n",
       " 'C230ThinF_IMG_20151112_150647_cell_73.png',\n",
       " 'C97P58ThinF_IMG_20150917_151512_cell_7.png',\n",
       " 'C48P9thinF_IMG_20150721_160944_cell_195.png',\n",
       " 'C134P95ThinF_IMG_20151005_122331_cell_19.png',\n",
       " 'C108P69ThinF_IMG_20150924_224909_cell_223.png',\n",
       " 'C53P14thinF_IMG_20150726_120026_cell_176.png',\n",
       " 'C181P142ThinF_IMG_20151127_160539_cell_120.png',\n",
       " 'C173P134NThinF_IMG_20151130_115339_cell_152.png',\n",
       " 'C126P87ThinF_IMG_20151004_104813_cell_108.png',\n",
       " 'C117P78ThinF_IMG_20150930_220616_cell_53.png',\n",
       " 'C164P125ThinF_IMG_20151116_113954_cell_98.png',\n",
       " 'C42P5thin_original_IMG_20150623_134426_cell_127.png',\n",
       " 'C124P85ThinF_IMG_20151002_155223_cell_116.png',\n",
       " 'C59P20thinF_IMG_20150803_112733_cell_83.png',\n",
       " 'C129P90ThinF_IMG_20151004_134520_cell_46.png',\n",
       " 'C37BP2_thinF_IMG_20150620_132847a_cell_50.png',\n",
       " 'C172P133ThinF_IMG_20151119_155307_cell_238.png',\n",
       " 'C47P8thin_Original_Motic_IMG_20150714_094054_cell_26.png',\n",
       " 'C213ThinF_IMG_20151106_112759_cell_228.png',\n",
       " 'C231ThinF_IMG_20151112_153246_cell_121.png',\n",
       " 'C188P149ThinF_IMG_20151203_135433_cell_88.png',\n",
       " 'C89P50ThinF_IMG_20150820_162504_cell_178.png',\n",
       " 'C123P84ThinF_IMG_20151002_152330_cell_160.png',\n",
       " 'C164P125ThinF_IMG_20151116_120135_cell_129.png',\n",
       " 'C5NThinF_IMG_20150609_122020_cell_230.png',\n",
       " 'C110P71ThinF_IMG_20150930_105729_cell_18.png',\n",
       " 'C82P43ThinF_IMG_20150817_124418_cell_31.png',\n",
       " 'C167P128ReThinF_IMG_20151201_105707_cell_131.png',\n",
       " 'C73P34_ThinF_IMG_20150815_111114_cell_77.png',\n",
       " 'C59P20thinF_IMG_20150803_112858_cell_49.png',\n",
       " 'C61P22N_ThinF_IMG_20150818_112704_cell_10.png',\n",
       " 'C82P43ThinF_IMG_20150817_123500_cell_175.png',\n",
       " 'C210ThinF_IMG_20151029_162357_cell_80.png',\n",
       " 'C104P65ThinF_IMG_20150918_172537_cell_133.png',\n",
       " 'C94P55ThinF_IMG_20150821_170403_cell_104.png',\n",
       " 'C147P108ThinF_IMG_20151115_092900_cell_12.png',\n",
       " 'C232ThinF_IMG_20151112_154211_cell_158.png',\n",
       " 'C211ThinF_IMG_20151029_164218_cell_167.png',\n",
       " 'C54P15thinF_IMG_20150728_113006_cell_55.png',\n",
       " 'C155P116ThinF_IMG_20151115_143125_cell_44.png',\n",
       " 'C182P143NThinF_IMG_20151201_171950_cell_35.png',\n",
       " 'C209ThinF_IMG_20151029_160857_cell_293.png',\n",
       " 'C94P55ThinF_IMG_20150821_170249_cell_207.png',\n",
       " 'C161P122ThinF_IMG_20151116_101126_cell_67.png',\n",
       " 'C119P80ThinF_IMG_20151002_123043_cell_110.png',\n",
       " 'C53P14thinF_IMG_20150726_114918_cell_19.png',\n",
       " 'C229ThinF_IMG_20151112_144147_cell_167.png',\n",
       " 'C98P59ThinF_IMG_20150917_153938_cell_170.png',\n",
       " 'C5NThinF_IMG_20150609_122020_cell_138.png',\n",
       " 'C89P50ThinF_IMG_20150820_162153_cell_83.png',\n",
       " 'C121P82ThinF_IMG_20151002_134659_cell_55.png',\n",
       " 'C142P103ThinF_IMG_20151005_221900_cell_60.png',\n",
       " 'C106P67ThinF_IMG_20150924_102413_cell_9.png',\n",
       " 'C135P96ThinF_IMG_20151005_124359_cell_111.png',\n",
       " 'C51AP12thinF_IMG_20150724_154330_cell_61.png',\n",
       " 'C236ThinF_IMG_20151127_102516_cell_251.png',\n",
       " 'C221ThinF_IMG_20151106_160515_cell_52.png',\n",
       " 'C135P96ThinF_IMG_20151005_124031_cell_144.png',\n",
       " 'C232ThinF_IMG_20151112_154345_cell_121.png',\n",
       " 'C216ThinF_IMG_20151106_134733_cell_52.png',\n",
       " 'C149P110ThinF_IMG_20151115_115154_cell_135.png',\n",
       " 'C109P70ThinF_IMG_20150930_103113_cell_56.png',\n",
       " 'C225ThinF_IMG_20151112_113915_cell_136.png',\n",
       " 'C168P129ThinF_IMG_20151118_154651_cell_75.png',\n",
       " 'C66P27N_ThinF_IMG_20150818_163419_cell_127.png',\n",
       " 'C52P13thinF_IMG_20150725_124830_cell_123.png',\n",
       " 'C105P66ThinF_IMG_20150924_094800_cell_62.png',\n",
       " 'C220ThinF_IMG_20151106_154510_cell_54.png',\n",
       " 'C121P82ThinF_IMG_20151002_133158_cell_35.png',\n",
       " 'C176P137NThinF_IMG_20151201_121303_cell_2.png',\n",
       " 'C71P32_ThinF_IMG_20150813_163655_cell_165.png',\n",
       " 'C33P1thinF_IMG_20150619_120838a_cell_28.png',\n",
       " 'C110P71ThinF_IMG_20150930_110052_cell_196.png',\n",
       " 'C140P101ThinF_IMG_20151005_211530_cell_65.png',\n",
       " 'C204ThinF_IMG_20151029_112502_cell_182.png',\n",
       " 'C1_thinF_IMG_20150604_105100_cell_277.png',\n",
       " 'C46P7ThinF_IMG_20151130_210123_cell_115.png',\n",
       " 'C68P29N_ThinF_IMG_20150819_134112_cell_8.png',\n",
       " 'C160P121ThinF_IMG_20151116_094509_cell_133.png',\n",
       " 'C177P138NThinF_IMG_20151201_143546_cell_7.png',\n",
       " 'C186P147NThinF_IMG_20151203_150859_cell_54.png',\n",
       " 'C66P27N_ThinF_IMG_20150818_163419_cell_120.png',\n",
       " 'C69P30N_ThinF_IMG_20150819_135613_cell_102.png',\n",
       " 'C80P41ThinF_IMG_20150817_110348_cell_111.png',\n",
       " 'C155P116ThinF_IMG_20151115_143051_cell_53.png',\n",
       " 'C130P91ThinF_IMG_20151004_142709_cell_67.png',\n",
       " 'C112P73ThinF_IMG_20150930_131605_cell_13.png',\n",
       " 'C85P46ThinF_IMG_20150820_105154_cell_62.png',\n",
       " 'C59P20thinF_IMG_20150803_113051_cell_113.png',\n",
       " 'C54P15thinF_IMG_20150728_105949_cell_47.png',\n",
       " 'C238NThinF_IMG_20151207_114914_cell_26.png',\n",
       " 'C223ThinF_IMG_20151112_104708_cell_177.png',\n",
       " 'C47P8thin_Original_Motic_IMG_20150714_093600_cell_41.png',\n",
       " 'C65P26N_ThinF_IMG_20150818_154714_cell_120.png',\n",
       " 'C69P30N_ThinF_IMG_20150819_135421_cell_19.png',\n",
       " 'C65P26N_ThinF_IMG_20150818_154326_cell_175.png',\n",
       " 'C71P32_ThinF_IMG_20150813_163655_cell_20.png',\n",
       " 'C86P47ThinF_IMG_20150820_125057_cell_142.png',\n",
       " 'C225ThinF_IMG_20151112_113953_cell_192.png',\n",
       " 'C212ThinF_IMG_20151106_105437_cell_264.png',\n",
       " 'C68P29N_ThinF_IMG_20150819_134504_cell_24.png',\n",
       " 'C84P45ThinF_IMG_20150818_101257_cell_4.png',\n",
       " 'C88P49ThinF_IMG_20150820_151626_cell_31.png',\n",
       " 'C46P7ThinF_IMG_20151130_205719_cell_56.png',\n",
       " 'C46P7ThinF_IMG_20151130_210843_cell_88.png',\n",
       " 'C141P102ThinF_IMG_20151005_214338_cell_23.png',\n",
       " 'C228ThinF_IMG_20151112_142452_cell_41.png',\n",
       " 'C230ThinF_IMG_20151112_150730_cell_219.png',\n",
       " 'C182P143NThinF_IMG_20151201_172257_cell_87.png',\n",
       " 'C240ThinF_IMG_20151127_115306_cell_105.png',\n",
       " 'C58P19thinF_IMG_20150802_122648_cell_151.png',\n",
       " 'C123P84ThinF_IMG_20151002_151851_cell_150.png',\n",
       " 'C214ThinF_IMG_20151106_114611_cell_223.png',\n",
       " 'C160P121ThinF_IMG_20151116_093629_cell_13.png',\n",
       " 'C86P47ThinF_IMG_20150820_125057_cell_149.png',\n",
       " 'C168P129ThinF_IMG_20151118_155802_cell_115.png',\n",
       " 'C91P52ThinF_IMG_20150821_123314_cell_112.png',\n",
       " 'C48P9thinF_IMG_20150721_160944_cell_53.png',\n",
       " 'C172P133ThinF_IMG_20151119_155343_cell_133.png',\n",
       " 'C171P132ThinF_IMG_20151119_153347_cell_103.png',\n",
       " 'C96P57ThinF_IMG_20150824_105445_cell_17.png',\n",
       " 'C74P35_ThinF_IMG_20150815_120712_cell_33.png',\n",
       " 'C204ThinF_IMG_20151029_110834_cell_111.png',\n",
       " 'C7NthinF_IMG_20150611_105043_cell_59.png',\n",
       " 'C145P106ThinF_IMG_20151016_155051_cell_67.png',\n",
       " 'C118P79ThinF_IMG_20151002_105125_cell_93.png',\n",
       " 'C186P147NThinF_IMG_20151203_150222_cell_130.png',\n",
       " 'C115P76ThinF_IMG_20150930_163156_cell_75.png',\n",
       " 'C165P126ThinF_IMG_20151117_172859_cell_191.png',\n",
       " 'C182P143NThinF_IMG_20151201_172216_cell_33.png',\n",
       " 'C49P10thinF_IMG_20150724_103054_cell_62.png',\n",
       " 'C147P108ThinF_IMG_20151115_101317_cell_177.png',\n",
       " 'C166P127ThinF_IMG_20151117_194147_cell_97.png',\n",
       " 'C131P92ThinF_IMG_20151004_145224_cell_5.png',\n",
       " 'C206ThinF_IMG_20151029_140917_cell_225.png',\n",
       " 'C169P130ThinF_IMG_20151119_143039_cell_49.png',\n",
       " 'C137P98ThinF_IMG_20151005_163712_cell_74.png',\n",
       " 'C182P143NThinF_IMG_20151201_172216_cell_87.png',\n",
       " 'C58P19thinF_IMG_20150802_122215_cell_16.png',\n",
       " 'C149P110ThinF_IMG_20151115_114729_cell_76.png',\n",
       " 'C74P35_ThinF_IMG_20150815_114555_cell_27.png',\n",
       " 'C4thin_original_IMG_20150608_165540_cell_178.png',\n",
       " 'C126P87ThinF_IMG_20151004_105342_cell_16.png',\n",
       " 'C146P107ThinF_IMG_20151018_134554_cell_137.png',\n",
       " 'C102P63ThinF_IMG_20150918_163054_cell_25.png',\n",
       " 'C60P21thinF_IMG_20150803_144510_cell_111.png',\n",
       " 'C111P72ThinF_IMG_20150930_113610_cell_134.png',\n",
       " 'C158P119ThinF_IMG_20151115_181558_cell_190.png',\n",
       " 'C139P100ThinF_IMG_20151005_182257_cell_153.png',\n",
       " 'C224ThinF_IMG_20151112_111955_cell_132.png',\n",
       " 'C147P108ThinF_IMG_20151115_101156_cell_19.png',\n",
       " 'C215ThinF_IMG_20151106_133043_cell_136.png',\n",
       " 'C209ThinF_IMG_20151029_160927_cell_46.png',\n",
       " 'C228ThinF_IMG_20151112_142216_cell_245.png',\n",
       " 'C83P44ThinF_IMG_20150817_133454_cell_20.png',\n",
       " 'C217ThinF_IMG_20151106_141500_cell_140.png',\n",
       " 'C73P34_ThinF_IMG_20150815_112246_cell_90.png',\n",
       " 'C204ThinF_IMG_20151029_110834_cell_183.png',\n",
       " 'C229ThinF_IMG_20151112_144652_cell_81.png',\n",
       " 'C241NThinF_IMG_20151207_124643_cell_136.png',\n",
       " 'C205ThinF_IMG_20151106_151800_cell_133.png',\n",
       " 'C180P141NThinF_IMG_20151201_165601_cell_104.png',\n",
       " 'C215ThinF_IMG_20151106_133116_cell_82.png',\n",
       " 'C12NThinF_IMG_20150614_125741_cell_172.png',\n",
       " 'C211ThinF_IMG_20151029_164248_cell_12.png',\n",
       " 'C91P52ThinF_IMG_20150821_125154_cell_111.png',\n",
       " 'C50P11thinF_IMG_20150724_120553_cell_127.png',\n",
       " 'C142P103ThinF_IMG_20151005_221931_cell_100.png',\n",
       " 'C215ThinF_IMG_20151106_133643_cell_149.png',\n",
       " 'C118P79ThinF_IMG_20151002_110834_cell_10.png',\n",
       " 'C120P81ThinF_IMG_20151002_125443_cell_107.png',\n",
       " 'C109P70ThinF_IMG_20150930_103811_cell_66.png',\n",
       " 'C227ThinF_IMG_20151112_135308_cell_179.png',\n",
       " 'C130P91ThinF_IMG_20151004_141504_cell_72.png',\n",
       " 'C60P21thinF_IMG_20150804_105034_cell_100.png',\n",
       " 'C219ThinF_IMG_20151106_145856_cell_49.png',\n",
       " 'C91P52ThinF_IMG_20150821_125154_cell_117.png',\n",
       " 'C58P19thinF_IMG_20150802_121847_cell_120.png',\n",
       " 'C128P89ThinF_IMG_20151004_131753_cell_112.png',\n",
       " 'C109P70ThinF_IMG_20150930_103811_cell_130.png',\n",
       " 'C208ThinF_IMG_20151029_155436_cell_127.png',\n",
       " 'C57P18thinF_IMG_20150729_111518_cell_38.png',\n",
       " 'C214ThinF_IMG_20151106_114910_cell_185.png',\n",
       " 'C202ThinF_IMG_20151015_151254_cell_80.png',\n",
       " 'C38P3thinF_original_IMG_20150621_112138_cell_40.png',\n",
       " 'C33P1thinF_IMG_20150619_120742a_cell_123.png',\n",
       " 'C179P140ThinF_IMG_20151127_153852_cell_144.png',\n",
       " 'C164P125ThinF_IMG_20151116_113651_cell_93.png',\n",
       " 'C188P149ThinF_IMG_20151203_134229_cell_110.png',\n",
       " 'C82P43ThinF_IMG_20150817_123824_cell_167.png',\n",
       " 'C183P144NThinF_IMG_20151201_222917_cell_25.png',\n",
       " 'C174P135NThinF_IMG_20151127_135554_cell_58.png',\n",
       " 'C2NThinF_IMG_20150604_114631_cell_215.png',\n",
       " 'C51AP12thinF_IMG_20150724_155557_cell_15.png',\n",
       " 'C169P130ThinF_IMG_20151119_143039_cell_182.png',\n",
       " 'C234ThinF_IMG_20151112_162940_cell_267.png',\n",
       " 'C177P138NThinF_IMG_20151201_143546_cell_29.png',\n",
       " 'C88P49ThinF_IMG_20150820_150724_cell_163.png',\n",
       " 'C42P5thin_original_IMG_20150623_135746_cell_80.png',\n",
       " 'C73P34_ThinF_IMG_20150815_112246_cell_160.png',\n",
       " 'C228ThinF_IMG_20151112_142109_cell_98.png',\n",
       " 'C65P26N_ThinF_IMG_20150818_154326_cell_94.png',\n",
       " 'C12NThinF_IMG_20150614_124244_cell_230.png',\n",
       " 'C166P127ThinF_IMG_20151117_193931_cell_25.png',\n",
       " 'C59P20thinF_IMG_20150803_112858_cell_16.png',\n",
       " 'C184P145ThinF_IMG_20151203_102543_cell_61.png',\n",
       " 'C74P35_ThinF_IMG_20150815_114401_cell_14.png',\n",
       " 'C90P51ThinF_IMG_20150821_115056_cell_202.png',\n",
       " 'C184P145ThinF_IMG_20151203_102405_cell_93.png',\n",
       " 'C107P68ThinF_IMG_20150924_221632_cell_23.png',\n",
       " 'C155P116ThinF_IMG_20151115_142805_cell_161.png',\n",
       " 'C116P77ThinF_IMG_20150930_171558_cell_1.png',\n",
       " 'C146P107ThinF_IMG_20151018_134554_cell_163.png',\n",
       " 'C33P1thinF_IMG_20150619_121411a_cell_114.png',\n",
       " 'C172P133ThinF_IMG_20151119_155156_cell_206.png',\n",
       " 'C143P104ThinF_IMG_20151005_230100_cell_15.png',\n",
       " 'C238NThinF_IMG_20151207_114605_cell_151.png',\n",
       " 'C236ThinF_IMG_20151127_102516_cell_104.png',\n",
       " 'C239ThinF_IMG_20151127_113223_cell_245.png',\n",
       " 'C101P62ThinF_IMG_20150918_151149_cell_61.png',\n",
       " 'C178P139NThinF_IMG_20151201_151903_cell_68.png',\n",
       " 'C62P23N_ThinF_IMG_20150818_133211_cell_70.png',\n",
       " 'C13NThinF_IMG_20150614_131617_cell_22.png',\n",
       " 'C202ThinF_IMG_20151015_151254_cell_126.png',\n",
       " 'C189P150ThinF_IMG_20151203_141406_cell_76.png',\n",
       " 'C98P59ThinF_IMG_20150917_153311_cell_118.png',\n",
       " 'C62P23N_ThinF_IMG_20150818_133307_cell_129.png',\n",
       " 'C184P145ThinF_IMG_20151203_102405_cell_45.png',\n",
       " 'C241NThinF_IMG_20151207_124608_cell_104.png',\n",
       " 'C147P108ThinF_IMG_20151115_101317_cell_2.png',\n",
       " 'C49P10thinF_IMG_20150724_103233_cell_44.png',\n",
       " 'C211ThinF_IMG_20151029_164218_cell_210.png',\n",
       " 'C81P42ThinF_IMG_20150817_115942_cell_120.png',\n",
       " 'C59P20thinF_IMG_20150803_112858_cell_68.png',\n",
       " 'C162P123ThinF_IMG_20151116_104451_cell_47.png',\n",
       " 'C110P71ThinF_IMG_20150930_105729_cell_117.png',\n",
       " 'C173P134NThinF_IMG_20151130_115733_cell_113.png',\n",
       " 'C153P114ThinF_IMG_20151115_140242_cell_251.png',\n",
       " 'C39P4thinF_original_IMG_20150622_111206_cell_46.png',\n",
       " 'C132P93ThinF_IMG_20151004_152045_cell_36.png',\n",
       " 'C74P35_ThinF_IMG_20150815_114153_cell_63.png',\n",
       " 'C182P143NThinF_IMG_20151201_171950_cell_53.png',\n",
       " 'C165P126ThinF_IMG_20151117_172859_cell_161.png',\n",
       " 'C116P77ThinF_IMG_20150930_171219_cell_65.png',\n",
       " 'C74P35_ThinF_IMG_20150815_120712_cell_15.png',\n",
       " 'C168P129ThinF_IMG_20151118_153739_cell_15.png',\n",
       " 'C157P118ThinF_IMG_20151115_164026_cell_19.png',\n",
       " 'C117P78ThinF_IMG_20150930_214511_cell_18.png',\n",
       " 'C121P82ThinF_IMG_20151002_134805_cell_7.png',\n",
       " 'C99P60ThinF_IMG_20150918_141001_cell_46.png',\n",
       " 'C127P88ThinF_IMG_20151004_112301_cell_122.png',\n",
       " 'C112P73ThinF_IMG_20150930_131900_cell_46.png',\n",
       " 'C63P24N_ThinF_IMG_20150818_144456_cell_18.png',\n",
       " 'C239ThinF_IMG_20151127_113223_cell_284.png',\n",
       " 'C49P10thinF_IMG_20150724_102843_cell_127.png',\n",
       " 'C155P116ThinF_IMG_20151115_143330_cell_55.png',\n",
       " 'C201ThinF_IMG_20150930_143502_cell_241.png',\n",
       " 'C154P115ThinF_IMG_20151115_141336_cell_133.png',\n",
       " 'C86P47ThinF_IMG_20150820_124943_cell_207.png',\n",
       " 'C39P4thinF_original_IMG_20150622_110352_cell_47.png',\n",
       " 'C236ThinF_IMG_20151127_102428_cell_118.png',\n",
       " 'C79P40ThinF_IMG_20150817_103901_cell_107.png',\n",
       " 'C149P110ThinF_IMG_20151115_115154_cell_216.png',\n",
       " 'C223ThinF_IMG_20151112_103809_cell_122.png',\n",
       " 'C77P38ThinF_IMG_20150602_143650_cell_105.png',\n",
       " 'C169P130ThinF_IMG_20151118_163539_cell_95.png',\n",
       " 'C6NThinF_IMG_20150609_122547_cell_123.png',\n",
       " 'C108P69ThinF_IMG_20150924_224616_cell_45.png',\n",
       " 'C239ThinF_IMG_20151127_113223_cell_7.png',\n",
       " 'C121P82ThinF_IMG_20151002_133631_cell_34.png',\n",
       " 'C125P86ThinF_IMG_20151004_101158_cell_130.png',\n",
       " 'C42P5thin_original_IMG_20150623_135746_cell_126.png',\n",
       " 'C235ThinF_IMG_20151112_164625_cell_228.png',\n",
       " 'C75P36_ThinF_IMG_20150815_163707_cell_33.png',\n",
       " 'C231ThinF_IMG_20151112_153041_cell_105.png',\n",
       " 'C157P118ThinF_IMG_20151115_163915_cell_79.png',\n",
       " 'C60P21thinF_IMG_20150804_113602_cell_16.png',\n",
       " 'C145P106ThinF_IMG_20151016_155051_cell_142.png',\n",
       " 'C228ThinF_IMG_20151112_142216_cell_179.png',\n",
       " 'C143P104ThinF_IMG_20151005_225528_cell_103.png',\n",
       " 'C233ThinF_IMG_20151112_160129_cell_104.png',\n",
       " 'C111P72ThinF_IMG_20150930_113003_cell_156.png',\n",
       " 'C64P25N_ThinF_IMG_20150818_152613_cell_156.png',\n",
       " 'C152P113ThinF_IMG_20151115_125038_cell_37.png',\n",
       " 'C33P1thinF_IMG_20150619_121435a_cell_98.png',\n",
       " 'C115P76ThinF_IMG_20150930_161825_cell_25.png',\n",
       " 'C46P7ThinF_IMG_20151130_210123_cell_24.png',\n",
       " 'C60P21thinF_IMG_20150804_113602_cell_50.png',\n",
       " 'C5NThinF_IMG_20150609_122034_cell_148.png',\n",
       " 'C177P138NThinF_IMG_20151201_143704_cell_125.png',\n",
       " 'C230ThinF_IMG_20151112_150753_cell_203.png',\n",
       " 'C68P29N_ThinF_IMG_20150819_133447_cell_104.png',\n",
       " 'C45P6ThinF_IMG_20151130_160241_cell_74.png',\n",
       " 'C101P62ThinF_IMG_20150918_151149_cell_63.png',\n",
       " 'C84P45ThinF_IMG_20150818_101550_cell_82.png',\n",
       " 'C88P49ThinF_IMG_20150820_153042_cell_46.png',\n",
       " 'C109P70ThinF_IMG_20150930_103811_cell_37.png',\n",
       " 'C102P63ThinF_IMG_20150918_163054_cell_76.png',\n",
       " 'C95P56ThinF_IMG_20150821_171631_cell_72.png',\n",
       " 'C219ThinF_IMG_20151106_150135_cell_98.png',\n",
       " 'C59P20thinF_IMG_20150803_111244_cell_157.png',\n",
       " 'C227ThinF_IMG_20151112_135308_cell_109.png',\n",
       " 'C65P26N_ThinF_IMG_20150818_154436_cell_81.png',\n",
       " 'C110P71ThinF_IMG_20150930_105729_cell_167.png',\n",
       " 'C151P112ThinF_IMG_20151115_121644_cell_7.png',\n",
       " 'C77P38ThinF_IMG_20150602_111510_cell_25.png',\n",
       " 'C136P97ThinF_IMG_20151005_141803_cell_18.png',\n",
       " 'C116P77ThinF_IMG_20150930_171558_cell_22.png',\n",
       " 'C119P80ThinF_IMG_20151002_123911_cell_17.png',\n",
       " 'C126P87ThinF_IMG_20151004_104623_cell_43.png',\n",
       " 'C221ThinF_IMG_20151106_160515_cell_84.png',\n",
       " 'C99P60ThinF_IMG_20150918_142128_cell_56.png',\n",
       " 'C127P88ThinF_IMG_20151004_111220_cell_118.png',\n",
       " 'C139P100ThinF_IMG_20151005_183521_cell_70.png',\n",
       " 'C88P49ThinF_IMG_20150820_151451_cell_56.png',\n",
       " 'C230ThinF_IMG_20151112_150753_cell_29.png',\n",
       " 'C238NThinF_IMG_20151207_114605_cell_164.png',\n",
       " 'C83P44ThinF_IMG_20150817_133609_cell_61.png',\n",
       " 'C63P24N_ThinF_IMG_20150818_143544_cell_137.png',\n",
       " 'C7NthinF_IMG_20150611_105043_cell_132.png',\n",
       " 'C81P42ThinF_IMG_20150817_120856_cell_147.png',\n",
       " 'C74P35_ThinF_IMG_20150815_120957_cell_32.png',\n",
       " 'C108P69ThinF_IMG_20150924_225004_cell_109.png',\n",
       " 'C5NThinF_IMG_20150609_122006_cell_82.png',\n",
       " 'C229ThinF_IMG_20151112_144222_cell_132.png',\n",
       " 'C118P79ThinF_IMG_20151002_110834_cell_23.png',\n",
       " 'C150P111ThinF_IMG_20151115_120244_cell_180.png',\n",
       " 'C214ThinF_IMG_20151106_131748_cell_189.png',\n",
       " 'C115P76ThinF_IMG_20150930_161825_cell_119.png',\n",
       " 'C64P25N_ThinF_IMG_20150818_153401_cell_135.png',\n",
       " 'C153P114ThinF_IMG_20151115_135832_cell_236.png',\n",
       " 'C122P83ThinF_IMG_20151002_145014_cell_158.png',\n",
       " 'C180P141NThinF_IMG_20151201_163848_cell_1.png',\n",
       " 'C46P7ThinF_IMG_20151130_205756_cell_7.png',\n",
       " 'C188P149ThinF_IMG_20151203_134209_cell_73.png',\n",
       " 'C79P40ThinF_IMG_20150817_103901_cell_54.png',\n",
       " 'C139P100ThinF_IMG_20151005_182822_cell_108.png',\n",
       " 'C213ThinF_IMG_20151106_112853_cell_118.png',\n",
       " 'C51AP12thinF_IMG_20150724_162636_cell_30.png',\n",
       " 'C141P102ThinF_IMG_20151005_214033_cell_39.png',\n",
       " 'C238NThinF_IMG_20151207_114605_cell_83.png',\n",
       " 'C1_thinF_IMG_20150604_104919_cell_240.png',\n",
       " 'C56P17thinF_IMG_20150728_160256_cell_57.png',\n",
       " 'C236ThinF_IMG_20151127_102115_cell_210.png',\n",
       " 'C64P25N_ThinF_IMG_20150818_152921_cell_119.png',\n",
       " 'C214ThinF_IMG_20151106_114526_cell_147.png',\n",
       " 'C184P145ThinF_IMG_20151203_103824_cell_49.png',\n",
       " 'C139P100ThinF_IMG_20151005_182822_cell_146.png',\n",
       " 'C180P141NThinF_IMG_20151201_163848_cell_81.png',\n",
       " 'C204ThinF_IMG_20151029_112502_cell_248.png',\n",
       " 'C179P140ThinF_IMG_20151127_153521_cell_103.png',\n",
       " 'C110P71ThinF_IMG_20150930_110404_cell_70.png',\n",
       " 'C214ThinF_IMG_20151106_114526_cell_136.png',\n",
       " 'C1_thinF_IMG_20150604_104942_cell_218.png',\n",
       " 'C147P108ThinF_IMG_20151115_092900_cell_64.png',\n",
       " 'C137P98ThinF_IMG_20151005_155704_cell_35.png',\n",
       " 'C233ThinF_IMG_20151112_160129_cell_220.png',\n",
       " 'C161P122ThinF_IMG_20151116_100959_cell_114.png',\n",
       " 'C213ThinF_IMG_20151106_112603_cell_52.png',\n",
       " 'C165P126ThinF_IMG_20151117_173346_cell_36.png',\n",
       " 'C139P100ThinF_IMG_20151005_182822_cell_83.png',\n",
       " 'C186P147NThinF_IMG_20151203_150557_cell_78.png',\n",
       " 'C42P5thin_original_IMG_20150623_135251_cell_121.png',\n",
       " 'C4thin_original_IMG_20150608_165908_cell_132.png',\n",
       " 'C186P147NThinF_IMG_20151203_150132_cell_157.png',\n",
       " 'C169P130ThinF_IMG_20151119_143212_cell_118.png',\n",
       " 'C73P34_ThinF_IMG_20150815_111302_cell_30.png',\n",
       " 'C114P75ThinF_IMG_20150930_151150_cell_24.png',\n",
       " 'C180P141NThinF_IMG_20151201_165528_cell_55.png',\n",
       " 'C115P76ThinF_IMG_20150930_163018_cell_103.png',\n",
       " 'C241NThinF_IMG_20151207_124358_cell_82.png',\n",
       " 'C117P78ThinF_IMG_20150930_221812_cell_61.png',\n",
       " 'C129P90ThinF_IMG_20151004_133703_cell_17.png',\n",
       " 'C127P88ThinF_IMG_20151004_111220_cell_18.png',\n",
       " 'C96P57ThinF_IMG_20150824_105213_cell_9.png',\n",
       " 'C100P61ThinF_IMG_20150918_150041_cell_127.png',\n",
       " 'C140P101ThinF_IMG_20151005_210309_cell_45.png',\n",
       " 'C125P86ThinF_IMG_20151004_101929_cell_83.png',\n",
       " 'C59P20thinF_IMG_20150803_111333_cell_113.png',\n",
       " 'C139P100ThinF_IMG_20151005_183338_cell_37.png',\n",
       " 'C108P69ThinF_IMG_20150924_224038_cell_186.png',\n",
       " 'C230ThinF_IMG_20151112_150730_cell_209.png',\n",
       " 'C215ThinF_IMG_20151106_133012_cell_233.png',\n",
       " 'C71P32_ThinF_IMG_20150813_161634_cell_128.png',\n",
       " 'C172P133ThinF_IMG_20151119_154936_cell_122.png',\n",
       " 'C60P21thinF_IMG_20150804_105034_cell_95.png',\n",
       " 'C77P38ThinF_IMG_20150602_142303_cell_84.png',\n",
       " 'C53P14thinF_IMG_20150726_115046_cell_81.png',\n",
       " 'C48P9thinF_IMG_20150721_160406_cell_183.png',\n",
       " 'C62P23N_ThinF_IMG_20150818_133307_cell_141.png',\n",
       " 'C72P33_ThinF_IMG_20150815_104923_cell_208.png',\n",
       " 'C168P129ThinF_IMG_20151118_155802_cell_15.png',\n",
       " 'C103P64ThinF_IMG_20150918_164553_cell_145.png',\n",
       " 'C62P23N_ThinF_IMG_20150818_132811_cell_85.png',\n",
       " 'C62P23N_ThinF_IMG_20150818_133211_cell_76.png',\n",
       " 'C239ThinF_IMG_20151127_113253_cell_169.png',\n",
       " 'C62P23N_ThinF_IMG_20150818_133211_cell_172.png',\n",
       " 'C140P101ThinF_IMG_20151005_205922_cell_54.png',\n",
       " 'C140P101ThinF_IMG_20151005_205406_cell_4.png',\n",
       " 'C181P142ThinF_IMG_20151127_160616_cell_54.png',\n",
       " 'C166P127ThinF_IMG_20151117_193235_cell_11.png',\n",
       " 'C238NThinF_IMG_20151207_114345_cell_179.png',\n",
       " 'C78P39ThinF_IMG_20150606_104936_cell_117.png',\n",
       " 'C85P46ThinF_IMG_20150820_105154_cell_208.png',\n",
       " 'C47P8thin_Original_Motic_IMG_20150714_093600_cell_25.png',\n",
       " 'C4thin_original_IMG_20150608_170038_cell_97.png',\n",
       " 'C139P100ThinF_IMG_20151005_182822_cell_100.png',\n",
       " 'C69P30N_ThinF_IMG_20150819_140143_cell_71.png',\n",
       " 'C189P150ThinF_IMG_20151203_141110_cell_36.png',\n",
       " 'C185P146ThinF_IMG_20151203_110933_cell_111.png',\n",
       " 'C182P143NThinF_IMG_20151201_172257_cell_56.png',\n",
       " 'C150P111ThinF_IMG_20151115_115805_cell_16.png',\n",
       " 'C184P145ThinF_IMG_20151203_103824_cell_37.png',\n",
       " 'C185P146ThinF_IMG_20151203_110448_cell_245.png',\n",
       " 'C98P59ThinF_IMG_20150917_153600_cell_27.png',\n",
       " 'C6NThinF_IMG_20150609_122832_cell_42.png',\n",
       " 'C169P130ThinF_IMG_20151118_172913_cell_209.png',\n",
       " 'C5NThinF_IMG_20150609_122034_cell_154.png',\n",
       " 'C102P63ThinF_IMG_20150918_162051_cell_1.png',\n",
       " 'C81P42ThinF_IMG_20150817_121113_cell_53.png',\n",
       " 'C163P124ThinF_IMG_20151116_110921_cell_73.png',\n",
       " 'C86P47ThinF_IMG_20150820_123717_cell_98.png',\n",
       " 'C210ThinF_IMG_20151029_162834_cell_108.png',\n",
       " 'C207ThinF_IMG_20151029_143711_cell_157.png',\n",
       " 'C237ThinF_IMG_20151127_104844_cell_99.png',\n",
       " 'C2NThinF_IMG_20150604_114631_cell_141.png',\n",
       " 'C238NThinF_IMG_20151207_114605_cell_171.png',\n",
       " 'C234ThinF_IMG_20151112_163036_cell_281.png',\n",
       " 'C222ThinF_IMG_20151115_150728_cell_106.png',\n",
       " 'C74P35_ThinF_IMG_20150815_121324_cell_104.png',\n",
       " 'C168P129ThinF_IMG_20151118_160516_cell_55.png',\n",
       " 'C236ThinF_IMG_20151127_102115_cell_104.png',\n",
       " 'C238NThinF_IMG_20151207_115017_cell_191.png',\n",
       " 'C117P78ThinF_IMG_20150930_214629_cell_45.png',\n",
       " 'C138P99ThinF_IMG_20151005_171332_cell_49.png',\n",
       " 'C187P148NThinF_IMG_20151203_153410_cell_86.png',\n",
       " 'C115P76ThinF_IMG_20150930_163018_cell_123.png',\n",
       " 'C70P31_ThinF_IMG_20150819_142744_cell_68.png',\n",
       " 'C37BP2_thinF_IMG_20150620_132440a_cell_41.png',\n",
       " 'C121P82ThinF_IMG_20151002_135237_cell_14.png',\n",
       " 'C121P82ThinF_IMG_20151002_134805_cell_68.png',\n",
       " 'C96P57ThinF_IMG_20150824_105531_cell_71.png',\n",
       " 'C221ThinF_IMG_20151106_155857_cell_85.png',\n",
       " 'C52P13thinF_IMG_20150725_124606_cell_110.png',\n",
       " 'C61P22N_ThinF_IMG_20150818_112252_cell_12.png',\n",
       " 'C53P14thinF_IMG_20150726_120600_cell_44.png',\n",
       " 'C2NThinF_IMG_20150604_115238_cell_259.png',\n",
       " 'C204ThinF_IMG_20151029_112502_cell_226.png',\n",
       " 'C211ThinF_IMG_20151029_163959_cell_42.png',\n",
       " 'C209ThinF_IMG_20151029_160927_cell_23.png',\n",
       " 'C125P86ThinF_IMG_20151004_102013_cell_56.png',\n",
       " 'C64P25N_ThinF_IMG_20150818_152337_cell_17.png',\n",
       " 'C214ThinF_IMG_20151106_114611_cell_200.png',\n",
       " 'C118P79ThinF_IMG_20151002_105125_cell_89.png',\n",
       " 'C120P81ThinF_IMG_20151002_125443_cell_120.png',\n",
       " 'C209ThinF_IMG_20151029_160927_cell_189.png',\n",
       " 'C188P149ThinF_IMG_20151203_135433_cell_20.png',\n",
       " 'C239ThinF_IMG_20151127_113202_cell_62.png',\n",
       " 'C229ThinF_IMG_20151112_144652_cell_56.png',\n",
       " 'C161P122ThinF_IMG_20151116_101403_cell_101.png',\n",
       " 'C102P63ThinF_IMG_20150918_162511_cell_133.png',\n",
       " 'C56P17thinF_IMG_20150728_155921_cell_86.png',\n",
       " 'C236ThinF_IMG_20151127_102546_cell_199.png',\n",
       " 'C49P10thinF_IMG_20150724_103233_cell_105.png',\n",
       " 'C216ThinF_IMG_20151106_134931_cell_41.png',\n",
       " 'C47P8thinOriginalOlympusCX21_IMG_20150717_174222_cell_117.png',\n",
       " 'C184P145ThinF_IMG_20151203_102543_cell_76.png',\n",
       " 'C122P83ThinF_IMG_20151002_150207_cell_114.png',\n",
       " 'C231ThinF_IMG_20151112_153246_cell_212.png',\n",
       " 'C101P62ThinF_IMG_20150923_170344_cell_55.png',\n",
       " 'C158P119ThinF_IMG_20151115_181436_cell_189.png',\n",
       " 'C212ThinF_IMG_20151106_105834_cell_6.png',\n",
       " 'C229ThinF_IMG_20151112_144534_cell_110.png',\n",
       " 'C70P31_ThinF_IMG_20150819_141436_cell_87.png',\n",
       " 'C221ThinF_IMG_20151106_160727_cell_135.png',\n",
       " 'C94P55ThinF_IMG_20150821_170249_cell_97.png',\n",
       " 'C148P109ThinF_IMG_20151115_112855_cell_39.png',\n",
       " 'C45P6ThinF_IMG_20151130_154725_cell_25.png',\n",
       " 'C163P124ThinF_IMG_20151116_111742_cell_108.png',\n",
       " 'C134P95ThinF_IMG_20151005_121343_cell_68.png',\n",
       " 'C176P137NThinF_IMG_20151201_121808_cell_24.png',\n",
       " 'C185P146ThinF_IMG_20151203_110817_cell_53.png',\n",
       " 'C108P69ThinF_IMG_20150924_224909_cell_47.png',\n",
       " 'C152P113ThinF_IMG_20151115_124323_cell_145.png',\n",
       " 'C161P122ThinF_IMG_20151116_101626_cell_57.png',\n",
       " 'C157P118ThinF_IMG_20151115_163759_cell_11.png',\n",
       " 'C165P126ThinF_IMG_20151117_171646_cell_173.png',\n",
       " 'C76P37ThinF_IMG_20150815_165356_cell_60.png',\n",
       " 'C52P13thinF_IMG_20150725_125847_cell_104.png',\n",
       " 'C97P58ThinF_IMG_20150917_152032_cell_104.png',\n",
       " 'C7NthinF_IMG_20150611_104404_cell_117.png',\n",
       " 'C203ThinF_IMG_20151029_105443_cell_257.png',\n",
       " 'C37BP2_thinF_IMG_20150620_133205a_cell_9.png',\n",
       " 'C227ThinF_IMG_20151112_135308_cell_54.png',\n",
       " 'C75P36_ThinF_IMG_20150815_163707_cell_44.png',\n",
       " 'C234ThinF_IMG_20151112_163036_cell_183.png',\n",
       " 'C172P133ThinF_IMG_20151119_154936_cell_161.png',\n",
       " 'C111P72ThinF_IMG_20150930_112609_cell_56.png',\n",
       " 'C140P101ThinF_IMG_20151005_205922_cell_82.png',\n",
       " 'C87P48ThinF_IMG_20150820_141913_cell_69.png',\n",
       " 'C158P119ThinF_IMG_20151115_181436_cell_177.png',\n",
       " 'C72P33_ThinF_IMG_20150815_105823_cell_127.png',\n",
       " 'C235ThinF_IMG_20151112_165055_cell_237.png',\n",
       " 'C170P131ThinF_IMG_20151119_120019_cell_77.png',\n",
       " 'C186P147NThinF_IMG_20151203_150557_cell_128.png',\n",
       " 'C105P66ThinF_IMG_20150924_094944_cell_25.png',\n",
       " 'C188P149ThinF_IMG_20151203_134209_cell_167.png',\n",
       " 'C2NThinF_IMG_20150604_114631_cell_99.png',\n",
       " 'C232ThinF_IMG_20151112_154211_cell_167.png',\n",
       " 'C231ThinF_IMG_20151112_152234_cell_4.png',\n",
       " 'C160P121ThinF_IMG_20151116_092925_cell_136.png',\n",
       " 'C46P7ThinF_IMG_20151130_210938_cell_144.png',\n",
       " 'C204ThinF_IMG_20151029_110834_cell_18.png',\n",
       " 'C79P40ThinF_IMG_20150817_104316_cell_150.png',\n",
       " 'C58P19thinF_IMG_20150802_123134_cell_147.png',\n",
       " 'C174P135NThinF_IMG_20151127_135435_cell_15.png',\n",
       " 'C114P75ThinF_IMG_20150930_150057_cell_135.png',\n",
       " 'C179P140ThinF_IMG_20151127_153819_cell_97.png',\n",
       " 'C237ThinF_IMG_20151127_105320_cell_67.png',\n",
       " 'C164P125ThinF_IMG_20151116_120135_cell_11.png',\n",
       " 'C129P90ThinF_IMG_20151004_133244_cell_2.png',\n",
       " 'C1_thinF_IMG_20150604_104942_cell_168.png',\n",
       " 'C135P96ThinF_IMG_20151005_123715_cell_128.png',\n",
       " 'C182P143NThinF_IMG_20151201_172257_cell_52.png',\n",
       " 'C49P10thinF_IMG_20150724_103054_cell_186.png',\n",
       " 'C5NThinF_IMG_20150609_122020_cell_62.png',\n",
       " 'C101P62ThinF_IMG_20150918_151335_cell_22.png',\n",
       " 'C235ThinF_IMG_20151112_165055_cell_257.png',\n",
       " 'C174P135NThinF_IMG_20151127_135512_cell_56.png',\n",
       " 'C74P35_ThinF_IMG_20150815_121324_cell_74.png',\n",
       " 'C46P7ThinF_IMG_20151130_210309_cell_18.png',\n",
       " 'C127P88ThinF_IMG_20151004_111755_cell_11.png',\n",
       " 'C59P20thinF_IMG_20150803_113051_cell_144.png',\n",
       " 'C137P98ThinF_IMG_20151005_163712_cell_36.png',\n",
       " 'C177P138NThinF_IMG_20151201_142846_cell_15.png',\n",
       " 'C118P79ThinF_IMG_20151002_105735_cell_83.png',\n",
       " 'C107P68ThinF_IMG_20150924_222535_cell_88.png',\n",
       " 'C226ThinF_IMG_20151112_131546_cell_18.png',\n",
       " 'C52P13thinF_IMG_20150725_124830_cell_92.png',\n",
       " 'C174P135NThinF_IMG_20151127_135342_cell_190.png',\n",
       " 'C37BP2_thinF_IMG_20150620_133111a_cell_31.png',\n",
       " 'C56P17thinF_IMG_20150728_160438_cell_8.png',\n",
       " 'C53P14thinF_IMG_20150726_114439_cell_99.png',\n",
       " 'C145P106ThinF_IMG_20151016_154844_cell_36.png',\n",
       " 'C237ThinF_IMG_20151127_104844_cell_244.png',\n",
       " 'C173P134NThinF_IMG_20151130_125501_cell_112.png',\n",
       " 'C130P91ThinF_IMG_20151004_142709_cell_110.png',\n",
       " 'C146P107ThinF_IMG_20151018_134554_cell_38.png',\n",
       " 'C240ThinF_IMG_20151127_115545_cell_207.png',\n",
       " 'C87P48ThinF_IMG_20150820_132327_cell_122.png',\n",
       " 'C147P108ThinF_IMG_20151115_103432_cell_26.png',\n",
       " 'C240ThinF_IMG_20151127_115328_cell_16.png',\n",
       " 'C55P16thinF_IMG_20150728_124508_cell_183.png',\n",
       " 'C125P86ThinF_IMG_20151004_102053_cell_84.png',\n",
       " 'C142P103ThinF_IMG_20151005_221931_cell_90.png',\n",
       " 'C3thin_original_IMG_20150608_163047_cell_214.png',\n",
       " 'C105P66ThinF_IMG_20150924_095716_cell_57.png',\n",
       " 'C70P31_ThinF_IMG_20150813_131609_cell_50.png',\n",
       " 'C73P34_ThinF_IMG_20150815_111422_cell_134.png',\n",
       " 'C141P102ThinF_IMG_20151005_214033_cell_9.png',\n",
       " 'C79P40ThinF_IMG_20150817_104745_cell_77.png',\n",
       " 'C157P118ThinF_IMG_20151115_164141_cell_147.png',\n",
       " 'C116P77ThinF_IMG_20150930_172112_cell_12.png',\n",
       " 'C101P62ThinF_IMG_20150918_151239_cell_14.png',\n",
       " 'C211ThinF_IMG_20151029_164033_cell_163.png',\n",
       " 'C77P38ThinF_IMG_20150602_142303_cell_125.png',\n",
       " 'C225ThinF_IMG_20151112_113953_cell_20.png',\n",
       " 'C42P5thin_original_IMG_20150623_134426_cell_131.png',\n",
       " 'C87P48ThinF_IMG_20150820_132642_cell_83.png',\n",
       " 'C106P67ThinF_IMG_20150924_103245_cell_109.png',\n",
       " 'C202ThinF_IMG_20151015_152333_cell_215.png',\n",
       " 'C121P82ThinF_IMG_20151002_132926_cell_1.png',\n",
       " 'C104P65ThinF_IMG_20150918_171751_cell_109.png',\n",
       " 'C228ThinF_IMG_20151112_142900_cell_208.png',\n",
       " 'C220ThinF_IMG_20151106_154016_cell_201.png',\n",
       " 'C114P75ThinF_IMG_20150930_150555_cell_141.png',\n",
       " 'C147P108ThinF_IMG_20151115_103432_cell_169.png',\n",
       " 'C94P55ThinF_IMG_20150821_165118_cell_262.png',\n",
       " 'C122P83ThinF_IMG_20151002_144855_cell_61.png',\n",
       " 'C60P21thinF_IMG_20150803_144003_cell_81.png',\n",
       " 'C107P68ThinF_IMG_20150924_222630_cell_105.png',\n",
       " 'C123P84ThinF_IMG_20151002_152144_cell_10.png',\n",
       " 'C216ThinF_IMG_20151106_135228_cell_94.png',\n",
       " 'C185P146ThinF_IMG_20151203_110817_cell_251.png',\n",
       " 'C81P42ThinF_IMG_20150817_120524_cell_40.png',\n",
       " 'C128P89ThinF_IMG_20151004_130408_cell_45.png',\n",
       " 'C129P90ThinF_IMG_20151004_133329_cell_10.png',\n",
       " 'C4thin_original_IMG_20150608_165620_cell_39.png',\n",
       " 'C180P141NThinF_IMG_20151201_164714_cell_139.png',\n",
       " 'C233ThinF_IMG_20151112_160059_cell_27.png',\n",
       " 'C217ThinF_IMG_20151106_141135_cell_197.png',\n",
       " 'C4thin_original_IMG_20150608_165620_cell_227.png',\n",
       " 'C136P97ThinF_IMG_20151005_141321_cell_85.png',\n",
       " 'C187P148NThinF_IMG_20151203_153713_cell_78.png',\n",
       " 'C149P110ThinF_IMG_20151115_114629_cell_239.png',\n",
       " 'C4thin_original_IMG_20150608_170016_cell_104.png',\n",
       " 'C33P1thinF_IMG_20150619_121503a_cell_143.png',\n",
       " 'C86P47ThinF_IMG_20150820_124943_cell_51.png',\n",
       " 'C78P39ThinF_IMG_20150606_103413_cell_157.png',\n",
       " 'C164P125ThinF_IMG_20151116_113651_cell_69.png',\n",
       " 'C82P43ThinF_IMG_20150817_123500_cell_183.png',\n",
       " 'C150P111ThinF_IMG_20151115_115950_cell_9.png',\n",
       " 'C237ThinF_IMG_20151127_105345_cell_259.png',\n",
       " 'C103P64ThinF_IMG_20150918_165510_cell_65.png',\n",
       " 'C90P51ThinF_IMG_20150821_120044_cell_126.png',\n",
       " 'C86P47ThinF_IMG_20150820_124025_cell_153.png',\n",
       " 'C134P95ThinF_IMG_20151005_121048_cell_93.png',\n",
       " 'C155P116ThinF_IMG_20151115_142526_cell_7.png',\n",
       " 'C174P135NThinF_IMG_20151127_135512_cell_128.png',\n",
       " 'C39P4thinF_original_IMG_20150622_110115_cell_5.png',\n",
       " 'C211ThinF_IMG_20151029_164451_cell_120.png',\n",
       " 'C101P62ThinF_IMG_20150918_151149_cell_32.png',\n",
       " 'C106P67ThinF_IMG_20150924_102245_cell_86.png',\n",
       " 'C96P57ThinF_IMG_20150824_105445_cell_139.png',\n",
       " 'C7NthinF_IMG_20150611_104753_cell_163.png',\n",
       " 'C121P82ThinF_IMG_20151002_135237_cell_89.png',\n",
       " 'C230ThinF_IMG_20151112_150730_cell_7.png',\n",
       " 'C188P149ThinF_IMG_20151203_134209_cell_39.png',\n",
       " 'C139P100ThinF_IMG_20151005_182527_cell_6.png',\n",
       " 'C153P114ThinF_IMG_20151115_135911_cell_237.png',\n",
       " 'C122P83ThinF_IMG_20151002_145751_cell_125.png',\n",
       " 'C57P18thinF_IMG_20150729_111518_cell_18.png',\n",
       " 'C140P101ThinF_IMG_20151005_211530_cell_15.png',\n",
       " 'C145P106ThinF_IMG_20151016_154756_cell_5.png',\n",
       " 'C128P89ThinF_IMG_20151004_131632_cell_106.png',\n",
       " 'C112P73ThinF_IMG_20150930_131254_cell_46.png',\n",
       " 'C163P124ThinF_IMG_20151116_111925_cell_25.png',\n",
       " 'C179P140ThinF_IMG_20151127_153420_cell_161.png',\n",
       " 'C112P73ThinF_IMG_20150930_131254_cell_37.png',\n",
       " 'C221ThinF_IMG_20151106_160022_cell_37.png',\n",
       " 'C137P98ThinF_IMG_20151005_163901_cell_38.png',\n",
       " 'C5NThinF_IMG_20150609_122108_cell_210.png',\n",
       " 'C92P53ThinF_IMG_20150821_150718_cell_201.png',\n",
       " 'C214ThinF_IMG_20151106_114910_cell_36.png',\n",
       " 'C94P55ThinF_IMG_20150821_170403_cell_30.png',\n",
       " 'C160P121ThinF_IMG_20151116_092925_cell_49.png',\n",
       " 'C94P55ThinF_IMG_20150821_165118_cell_74.png',\n",
       " 'C148P109ThinF_IMG_20151115_112855_cell_188.png',\n",
       " 'C237ThinF_IMG_20151127_104748_cell_152.png',\n",
       " 'C167P128ReThinF_IMG_20151201_105707_cell_135.png',\n",
       " 'C108P69ThinF_IMG_20150924_225511_cell_135.png',\n",
       " 'C108P69ThinF_IMG_20150924_224038_cell_36.png',\n",
       " 'C112P73ThinF_IMG_20150930_131753_cell_80.png',\n",
       " 'C120P81ThinF_IMG_20151002_125443_cell_81.png',\n",
       " 'C38P3thinF_original_IMG_20150621_112246_cell_218.png',\n",
       " 'C77P38ThinF_IMG_20150601_152941_cell_47.png',\n",
       " 'C209ThinF_IMG_20151029_160721_cell_126.png',\n",
       " 'C55P16thinF_IMG_20150728_123154_cell_47.png',\n",
       " 'C51AP12thinF_IMG_20150724_155947_cell_16.png',\n",
       " 'C51AP12thinF_IMG_20150724_162636_cell_4.png',\n",
       " 'C136P97ThinF_IMG_20151005_140646_cell_3.png',\n",
       " 'C151P112ThinF_IMG_20151115_121644_cell_41.png',\n",
       " 'C119P80ThinF_IMG_20151002_124425_cell_122.png',\n",
       " 'C158P119ThinF_IMG_20151115_183157_cell_112.png',\n",
       " 'C183P144NThinF_IMG_20151201_223357_cell_92.png',\n",
       " 'C49P10thinF_IMG_20150724_103054_cell_132.png',\n",
       " 'C159P120ThinF_IMG_20151115_185541_cell_69.png',\n",
       " 'C97P58ThinF_IMG_20150917_151320_cell_54.png',\n",
       " 'C173P134NThinF_IMG_20151130_120046_cell_228.png',\n",
       " 'C212ThinF_IMG_20151106_105834_cell_284.png',\n",
       " 'C186P147NThinF_IMG_20151203_150808_cell_66.png',\n",
       " 'C230ThinF_IMG_20151112_150621_cell_213.png',\n",
       " 'C230ThinF_IMG_20151112_150730_cell_185.png',\n",
       " 'C56P17thinF_IMG_20150728_160256_cell_99.png',\n",
       " 'C1_thinF_IMG_20150604_105100_cell_53.png',\n",
       " 'C222ThinF_IMG_20151115_150057_cell_43.png',\n",
       " 'C82P43ThinF_IMG_20150817_124010_cell_58.png',\n",
       " 'C69P30N_ThinF_IMG_20150819_135705_cell_155.png',\n",
       " 'C240ThinF_IMG_20151127_115223_cell_144.png',\n",
       " 'C64P25N_ThinF_IMG_20150818_152921_cell_12.png',\n",
       " 'C159P120ThinF_IMG_20151115_190002_cell_215.png',\n",
       " 'C204ThinF_IMG_20151029_110627_cell_250.png',\n",
       " 'C114P75ThinF_IMG_20150930_150555_cell_102.png',\n",
       " 'C46P7ThinF_IMG_20151130_205558_cell_35.png',\n",
       " 'C208ThinF_IMG_20151029_155411_cell_11.png',\n",
       " 'C141P102ThinF_IMG_20151005_214836_cell_98.png',\n",
       " 'C88P49ThinF_IMG_20150820_153042_cell_15.png',\n",
       " 'C174P135NThinF_IMG_20151127_135512_cell_34.png',\n",
       " 'C157P118ThinF_IMG_20151115_164755_cell_159.png',\n",
       " 'C217ThinF_IMG_20151106_141649_cell_40.png',\n",
       " 'C65P26N_ThinF_IMG_20150818_154326_cell_179.png',\n",
       " 'C207ThinF_IMG_20151029_143711_cell_40.png',\n",
       " 'C203ThinF_IMG_20151029_105443_cell_74.png',\n",
       " 'C181P142ThinF_IMG_20151127_160650_cell_112.png',\n",
       " 'C97P58ThinF_IMG_20150917_151551_cell_56.png',\n",
       " 'C181P142ThinF_IMG_20151127_155914_cell_136.png',\n",
       " 'C211ThinF_IMG_20151029_164451_cell_195.png',\n",
       " 'C142P103ThinF_IMG_20151005_221115_cell_20.png',\n",
       " 'C229ThinF_IMG_20151112_144534_cell_172.png',\n",
       " 'C170P131ThinF_IMG_20151119_120150_cell_104.png',\n",
       " 'C33P1thinF_IMG_20150619_120645a_cell_153.png',\n",
       " 'C175P136NThinF_IMG_20151127_142009_cell_117.png',\n",
       " 'C210ThinF_IMG_20151029_162834_cell_148.png',\n",
       " 'C1_thinF_IMG_20150604_104942_cell_59.png',\n",
       " 'C138P99ThinF_IMG_20151005_173241_cell_148.png',\n",
       " 'C83P44ThinF_IMG_20150817_133355_cell_144.png',\n",
       " 'C73P34_ThinF_IMG_20150815_111114_cell_144.png',\n",
       " 'C185P146ThinF_IMG_20151203_110817_cell_186.png',\n",
       " 'C217ThinF_IMG_20151106_141500_cell_98.png',\n",
       " 'C51AP12thinF_IMG_20150724_154330_cell_40.png',\n",
       " 'C186P147NThinF_IMG_20151203_150132_cell_143.png',\n",
       " 'C58P19thinF_IMG_20150802_122215_cell_129.png',\n",
       " 'C238NThinF_IMG_20151207_115017_cell_187.png',\n",
       " 'C69P30N_ThinF_IMG_20150819_140143_cell_86.png',\n",
       " 'C33P1thinF_IMG_20150619_120645a_cell_189.png',\n",
       " 'C144P105ThinF_IMG_20151015_160908_cell_27.png',\n",
       " 'C138P99ThinF_IMG_20151005_173453_cell_104.png',\n",
       " 'C111P72ThinF_IMG_20150930_113210_cell_153.png',\n",
       " 'C179P140ThinF_IMG_20151127_153819_cell_120.png',\n",
       " 'C168P129ThinF_IMG_20151118_154651_cell_94.png',\n",
       " 'C171P132ThinF_IMG_20151119_152913_cell_76.png',\n",
       " 'C126P87ThinF_IMG_20151004_105234_cell_102.png',\n",
       " 'C138P99ThinF_IMG_20151005_173241_cell_66.png',\n",
       " 'C216ThinF_IMG_20151106_135228_cell_104.png',\n",
       " 'C47P8thin_Original_Motic_IMG_20150714_093947_cell_147.png',\n",
       " 'C82P43ThinF_IMG_20150817_124010_cell_148.png',\n",
       " 'C146P107ThinF_IMG_20151018_140439_cell_3.png',\n",
       " 'C100P61ThinF_IMG_20150918_145042_cell_5.png',\n",
       " 'C166P127ThinF_IMG_20151117_194410_cell_61.png',\n",
       " 'C108P69ThinF_IMG_20150924_224616_cell_102.png',\n",
       " 'C114P75ThinF_IMG_20150930_150733_cell_5.png',\n",
       " 'C94P55ThinF_IMG_20150821_165118_cell_95.png',\n",
       " 'C117P78ThinF_IMG_20150930_221048_cell_61.png',\n",
       " 'C74P35_ThinF_IMG_20150815_114819_cell_42.png',\n",
       " 'C207ThinF_IMG_20151029_143711_cell_119.png',\n",
       " 'C233ThinF_IMG_20151112_160635_cell_182.png',\n",
       " 'C158P119ThinF_IMG_20151115_181859_cell_159.png',\n",
       " 'C187P148NThinF_IMG_20151203_152841_cell_64.png',\n",
       " 'C230ThinF_IMG_20151112_150621_cell_132.png',\n",
       " 'C160P121ThinF_IMG_20151116_093748_cell_101.png',\n",
       " 'C39P4thinF_original_IMG_20150622_111723_cell_46.png',\n",
       " 'C163P124ThinF_IMG_20151116_110921_cell_15.png',\n",
       " ...]"
      ]
     },
     "execution_count": 64,
     "metadata": {},
     "output_type": "execute_result"
    }
   ],
   "source": [
    "# la fonction os.listdir: liste toute les images\n",
    "os.listdir(noninf_path)"
   ]
  },
  {
   "cell_type": "code",
   "execution_count": 31,
   "id": "6dfbabb3",
   "metadata": {},
   "outputs": [
    {
     "data": {
      "text/plain": [
       "13780"
      ]
     },
     "execution_count": 31,
     "metadata": {},
     "output_type": "execute_result"
    }
   ],
   "source": [
    "len(os.listdir(noninf_path))"
   ]
  },
  {
   "cell_type": "code",
   "execution_count": 32,
   "id": "d5c187e1",
   "metadata": {},
   "outputs": [
    {
     "data": {
      "text/plain": [
       "'C119P80ThinF_IMG_20151002_123608_cell_94.png'"
      ]
     },
     "execution_count": 32,
     "metadata": {},
     "output_type": "execute_result"
    }
   ],
   "source": [
    "# pour voir le chemin de la première image de la cellule non infecté\n",
    "os.listdir(noninf_path)[0]"
   ]
  },
  {
   "cell_type": "code",
   "execution_count": 33,
   "id": "f5321659",
   "metadata": {},
   "outputs": [
    {
     "data": {
      "text/plain": [
       "'C82P43ThinF_IMG_20150817_124728_cell_28.png'"
      ]
     },
     "execution_count": 33,
     "metadata": {},
     "output_type": "execute_result"
    }
   ],
   "source": [
    "# pour voir le chemin de la première image de la cellule non infecté\n",
    "os.listdir(para_path)[0]"
   ]
  },
  {
   "cell_type": "code",
   "execution_count": 34,
   "id": "fd0e9691",
   "metadata": {},
   "outputs": [],
   "source": [
    "# determination du chemin exacte\n",
    "para_cell=para_path+'/C82P43ThinF_IMG_20150817_124728_cell_28.png'\n",
    "noninf_cell=noninf_path+'/C156P117ThinF_IMG_20151115_154022_cell_64.png'\n"
   ]
  },
  {
   "cell_type": "code",
   "execution_count": 35,
   "id": "db3e2574",
   "metadata": {},
   "outputs": [
    {
     "data": {
      "text/plain": [
       "'/home/titon/Documents/Projet_France_Relance-20220311T093327Z-001/Projet_France_Relance/cell_images/Parasitized/C82P43ThinF_IMG_20150817_124728_cell_28.png'"
      ]
     },
     "execution_count": 35,
     "metadata": {},
     "output_type": "execute_result"
    }
   ],
   "source": [
    "para_cell"
   ]
  },
  {
   "cell_type": "code",
   "execution_count": 36,
   "id": "fc50b9e6",
   "metadata": {},
   "outputs": [
    {
     "data": {
      "text/plain": [
       "'/home/titon/Documents/Projet_France_Relance-20220311T093327Z-001/Projet_France_Relance/cell_images/Uninfected/C156P117ThinF_IMG_20151115_154022_cell_64.png'"
      ]
     },
     "execution_count": 36,
     "metadata": {},
     "output_type": "execute_result"
    }
   ],
   "source": [
    "noninf_cell"
   ]
  },
  {
   "cell_type": "code",
   "execution_count": 36,
   "id": "bbe1abef",
   "metadata": {},
   "outputs": [
    {
     "data": {
      "text/plain": [
       "(115, 136, 3)"
      ]
     },
     "execution_count": 36,
     "metadata": {},
     "output_type": "execute_result"
    }
   ],
   "source": [
    "# Pour lire les images  utilisation de imread() plus le chemin exacte de l'image\n",
    "# ce qui transforme l'image au format png en tableau numpy\n",
    "# on a une image de 121 par 121 pixels et 3 canaaux de couleurs\n",
    "imread(noninf_cell).shape"
   ]
  },
  {
   "cell_type": "code",
   "execution_count": 37,
   "id": "7cc7e3cd",
   "metadata": {},
   "outputs": [
    {
     "data": {
      "text/plain": [
       "<matplotlib.image.AxesImage at 0x7fb6fc562f10>"
      ]
     },
     "execution_count": 37,
     "metadata": {},
     "output_type": "execute_result"
    },
    {
     "data": {
      "image/png": "[encoded data removed]",
      "text/plain": [
       "<Figure size 432x288 with 1 Axes>"
      ]
     },
     "metadata": {
      "needs_background": "light"
     },
     "output_type": "display_data"
    }
   ],
   "source": [
    "import matplotlib.pyplot as plt\n",
    "# Pour voir la cellule infectée, utilisation de plt.imshow()\n",
    "plt.imshow(imread(para_cell))\n",
    "\n",
    "# on note une petite tache foncée qui représente la partie infectée de la céllule"
   ]
  },
  {
   "cell_type": "code",
   "execution_count": 38,
   "id": "7d304381",
   "metadata": {},
   "outputs": [
    {
     "data": {
      "text/plain": [
       "(115, 136, 3)"
      ]
     },
     "execution_count": 38,
     "metadata": {},
     "output_type": "execute_result"
    }
   ],
   "source": [
    "# pour une cellule non infectée\n",
    "imread(noninf_cell).shape"
   ]
  },
  {
   "cell_type": "code",
   "execution_count": 39,
   "id": "5912c5b2",
   "metadata": {},
   "outputs": [
    {
     "data": {
      "text/plain": [
       "<matplotlib.image.AxesImage at 0x7fb6fc5a1370>"
      ]
     },
     "execution_count": 39,
     "metadata": {},
     "output_type": "execute_result"
    },
    {
     "data": {
      "image/png": "[encoded data removed]",
      "text/plain": [
       "<Figure size 432x288 with 1 Axes>"
      ]
     },
     "metadata": {
      "needs_background": "light"
     },
     "output_type": "display_data"
    }
   ],
   "source": [
    "# pour voir la cellule non infectée\n",
    "plt.imshow(imread(noninf_cell))"
   ]
  },
  {
   "cell_type": "code",
   "execution_count": 73,
   "id": "28f837bf",
   "metadata": {},
   "outputs": [
    {
     "data": {
      "text/plain": [
       "13780"
      ]
     },
     "execution_count": 73,
     "metadata": {},
     "output_type": "execute_result"
    }
   ],
   "source": [
    "# Pour voir le nombre d'image pour les cellules infectées par exemple\n",
    "len(os.listdir(para_path))"
   ]
  },
  {
   "cell_type": "code",
   "execution_count": null,
   "id": "005fb2e2",
   "metadata": {},
   "outputs": [],
   "source": [
    "# les images réelles peuvent être de différentes dimensions\n",
    "# Pour voir la taille moyenne(la forme) de ces images\n",
    "# on itère à travers tous les fichiers images du dossier des cellules non infectées \n",
    "# ensuite vérification de la forme ou la taille de chaque image avec l'attibut .shape\n",
    "# enfin enregistrment de la 1ère dimension et la seconde d dans les listes de dimension dim1 et dim2\n",
    "\n",
    "dim1=[]\n",
    "dim2=[]\n",
    "\n",
    "for image_filename in os.listdir(para_path):\n",
    "    img=imread(para_path +'/' + image_filename)\n",
    "    d1,d2,colors=img.shape\n",
    "    dim1.append(d1)\n",
    "    dim2.append(d2)"
   ]
  },
  {
   "cell_type": "code",
   "execution_count": null,
   "id": "264343ca",
   "metadata": {},
   "outputs": [],
   "source": [
    "# histogramme de ces deux dimensions pour voir leur variation\n",
    "# il faut redimensionner toutes ces images pour quelle soit de même taille \n",
    "# Utilisation de la moyenne pour fixer la dimension du CNN\n",
    "#(130,130,3)\n",
    "# si par ex plus petite photo,cela va ajouter du padding ou du rembourage des pixels autour de l'image\n",
    "#si grande photo,\n",
    "sns.jointplot(dim1,dim2)\n",
    "np.mean(dim1)"
   ]
  },
  {
   "cell_type": "code",
   "execution_count": null,
   "id": "7530cb8e",
   "metadata": {},
   "outputs": [],
   "source": []
  },
  {
   "cell_type": "markdown",
   "id": "dcd833d1",
   "metadata": {},
   "source": [
    "# ImageDataGenerator\n",
    " - cette classe permet d'alimenter depuis le répertoire où se trouve réellement les images des batchs(lot) d'image\n",
    " - idéé de manipulation des imgages depuis le répertoire de fichiers"
   ]
  },
  {
   "cell_type": "code",
   "execution_count": 31,
   "id": "ac6fcf74",
   "metadata": {},
   "outputs": [],
   "source": [
    "from tensorflow.keras.preprocessing.image import ImageDataGenerator\n",
    "image_gen = ImageDataGenerator(rotation_range=20, # Faire pivoter l'image de 20 degrés\n",
    "                               width_shift_range=0.10, # Modifier la largeur de la photo de 10% maximum\n",
    "                               height_shift_range=0.10, # Modifier la hauteur de la photo de 10% maximum\n",
    "                               # rescale=1/255, # Redimensionner l'image en la normalisant\n",
    "                               shear_range=0.1, # shear signifie couper une partie de l'image (max 10%)\n",
    "                               zoom_range=0.1, # Zoom de 10% maximum\n",
    "                               horizontal_flip=True, # Autorise le basculement horizontal\n",
    "                               fill_mode='nearest' # Remplir les pixels manquants avec la valeur remplie la plus proche\n",
    "                              )"
   ]
  },
  {
   "cell_type": "markdown",
   "id": "6db2809b",
   "metadata": {},
   "source": [
    "# Genération du dataset d'entrainement et de validation à partir de ImageDataGenerator"
   ]
  },
  {
   "cell_type": "code",
   "execution_count": 16,
   "id": "da435457",
   "metadata": {},
   "outputs": [],
   "source": [
    "import tensorflow as tf\n",
    "from tensorflow import keras \n",
    "from tensorflow.keras.layers import Dense"
   ]
  },
  {
   "cell_type": "code",
   "execution_count": 73,
   "id": "2ec03316",
   "metadata": {},
   "outputs": [
    {
     "name": "stdout",
     "output_type": "stream",
     "text": [
      "Found 27558 files belonging to 2 classes.\n",
      "Using 22047 files for training.\n"
     ]
    }
   ],
   "source": [
    "# Données d'entraînement\n",
    "batch_size=16\n",
    "image_size=(130,130)\n",
    "train_data= tf.keras.preprocessing.image_dataset_from_directory(image_dir,\n",
    "                                                                   validation_split=0.2,\n",
    "                                                                   subset='training',\n",
    "                                                                   interpolation='nearest',\n",
    "                                                                   image_size=image_size,\n",
    "                                                                   color_mode='rgb',\n",
    "                                                                   seed=101,\n",
    "                                                                   label_mode='binary',\n",
    "                                                                   batch_size=batch_size,\n",
    ")                                                                                  \n"
   ]
  },
  {
   "cell_type": "code",
   "execution_count": 74,
   "id": "50b50a6c",
   "metadata": {},
   "outputs": [
    {
     "name": "stdout",
     "output_type": "stream",
     "text": [
      "Found 27558 files belonging to 2 classes.\n",
      "Using 5511 files for validation.\n"
     ]
    }
   ],
   "source": [
    "# Données de validation\n",
    "test_data= tf.keras.preprocessing.image_dataset_from_directory(image_dir,\n",
    "                                                                   validation_split=0.2,\n",
    "                                                                   interpolation='nearest',\n",
    "                                                                   subset='validation',\n",
    "                                                                   image_size=image_size,\n",
    "                                                                   color_mode='rgb',\n",
    "                                                                   seed=101,\n",
    "                                                                   label_mode='binary',\n",
    "                                                                   shuffle=False,\n",
    "                                                                   batch_size=batch_size,\n",
    ")"
   ]
  },
  {
   "cell_type": "code",
   "execution_count": 43,
   "id": "0059d8d4",
   "metadata": {},
   "outputs": [
    {
     "data": {
      "image/png": "[encoded data removed]",
      "text/plain": [
       "<Figure size 720x720 with 9 Axes>"
      ]
     },
     "metadata": {
      "needs_background": "light"
     },
     "output_type": "display_data"
    }
   ],
   "source": [
    "import matplotlib.pyplot as plt\n",
    "\n",
    "plt.figure(figsize=(10, 10))\n",
    "for images, labels in train_data.take(1):\n",
    "    for i in range(9):\n",
    "        ax = plt.subplot(3, 3, i + 1)\n",
    "        plt.imshow(images[i].numpy().astype(\"uint8\"))\n",
    "        plt.title(int(labels[i]))\n",
    "        plt.axis(\"off\")"
   ]
  },
  {
   "cell_type": "code",
   "execution_count": 26,
   "id": "a4b1aa4e",
   "metadata": {},
   "outputs": [],
   "source": [
    "# Import des librairies \n",
    "\n",
    "from tensorflow.keras.models import Sequential\n",
    "from tensorflow.keras.layers import Dense,Conv2D,Flatten,MaxPool2D,Activation,Dropout\n"
   ]
  },
  {
   "cell_type": "markdown",
   "id": "62bfd4d5",
   "metadata": {},
   "source": [
    "# Construction du modèle de réseau de neuronne convolutif"
   ]
  },
  {
   "cell_type": "code",
   "execution_count": 28,
   "id": "3d9e2112",
   "metadata": {},
   "outputs": [],
   "source": [
    "# Dimension moyenne des images dans le dataset\n",
    "image_shape=(130,130,3)\n",
    "\n",
    "model=Sequential()\n",
    "\n",
    "model.add(Conv2D(filters=32,kernel_size=(3,3),input_shape=image_shape,activation='relu'))\n",
    "model.add(MaxPool2D(2,2))\n",
    "\n",
    "model.add(Conv2D(filters=64,kernel_size=(3,3),input_shape=image_shape,activation='relu'))\n",
    "model.add(MaxPool2D(2,2))\n",
    "\n",
    "model.add(Conv2D(filters=64,kernel_size=(3,3),input_shape=image_shape,activation='relu'))\n",
    "model.add(MaxPool2D(2,2))\n",
    "\n",
    "model.add(Flatten())\n",
    "\n",
    "model.add(Dense(128,activation='relu'))\n",
    "\n",
    "# couche droptout permettant de contrôler l'overfitting\n",
    "\n",
    "model.add(Dropout(0.5))\n",
    "\n",
    "# Cas d'une classification binaire, pour la dernière couche utilisation de la sigmoïde\n",
    "\n",
    "model.add(Dense(1,activation='sigmoid'))\n",
    "\n",
    "# compilation du modèle\n",
    "\n",
    "model.compile(loss='binary_crossentropy',optimizer='adam',metrics=['accuracy'])\n",
    "\n"
   ]
  },
  {
   "cell_type": "code",
   "execution_count": 29,
   "id": "faa660f3",
   "metadata": {},
   "outputs": [
    {
     "name": "stdout",
     "output_type": "stream",
     "text": [
      "Model: \"sequential_3\"\n",
      "_________________________________________________________________\n",
      "Layer (type)                 Output Shape              Param #   \n",
      "=================================================================\n",
      "conv2d_6 (Conv2D)            (None, 128, 128, 32)      896       \n",
      "_________________________________________________________________\n",
      "max_pooling2d_6 (MaxPooling2 (None, 64, 64, 32)        0         \n",
      "_________________________________________________________________\n",
      "conv2d_7 (Conv2D)            (None, 62, 62, 64)        18496     \n",
      "_________________________________________________________________\n",
      "max_pooling2d_7 (MaxPooling2 (None, 31, 31, 64)        0         \n",
      "_________________________________________________________________\n",
      "conv2d_8 (Conv2D)            (None, 29, 29, 64)        36928     \n",
      "_________________________________________________________________\n",
      "max_pooling2d_8 (MaxPooling2 (None, 14, 14, 64)        0         \n",
      "_________________________________________________________________\n",
      "flatten_2 (Flatten)          (None, 12544)             0         \n",
      "_________________________________________________________________\n",
      "dense_2 (Dense)              (None, 128)               1605760   \n",
      "_________________________________________________________________\n",
      "dropout_1 (Dropout)          (None, 128)               0         \n",
      "_________________________________________________________________\n",
      "dense_3 (Dense)              (None, 1)                 129       \n",
      "=================================================================\n",
      "Total params: 1,662,209\n",
      "Trainable params: 1,662,209\n",
      "Non-trainable params: 0\n",
      "_________________________________________________________________\n"
     ]
    }
   ],
   "source": [
    "model1.summary()"
   ]
  },
  {
   "cell_type": "markdown",
   "id": "21dbba2a",
   "metadata": {},
   "source": [
    "# Earlystopping: Mécanisme d'arrêt anticipé"
   ]
  },
  {
   "cell_type": "code",
   "execution_count": 32,
   "id": "7ca7783a",
   "metadata": {},
   "outputs": [],
   "source": [
    "from tensorflow.keras.callbacks import EarlyStopping\n",
    "early_stop=EarlyStopping(monitor='val_loss',patience=2)"
   ]
  },
  {
   "cell_type": "markdown",
   "id": "9a8cdae0",
   "metadata": {},
   "source": [
    "# Entraînement du modèle"
   ]
  },
  {
   "cell_type": "code",
   "execution_count": null,
   "id": "f102c166",
   "metadata": {},
   "outputs": [],
   "source": [
    "help(image_gen.flow_from_directory)"
   ]
  },
  {
   "cell_type": "code",
   "execution_count": 43,
   "id": "7adde85b",
   "metadata": {},
   "outputs": [
    {
     "name": "stdout",
     "output_type": "stream",
     "text": [
      "Epoch 1/20\n"
     ]
    },
    {
     "name": "stderr",
     "output_type": "stream",
     "text": [
      "2022-04-01 16:00:23.171262: I tensorflow/compiler/mlir/mlir_graph_optimization_pass.cc:116] None of the MLIR optimization passes are enabled (registered 2)\n",
      "2022-04-01 16:00:23.232243: I tensorflow/core/platform/profile_utils/cpu_utils.cc:112] CPU Frequency: 2599990000 Hz\n"
     ]
    },
    {
     "name": "stdout",
     "output_type": "stream",
     "text": [
      "1378/1378 [==============================] - 528s 379ms/step - loss: 2.1208 - accuracy: 0.5644 - val_loss: 0.6006 - val_accuracy: 0.6935\n",
      "Epoch 2/20\n",
      "1378/1378 [==============================] - 489s 354ms/step - loss: 0.6592 - accuracy: 0.6197 - val_loss: 0.6582 - val_accuracy: 0.6093\n",
      "Epoch 3/20\n",
      "1378/1378 [==============================] - 558s 404ms/step - loss: 0.6409 - accuracy: 0.6365 - val_loss: 0.6693 - val_accuracy: 0.5832\n"
     ]
    }
   ],
   "source": [
    "results = model.fit(train_data,epochs=20,\n",
    "                              validation_data=test_data,\n",
    "                             callbacks=[early_stop])"
   ]
  },
  {
   "cell_type": "code",
   "execution_count": 45,
   "id": "39b3c665",
   "metadata": {},
   "outputs": [],
   "source": [
    "model.save('my_model_cnn.h5')"
   ]
  },
  {
   "cell_type": "code",
   "execution_count": 20,
   "id": "8b0f4f79",
   "metadata": {
    "collapsed": true
   },
   "outputs": [
    {
     "name": "stderr",
     "output_type": "stream",
     "text": [
      "2022-04-06 09:16:23.781554: W tensorflow/stream_executor/platform/default/dso_loader.cc:64] Could not load dynamic library 'libcuda.so.1'; dlerror: libcuda.so.1: cannot open shared object file: No such file or directory\n",
      "2022-04-06 09:16:23.800807: W tensorflow/stream_executor/cuda/cuda_driver.cc:269] failed call to cuInit: UNKNOWN ERROR (303)\n",
      "2022-04-06 09:16:23.822181: I tensorflow/stream_executor/cuda/cuda_diagnostics.cc:156] kernel driver does not appear to be running on this host (hprisser): /proc/driver/nvidia/version does not exist\n",
      "2022-04-06 09:16:24.001703: I tensorflow/core/platform/cpu_feature_guard.cc:151] This TensorFlow binary is optimized with oneAPI Deep Neural Network Library (oneDNN) to use the following CPU instructions in performance-critical operations:  AVX2 FMA\n",
      "To enable them in other operations, rebuild TensorFlow with the appropriate compiler flags.\n"
     ]
    }
   ],
   "source": [
    "from tensorflow.keras.models import load_model\n",
    "model1=load_model('my_model_cnn.h5')"
   ]
  },
  {
   "cell_type": "markdown",
   "id": "a9604923",
   "metadata": {},
   "source": [
    "# Evaluation du modèle"
   ]
  },
  {
   "cell_type": "code",
   "execution_count": 21,
   "id": "0d4d4b49",
   "metadata": {},
   "outputs": [
    {
     "data": {
      "text/plain": [
       "['loss', 'accuracy']"
      ]
     },
     "execution_count": 21,
     "metadata": {},
     "output_type": "execute_result"
    }
   ],
   "source": [
    "model1.metrics_names"
   ]
  },
  {
   "cell_type": "code",
   "execution_count": 44,
   "id": "7146643b",
   "metadata": {},
   "outputs": [
    {
     "name": "stdout",
     "output_type": "stream",
     "text": [
      "345/345 [==============================] - 16s 44ms/step - loss: 0.6693 - accuracy: 0.5832\n"
     ]
    },
    {
     "data": {
      "text/plain": [
       "[0.669266939163208, 0.5831972360610962]"
      ]
     },
     "execution_count": 44,
     "metadata": {},
     "output_type": "execute_result"
    }
   ],
   "source": [
    "model1.evaluate(test_data)"
   ]
  },
  {
   "cell_type": "code",
   "execution_count": 45,
   "id": "16ec08e8",
   "metadata": {},
   "outputs": [
    {
     "name": "stdout",
     "output_type": "stream",
     "text": [
      "1378/1378 [==============================] - 95s 69ms/step - loss: 0.6075 - accuracy: 0.6734\n"
     ]
    },
    {
     "data": {
      "text/plain": [
       "[0.607490599155426, 0.6734249591827393]"
      ]
     },
     "execution_count": 45,
     "metadata": {},
     "output_type": "execute_result"
    }
   ],
   "source": [
    "model1.evaluate(train_data)"
   ]
  },
  {
   "cell_type": "code",
   "execution_count": 48,
   "id": "fe335427",
   "metadata": {},
   "outputs": [],
   "source": [
    "# Calcul des probabilités de classification\n",
    "pred_probabilities = model1.predict(test_data)"
   ]
  },
  {
   "cell_type": "code",
   "execution_count": 69,
   "id": "a7802acd",
   "metadata": {},
   "outputs": [
    {
     "data": {
      "text/plain": [
       "array([[0.6349845 ],\n",
       "       [0.7566862 ],\n",
       "       [0.38914442],\n",
       "       ...,\n",
       "       [0.50175583],\n",
       "       [0.436036  ],\n",
       "       [0.3862331 ]], dtype=float32)"
      ]
     },
     "execution_count": 69,
     "metadata": {},
     "output_type": "execute_result"
    }
   ],
   "source": [
    "pred_probabilities"
   ]
  },
  {
   "cell_type": "code",
   "execution_count": 75,
   "id": "46cacbac",
   "metadata": {},
   "outputs": [
    {
     "data": {
      "text/plain": [
       "<BatchDataset element_spec=(TensorSpec(shape=(None, 130, 130, 3), dtype=tf.uint8, name=None), TensorSpec(shape=(None, 1), dtype=tf.float32, name=None))>"
      ]
     },
     "execution_count": 75,
     "metadata": {},
     "output_type": "execute_result"
    }
   ],
   "source": [
    "test_data"
   ]
  },
  {
   "cell_type": "code",
   "execution_count": 71,
   "id": "f7bc4d66",
   "metadata": {},
   "outputs": [],
   "source": [
    "predictions=pred_probabilities>0.5"
   ]
  },
  {
   "cell_type": "code",
   "execution_count": 53,
   "id": "454c2023",
   "metadata": {},
   "outputs": [],
   "source": [
    "from sklearn.metrics import classification_report,confusion_matrix"
   ]
  },
  {
   "cell_type": "code",
   "execution_count": 61,
   "id": "5e2eba97",
   "metadata": {},
   "outputs": [
    {
     "data": {
      "text/plain": [
       "(None, 130, 130, 3)"
      ]
     },
     "execution_count": 61,
     "metadata": {},
     "output_type": "execute_result"
    }
   ],
   "source": [
    "model.input_shape"
   ]
  },
  {
   "cell_type": "markdown",
   "id": "94104f6c",
   "metadata": {},
   "source": [
    "# Explicabilité du modèle"
   ]
  },
  {
   "cell_type": "code",
   "execution_count": 16,
   "id": "71742983",
   "metadata": {},
   "outputs": [],
   "source": [
    "from lime import lime_image\n"
   ]
  },
  {
   "cell_type": "code",
   "execution_count": 17,
   "id": "69e45a0d",
   "metadata": {},
   "outputs": [],
   "source": [
    "explainer=lime_image.LimeImageExplainer(random_state=42)"
   ]
  },
  {
   "cell_type": "code",
   "execution_count": null,
   "id": "bf82f547",
   "metadata": {},
   "outputs": [],
   "source": [
    "# redimensionner l'image pour le caliber au dimension de notre modèle : (130,130,3)\n",
    "image=para_cell.reshape(1,130,130)"
   ]
  },
  {
   "cell_type": "code",
   "execution_count": null,
   "id": "00d1dd6a",
   "metadata": {},
   "outputs": [],
   "source": [
    "explanation=explainer.explain_instance(.astype('double'), model.predict,top_labels=2, hide_color=0, num_samples=1000 )"
   ]
  },
  {
   "cell_type": "code",
   "execution_count": 81,
   "id": "2998f4d4",
   "metadata": {},
   "outputs": [],
   "source": []
  },
  {
   "cell_type": "code",
   "execution_count": null,
   "id": "b0de8463",
   "metadata": {},
   "outputs": [],
   "source": []
  }
 ],
 "metadata": {
  "celltoolbar": "Aucun(e)",
  "kernelspec": {
   "display_name": "Python 3 (ipykernel)",
   "language": "python",
   "name": "python3"
  },
  "language_info": {
   "codemirror_mode": {
    "name": "ipython",
    "version": 3
   },
   "file_extension": ".py",
   "mimetype": "text/x-python",
   "name": "python",
   "nbconvert_exporter": "python",
   "pygments_lexer": "ipython3",
   "version": "3.9.7"
  }
 },
 "nbformat": 4,
 "nbformat_minor": 5
}
